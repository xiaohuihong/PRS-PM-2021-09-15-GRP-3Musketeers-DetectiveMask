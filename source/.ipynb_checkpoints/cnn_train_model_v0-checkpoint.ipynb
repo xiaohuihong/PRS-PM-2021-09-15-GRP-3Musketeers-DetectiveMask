{
 "cells": [
  {
   "cell_type": "markdown",
   "metadata": {},
   "source": [
    "## **1. Import the necessary libraries** ---"
   ]
  },
  {
   "cell_type": "code",
   "execution_count": 1,
   "metadata": {},
   "outputs": [
    {
     "name": "stdout",
     "output_type": "stream",
     "text": [
      "Versions of key libraries\n",
      "---\n",
      "tensorflow:  2.3.0\n",
      "numpy:       1.18.5\n",
      "matplotlib:  3.4.2\n",
      "sklearn:     0.24.2\n"
     ]
    }
   ],
   "source": [
    "import matplotlib\n",
    "import sklearn\n",
    "import numpy as np\n",
    "import pandas as pd\n",
    "import sklearn.metrics as metrics\n",
    "import matplotlib.pyplot as plt\n",
    "import tensorflow as tf\n",
    "\n",
    "\n",
    "from tensorflow.keras.callbacks import ModelCheckpoint,CSVLogger\n",
    "from tensorflow.keras.models import Model\n",
    "from tensorflow.keras.layers import Input\n",
    "from tensorflow.keras.layers import Dense\n",
    "from tensorflow.keras.layers import Dropout\n",
    "from tensorflow.keras.layers import Flatten\n",
    "from tensorflow.keras.layers import Conv2D\n",
    "from tensorflow.keras.layers import MaxPooling2D\n",
    "from tensorflow.keras.layers import BatchNormalization\n",
    "from tensorflow.keras.layers import Activation\n",
    "from tensorflow.keras.utils import to_categorical\n",
    "from tensorflow.keras.utils import plot_model\n",
    "from tensorflow.keras.datasets import cifar10\n",
    "from tensorflow.keras import optimizers\n",
    "from tensorflow.keras import regularizers\n",
    "\n",
    "print(\"Versions of key libraries\")\n",
    "print(\"---\")\n",
    "print(\"tensorflow: \", tf.__version__)\n",
    "print(\"numpy:      \", np.__version__)\n",
    "print(\"matplotlib: \", matplotlib.__version__)\n",
    "print(\"sklearn:    \", sklearn.__version__)"
   ]
  },
  {
   "cell_type": "markdown",
   "metadata": {},
   "source": [
    "## **2.Create a function to plot image without axis** ---"
   ]
  },
  {
   "cell_type": "code",
   "execution_count": 2,
   "metadata": {},
   "outputs": [
    {
     "name": "stdout",
     "output_type": "stream",
     "text": [
      "<function implt at 0x0000027DB301C438>\n"
     ]
    }
   ],
   "source": [
    "def implt(img):\n",
    "    plt.figure()\n",
    "    plt.imshow(img)\n",
    "    plt.axis('off')\n",
    "\n",
    "print(implt)"
   ]
  },
  {
   "cell_type": "markdown",
   "metadata": {},
   "source": [
    "## **3. Set matplotlib to have seaborn plot style**"
   ]
  },
  {
   "cell_type": "code",
   "execution_count": 3,
   "metadata": {},
   "outputs": [
    {
     "name": "stdout",
     "output_type": "stream",
     "text": [
      "Matplotlib setup completes.\n"
     ]
    }
   ],
   "source": [
    "plt.style.use('seaborn')                   # if want to use the default style, set 'classic'\n",
    "plt.rcParams['ytick.right']     = True\n",
    "plt.rcParams['ytick.labelright']= True\n",
    "plt.rcParams['ytick.left']      = False\n",
    "plt.rcParams['ytick.labelleft'] = False\n",
    "plt.rcParams['figure.figsize']  = [7,7]   # Set the figure size to be 7 inch for (width,height)\n",
    "\n",
    "print(\"Matplotlib setup completes.\")"
   ]
  },
  {
   "cell_type": "markdown",
   "metadata": {},
   "source": [
    "## **4. Prepare data for training and testing**\n",
    "---\n",
    "* Step 1: Load the images\n",
    "* Step 2: Check the shape and type of the data\n",
    "* Step 3: Convert the data into float32 and rescale the values from the range of 0\\~255 into 0\\~1\n",
    "* Step 4: Retrieve the row size and the column size of each image\n",
    "* Step 5: Perform one-hot enconding on the labels\n",
    "* Step 6: Retrieve the number of classes in this problem"
   ]
  },
  {
   "cell_type": "code",
   "execution_count": 4,
   "metadata": {},
   "outputs": [
    {
     "name": "stderr",
     "output_type": "stream",
     "text": [
      "C:\\Users\\HONG0\\.conda\\envs\\detective_mask\\lib\\site-packages\\PIL\\Image.py:974: UserWarning: Palette images with Transparency expressed in bytes should be converted to RGBA images\n",
      "  \"Palette images with Transparency expressed in bytes should be \"\n"
     ]
    },
    {
     "name": "stdout",
     "output_type": "stream",
     "text": [
      "The shape of trDat is (6042, 128, 128, 3) and the type of trDat is float32\n",
      "The shape of tsDat is (1511, 128, 128, 3) and the type of tsDat is float32\n",
      "\n",
      "The shape of trLbl is (6042,) and the type of trLbl is <U12\n",
      "The shape of tsLbl is (1511,) and the type of tsLbl is <U12\n"
     ]
    }
   ],
   "source": [
    "from imutils import paths\n",
    "import os, sys\n",
    "from tensorflow.keras.preprocessing.image import load_img, img_to_array\n",
    "from sklearn.preprocessing import LabelBinarizer\n",
    "from tensorflow.keras.utils import to_categorical\n",
    "from sklearn.model_selection import train_test_split\n",
    "\n",
    "def collect_images_and_labels(path_to_images):\n",
    "    # in seguito, usare https://keras.io/api/preprocessing/image/\n",
    "    \"\"\"\n",
    "        :param path_to_images should be the root folder, in which there is a folder for each label, and the folder's name is\n",
    "        the label itself\n",
    "        :return: a list with images and a list with labels\n",
    "        \"\"\"\n",
    "    data = []\n",
    "    labels = []\n",
    "\n",
    "    for img_path in list(paths.list_images(path_to_images)):\n",
    "        # extract the class label from the filename\n",
    "        label = img_path.split(os.path.sep)[-2]\n",
    "\n",
    "        # load the input image as (128x128) and preprocess it\n",
    "        image = load_img(img_path, target_size=(128, 128))\n",
    "        image = img_to_array(image)\n",
    "        #image = preprocess_input(image)\n",
    "\n",
    "        # update the data and labels lists, respectively\n",
    "        data.append(image)\n",
    "        labels.append(label)\n",
    "\n",
    "    return data, labels\n",
    "\n",
    "def preprocess_labels(labels):\n",
    "    \"\"\"\n",
    "    :param labels: list of string\n",
    "    :return: np array of 0/1\n",
    "    \"\"\"\n",
    "    lb = LabelBinarizer()\n",
    "    labels = lb.fit_transform(labels)\n",
    "    labels = to_categorical(labels)\n",
    "    return labels\n",
    "\n",
    "def tts_split(data, labels):\n",
    "    (x_train, x_test, y_train, y_test) = train_test_split(data, labels, test_size=0.20, stratify=labels,\n",
    "                                                          random_state=42)\n",
    "    (x_train, x_test, y_train, y_test) = (np.array(x_train), np.array(x_test), np.array(y_train), np.array(y_test))\n",
    "    return x_train, x_test, y_train, y_test\n",
    "\n",
    "PATH_TO_IMAGE = \"../data\"\n",
    "MODELS_PATH = \"../models\"\n",
    "\n",
    "# Step 1\n",
    "\n",
    "data, labels = collect_images_and_labels(PATH_TO_IMAGE)\n",
    "#labels = preprocess_labels(labels)\n",
    "trDat, tsDat, trLbl, tsLbl = tts_split(data, labels)\n",
    "\n",
    "\n",
    "# Step 2\n",
    "print(\"The shape of trDat is\", trDat.shape, \"and the type of trDat is\", trDat.dtype)\n",
    "print(\"The shape of tsDat is\", tsDat.shape, \"and the type of tsDat is\", tsDat.dtype)\n",
    "print(\"\")\n",
    "print(\"The shape of trLbl is\", trLbl.shape, \"and the type of trLbl is\", trLbl.dtype)\n",
    "print(\"The shape of tsLbl is\", tsLbl.shape, \"and the type of tsLbl is\", tsLbl.dtype)\n",
    "\n",
    "\n",
    "# Step 3\n",
    "trDat           = trDat.astype('float32')/255\n",
    "tsDat           = tsDat.astype('float32')/255\n",
    "\n",
    "# Step 4\n",
    "imgrows         = trDat.shape[1]\n",
    "imgclms         = trDat.shape[2]\n",
    "channel         = trDat.shape[3]\n",
    "\n",
    "# Step 5\n",
    "trLbl           = preprocess_labels(trLbl)\n",
    "tsLbl           = preprocess_labels(tsLbl)\n",
    "\n",
    "# Step 6\n",
    "num_classes     = tsLbl.shape[1]           "
   ]
  },
  {
   "cell_type": "markdown",
   "metadata": {},
   "source": [
    "## **5. Define the CNN model (2 Conv Layers)**\n",
    "___\n",
    "* Step 1: Setup the optimizer to be used for training\n",
    "* Step 2: Set a name for the coming model (required for saving)\n",
    "* Step 3: Define the convolutional neural network model (to be completed)\n",
    "* Step 4: Create models for training and testing\n",
    "* Step 5: Display the summary of the model of interest "
   ]
  },
  {
   "cell_type": "code",
   "execution_count": 5,
   "metadata": {},
   "outputs": [
    {
     "name": "stdout",
     "output_type": "stream",
     "text": [
      "Model: \"functional_1\"\n",
      "_________________________________________________________________\n",
      "Layer (type)                 Output Shape              Param #   \n",
      "=================================================================\n",
      "input_1 (InputLayer)         [(None, 128, 128, 3)]     0         \n",
      "_________________________________________________________________\n",
      "conv2d (Conv2D)              (None, 128, 128, 128)     3584      \n",
      "_________________________________________________________________\n",
      "activation (Activation)      (None, 128, 128, 128)     0         \n",
      "_________________________________________________________________\n",
      "max_pooling2d (MaxPooling2D) (None, 64, 64, 128)       0         \n",
      "_________________________________________________________________\n",
      "conv2d_1 (Conv2D)            (None, 64, 64, 64)        73792     \n",
      "_________________________________________________________________\n",
      "activation_1 (Activation)    (None, 64, 64, 64)        0         \n",
      "_________________________________________________________________\n",
      "max_pooling2d_1 (MaxPooling2 (None, 32, 32, 64)        0         \n",
      "_________________________________________________________________\n",
      "flatten (Flatten)            (None, 65536)             0         \n",
      "_________________________________________________________________\n",
      "dense (Dense)                (None, 64)                4194368   \n",
      "_________________________________________________________________\n",
      "dense_1 (Dense)              (None, 2)                 130       \n",
      "=================================================================\n",
      "Total params: 4,271,874\n",
      "Trainable params: 4,271,874\n",
      "Non-trainable params: 0\n",
      "_________________________________________________________________\n"
     ]
    }
   ],
   "source": [
    "from tensorflow.keras.initializers import he_normal\n",
    "# Step 1\n",
    "optmz       = optimizers.RMSprop(lr=0.0001)\n",
    "# Step 2\n",
    "modelname   = 'DetecitveMask'                                                           \n",
    "\n",
    "# Step 3                                                                               \n",
    "def createModel():\n",
    "    \n",
    "    ipt = Input(shape=(imgrows, imgclms, channel))\n",
    "    x = Conv2D(128,(3,3),padding='same')(ipt)\n",
    "    x = Activation('relu')(x)\n",
    "    x = MaxPooling2D(pool_size=(2,2))(x)\n",
    "    x = Conv2D(64,(3,3),padding='same')(x)\n",
    "    x = Activation('relu')(x)\n",
    "    x = MaxPooling2D(pool_size=(2,2))(x)\n",
    "    x = Flatten()(x)\n",
    "    x = Dense(64, activation='relu')(x)\n",
    "    x = Dense(num_classes, activation='softmax')(x)\n",
    "    \n",
    "    model = Model(inputs=ipt, outputs=x)\n",
    "#    if (tf.test.is_built_with_cuda()):\n",
    "#        from tensorflow.python.keras.utils.multi_gpu_utils import multi_gpu_model\n",
    "#        model = multi_gpu_model(model, gpus=0)\n",
    "    model.compile(loss='categorical_crossentropy',\n",
    "                  optimizer='rmsprop',\n",
    "                  metrics=['accuracy'])\n",
    "    return model\n",
    "\n",
    "# Step 4                                                                                \n",
    "model       = createModel() # This is meant for training\n",
    "modelGo     = createModel() # This is used for final testing\n",
    "\n",
    "# Step 5\n",
    "model.summary()                                                                 "
   ]
  },
  {
   "cell_type": "markdown",
   "metadata": {},
   "source": [
    "## **6. Create the checkpoints to be applied during training**\n",
    "---\n",
    "* Step 1: Create a checkpoint to save the model from an epoch when validation accuracy is the highest\n",
    "* Step 2: Create a checkpoint to save the training loss, training accuracy, validation loss and validation accuracy of each epoch into a csv file\n",
    "* Step 3: Put the two checkpoint objects into a list"
   ]
  },
  {
   "cell_type": "code",
   "execution_count": 7,
   "metadata": {},
   "outputs": [
    {
     "name": "stdout",
     "output_type": "stream",
     "text": [
      "Callbacks created:\n",
      "<tensorflow.python.keras.callbacks.ModelCheckpoint object at 0x0000027DB30352C8>\n",
      "<tensorflow.python.keras.callbacks.CSVLogger object at 0x0000027D91ECB4C8>\n",
      "\n",
      "Path to model: ../models/cnn_v3/DetecitveMask.hdf5\n",
      "Path to log:   ../models/cnn_v3/DetecitveMask.csv\n"
     ]
    }
   ],
   "source": [
    "# Step 1\n",
    "folderpath      = MODELS_PATH + '/cnn_v0/'\n",
    "filepath        = folderpath + modelname + \".hdf5\"\n",
    "checkpoint      = ModelCheckpoint(filepath, \n",
    "                                  monitor='val_accuracy', \n",
    "                                  verbose=0, \n",
    "                                  save_best_only=True, \n",
    "                                  mode='max')\n",
    "\n",
    "# Step 2\n",
    "csv_logger      = CSVLogger(folderpath+modelname +'.csv')\n",
    "\n",
    "# Step 3\n",
    "callbacks_list  = [checkpoint,csv_logger]                                       \n",
    "\n",
    "print(\"Callbacks created:\")\n",
    "print(callbacks_list[0])\n",
    "print(callbacks_list[1])\n",
    "print('')\n",
    "print(\"Path to model:\", filepath)\n",
    "print(\"Path to log:  \", folderpath+modelname+'.csv')"
   ]
  },
  {
   "cell_type": "markdown",
   "metadata": {},
   "source": [
    "## **7. Train the deep learning model**"
   ]
  },
  {
   "cell_type": "code",
   "execution_count": 8,
   "metadata": {},
   "outputs": [
    {
     "name": "stdout",
     "output_type": "stream",
     "text": [
      "Epoch 1/100\n",
      "95/95 [==============================] - 117s 1s/step - loss: 0.7386 - accuracy: 0.7426 - val_loss: 0.3046 - val_accuracy: 0.8835\n",
      "Epoch 2/100\n",
      "95/95 [==============================] - 125s 1s/step - loss: 0.3235 - accuracy: 0.8722 - val_loss: 0.2429 - val_accuracy: 0.8987\n",
      "Epoch 3/100\n",
      "95/95 [==============================] - 136s 1s/step - loss: 0.2701 - accuracy: 0.8990 - val_loss: 0.2587 - val_accuracy: 0.9206\n",
      "Epoch 4/100\n",
      "95/95 [==============================] - 142s 1s/step - loss: 0.1880 - accuracy: 0.9237 - val_loss: 0.1882 - val_accuracy: 0.9312\n",
      "Epoch 5/100\n",
      "95/95 [==============================] - 146s 2s/step - loss: 0.1530 - accuracy: 0.9444 - val_loss: 0.2264 - val_accuracy: 0.9246\n",
      "Epoch 6/100\n",
      "95/95 [==============================] - 146s 2s/step - loss: 0.1084 - accuracy: 0.9603 - val_loss: 0.2104 - val_accuracy: 0.9351\n",
      "Epoch 7/100\n",
      "95/95 [==============================] - 145s 2s/step - loss: 0.0954 - accuracy: 0.9661 - val_loss: 0.2003 - val_accuracy: 0.9378\n",
      "Epoch 8/100\n",
      "95/95 [==============================] - 145s 2s/step - loss: 0.0671 - accuracy: 0.9791 - val_loss: 0.2673 - val_accuracy: 0.9325\n",
      "Epoch 9/100\n",
      "95/95 [==============================] - 145s 2s/step - loss: 0.0689 - accuracy: 0.9793 - val_loss: 0.3076 - val_accuracy: 0.9332\n",
      "Epoch 10/100\n",
      "95/95 [==============================] - 148s 2s/step - loss: 0.0606 - accuracy: 0.9843 - val_loss: 0.4149 - val_accuracy: 0.9246\n",
      "Epoch 11/100\n",
      "95/95 [==============================] - 149s 2s/step - loss: 0.0307 - accuracy: 0.9896 - val_loss: 0.3157 - val_accuracy: 0.9398\n",
      "Epoch 12/100\n",
      "95/95 [==============================] - 146s 2s/step - loss: 0.0635 - accuracy: 0.9899 - val_loss: 0.4461 - val_accuracy: 0.9305\n",
      "Epoch 13/100\n",
      "95/95 [==============================] - 146s 2s/step - loss: 0.0743 - accuracy: 0.9846 - val_loss: 0.3812 - val_accuracy: 0.9312\n",
      "Epoch 14/100\n",
      "95/95 [==============================] - 147s 2s/step - loss: 0.0435 - accuracy: 0.9899 - val_loss: 0.3215 - val_accuracy: 0.9318\n",
      "Epoch 15/100\n",
      "95/95 [==============================] - 148s 2s/step - loss: 0.0251 - accuracy: 0.9939 - val_loss: 0.4435 - val_accuracy: 0.9351\n",
      "Epoch 16/100\n",
      "95/95 [==============================] - 148s 2s/step - loss: 0.0580 - accuracy: 0.9882 - val_loss: 0.4378 - val_accuracy: 0.9298\n",
      "Epoch 17/100\n",
      "95/95 [==============================] - 147s 2s/step - loss: 0.0908 - accuracy: 0.9914 - val_loss: 0.4123 - val_accuracy: 0.9332\n",
      "Epoch 18/100\n",
      "95/95 [==============================] - 150s 2s/step - loss: 0.0715 - accuracy: 0.9874 - val_loss: 0.5275 - val_accuracy: 0.9292\n",
      "Epoch 19/100\n",
      "95/95 [==============================] - 149s 2s/step - loss: 0.0213 - accuracy: 0.9949 - val_loss: 0.5438 - val_accuracy: 0.9305\n",
      "Epoch 20/100\n",
      "95/95 [==============================] - 147s 2s/step - loss: 0.0428 - accuracy: 0.9897 - val_loss: 0.4444 - val_accuracy: 0.9325\n",
      "Epoch 21/100\n",
      "95/95 [==============================] - 145s 2s/step - loss: 0.0228 - accuracy: 0.9957 - val_loss: 0.6133 - val_accuracy: 0.9292\n",
      "Epoch 22/100\n",
      "95/95 [==============================] - 148s 2s/step - loss: 0.0448 - accuracy: 0.9912 - val_loss: 0.4664 - val_accuracy: 0.9298\n",
      "Epoch 23/100\n",
      "95/95 [==============================] - 148s 2s/step - loss: 0.0078 - accuracy: 0.9980 - val_loss: 0.6193 - val_accuracy: 0.9378\n",
      "Epoch 24/100\n",
      "95/95 [==============================] - 148s 2s/step - loss: 0.0155 - accuracy: 0.9950 - val_loss: 0.7709 - val_accuracy: 0.9166\n",
      "Epoch 25/100\n",
      "95/95 [==============================] - 146s 2s/step - loss: 0.0489 - accuracy: 0.9954 - val_loss: 0.8161 - val_accuracy: 0.9259\n",
      "Epoch 26/100\n",
      "95/95 [==============================] - 146s 2s/step - loss: 0.0209 - accuracy: 0.9965 - val_loss: 0.7249 - val_accuracy: 0.9279\n",
      "Epoch 27/100\n",
      "95/95 [==============================] - 145s 2s/step - loss: 0.0278 - accuracy: 0.9959 - val_loss: 0.8195 - val_accuracy: 0.9146\n",
      "Epoch 28/100\n",
      "95/95 [==============================] - 146s 2s/step - loss: 0.0797 - accuracy: 0.9907 - val_loss: 0.7354 - val_accuracy: 0.9332\n",
      "Epoch 29/100\n",
      "95/95 [==============================] - 148s 2s/step - loss: 0.1019 - accuracy: 0.9926 - val_loss: 0.8035 - val_accuracy: 0.9305\n",
      "Epoch 30/100\n",
      "95/95 [==============================] - 149s 2s/step - loss: 0.0234 - accuracy: 0.9945 - val_loss: 0.8838 - val_accuracy: 0.9239\n",
      "Epoch 31/100\n",
      "95/95 [==============================] - 149s 2s/step - loss: 0.0546 - accuracy: 0.9922 - val_loss: 0.9057 - val_accuracy: 0.9259\n",
      "Epoch 32/100\n",
      "95/95 [==============================] - 149s 2s/step - loss: 0.1718 - accuracy: 0.9939 - val_loss: 0.8225 - val_accuracy: 0.9351\n",
      "Epoch 33/100\n",
      "95/95 [==============================] - 148s 2s/step - loss: 0.0969 - accuracy: 0.9934 - val_loss: 0.6578 - val_accuracy: 0.9351\n",
      "Epoch 34/100\n",
      "95/95 [==============================] - 152s 2s/step - loss: 0.0870 - accuracy: 0.9942 - val_loss: 0.7492 - val_accuracy: 0.9173\n",
      "Epoch 35/100\n",
      "95/95 [==============================] - 154s 2s/step - loss: 0.0014 - accuracy: 0.9995 - val_loss: 0.8848 - val_accuracy: 0.9345\n",
      "Epoch 36/100\n",
      "95/95 [==============================] - 152s 2s/step - loss: 0.0420 - accuracy: 0.9932 - val_loss: 0.7823 - val_accuracy: 0.9338\n",
      "Epoch 37/100\n",
      "95/95 [==============================] - 149s 2s/step - loss: 0.0414 - accuracy: 0.9945 - val_loss: 0.8741 - val_accuracy: 0.9332\n",
      "Epoch 38/100\n",
      "95/95 [==============================] - 149s 2s/step - loss: 0.0590 - accuracy: 0.9967 - val_loss: 0.9428 - val_accuracy: 0.9371\n",
      "Epoch 39/100\n",
      "95/95 [==============================] - 150s 2s/step - loss: 0.0536 - accuracy: 0.9965 - val_loss: 0.9818 - val_accuracy: 0.9318\n",
      "Epoch 40/100\n",
      "95/95 [==============================] - 149s 2s/step - loss: 0.0207 - accuracy: 0.9965 - val_loss: 1.1279 - val_accuracy: 0.9292\n",
      "Epoch 41/100\n",
      "95/95 [==============================] - 153s 2s/step - loss: 0.0486 - accuracy: 0.9955 - val_loss: 1.4221 - val_accuracy: 0.9265\n",
      "Epoch 42/100\n",
      "95/95 [==============================] - 152s 2s/step - loss: 0.0060 - accuracy: 0.9988 - val_loss: 1.3036 - val_accuracy: 0.9285\n",
      "Epoch 43/100\n",
      "95/95 [==============================] - 155s 2s/step - loss: 0.0271 - accuracy: 0.9950 - val_loss: 1.2266 - val_accuracy: 0.9292\n",
      "Epoch 44/100\n",
      "95/95 [==============================] - 155s 2s/step - loss: 0.0101 - accuracy: 0.9978 - val_loss: 1.0758 - val_accuracy: 0.9338\n",
      "Epoch 45/100\n",
      "95/95 [==============================] - 157s 2s/step - loss: 0.0122 - accuracy: 0.9975 - val_loss: 1.0370 - val_accuracy: 0.9252\n",
      "Epoch 46/100\n",
      "95/95 [==============================] - 155s 2s/step - loss: 0.0218 - accuracy: 0.9970 - val_loss: 1.2127 - val_accuracy: 0.9179\n",
      "Epoch 47/100\n",
      "95/95 [==============================] - 154s 2s/step - loss: 0.0251 - accuracy: 0.9970 - val_loss: 1.1301 - val_accuracy: 0.9345\n",
      "Epoch 48/100\n",
      "95/95 [==============================] - 154s 2s/step - loss: 0.0888 - accuracy: 0.9927 - val_loss: 1.0232 - val_accuracy: 0.9239\n",
      "Epoch 49/100\n",
      "95/95 [==============================] - 155s 2s/step - loss: 0.0333 - accuracy: 0.9969 - val_loss: 1.3576 - val_accuracy: 0.9087\n",
      "Epoch 50/100\n",
      "95/95 [==============================] - 155s 2s/step - loss: 0.0671 - accuracy: 0.9945 - val_loss: 1.1981 - val_accuracy: 0.9305\n",
      "Epoch 51/100\n",
      "95/95 [==============================] - 156s 2s/step - loss: 0.0022 - accuracy: 0.9992 - val_loss: 1.1463 - val_accuracy: 0.9351\n",
      "Epoch 52/100\n",
      "95/95 [==============================] - 156s 2s/step - loss: 0.0171 - accuracy: 0.9969 - val_loss: 1.1375 - val_accuracy: 0.9305\n",
      "Epoch 53/100\n",
      "95/95 [==============================] - 154s 2s/step - loss: 0.0470 - accuracy: 0.9969 - val_loss: 1.3648 - val_accuracy: 0.9312\n",
      "Epoch 54/100\n",
      "95/95 [==============================] - 152s 2s/step - loss: 0.0106 - accuracy: 0.9990 - val_loss: 2.8969 - val_accuracy: 0.8643\n",
      "Epoch 55/100\n",
      "95/95 [==============================] - 151s 2s/step - loss: 0.0278 - accuracy: 0.9977 - val_loss: 1.3600 - val_accuracy: 0.9365\n",
      "Epoch 56/100\n",
      "95/95 [==============================] - 151s 2s/step - loss: 0.0234 - accuracy: 0.9967 - val_loss: 1.5473 - val_accuracy: 0.9279\n",
      "Epoch 57/100\n",
      "95/95 [==============================] - 153s 2s/step - loss: 0.0353 - accuracy: 0.9977 - val_loss: 1.1525 - val_accuracy: 0.9365\n",
      "Epoch 58/100\n"
     ]
    },
    {
     "name": "stdout",
     "output_type": "stream",
     "text": [
      "95/95 [==============================] - 154s 2s/step - loss: 5.6123e-04 - accuracy: 0.9998 - val_loss: 1.2215 - val_accuracy: 0.9378\n",
      "Epoch 59/100\n",
      "95/95 [==============================] - 155s 2s/step - loss: 0.1225 - accuracy: 0.9947 - val_loss: 1.1926 - val_accuracy: 0.9398\n",
      "Epoch 60/100\n",
      "95/95 [==============================] - 155s 2s/step - loss: 0.0716 - accuracy: 0.9937 - val_loss: 0.9267 - val_accuracy: 0.9186\n",
      "Epoch 61/100\n",
      "95/95 [==============================] - 154s 2s/step - loss: 4.7322e-04 - accuracy: 0.9998 - val_loss: 1.7967 - val_accuracy: 0.9298\n",
      "Epoch 62/100\n",
      "95/95 [==============================] - 151s 2s/step - loss: 0.0256 - accuracy: 0.9975 - val_loss: 1.2336 - val_accuracy: 0.9378\n",
      "Epoch 63/100\n",
      "95/95 [==============================] - 151s 2s/step - loss: 0.0450 - accuracy: 0.9964 - val_loss: 1.2981 - val_accuracy: 0.9371\n",
      "Epoch 64/100\n",
      "95/95 [==============================] - 151s 2s/step - loss: 0.0115 - accuracy: 0.9982 - val_loss: 1.7086 - val_accuracy: 0.9226\n",
      "Epoch 65/100\n",
      "95/95 [==============================] - 149s 2s/step - loss: 0.0808 - accuracy: 0.9960 - val_loss: 1.8884 - val_accuracy: 0.9186\n",
      "Epoch 66/100\n",
      "95/95 [==============================] - 144s 2s/step - loss: 8.9733e-04 - accuracy: 0.9998 - val_loss: 1.7428 - val_accuracy: 0.9391\n",
      "Epoch 67/100\n",
      "95/95 [==============================] - 144s 2s/step - loss: 0.0312 - accuracy: 0.9970 - val_loss: 1.4948 - val_accuracy: 0.9365\n",
      "Epoch 68/100\n",
      "95/95 [==============================] - 144s 2s/step - loss: 2.6164e-05 - accuracy: 1.0000 - val_loss: 1.3842 - val_accuracy: 0.9371\n",
      "Epoch 69/100\n",
      "95/95 [==============================] - 149s 2s/step - loss: 6.4358e-08 - accuracy: 1.0000 - val_loss: 1.5949 - val_accuracy: 0.9378\n",
      "Epoch 70/100\n",
      "95/95 [==============================] - 155s 2s/step - loss: 0.0957 - accuracy: 0.9949 - val_loss: 1.2228 - val_accuracy: 0.9351\n",
      "Epoch 71/100\n",
      "95/95 [==============================] - 154s 2s/step - loss: 0.0183 - accuracy: 0.9975 - val_loss: 1.7178 - val_accuracy: 0.9285\n",
      "Epoch 72/100\n",
      "95/95 [==============================] - 153s 2s/step - loss: 0.0409 - accuracy: 0.9975 - val_loss: 1.5784 - val_accuracy: 0.9305\n",
      "Epoch 73/100\n",
      "95/95 [==============================] - 150s 2s/step - loss: 1.1085e-05 - accuracy: 1.0000 - val_loss: 1.3985 - val_accuracy: 0.9365\n",
      "Epoch 74/100\n",
      "95/95 [==============================] - 157s 2s/step - loss: 0.0221 - accuracy: 0.9975 - val_loss: 1.3855 - val_accuracy: 0.9259\n",
      "Epoch 75/100\n",
      "95/95 [==============================] - 155s 2s/step - loss: 5.3141e-07 - accuracy: 1.0000 - val_loss: 1.4676 - val_accuracy: 0.9318\n",
      "Epoch 76/100\n",
      "95/95 [==============================] - 156s 2s/step - loss: 0.0020 - accuracy: 0.9997 - val_loss: 1.7468 - val_accuracy: 0.9186\n",
      "Epoch 77/100\n",
      "95/95 [==============================] - 155s 2s/step - loss: 0.0090 - accuracy: 0.9988 - val_loss: 1.4680 - val_accuracy: 0.9391\n",
      "Epoch 78/100\n",
      "95/95 [==============================] - 156s 2s/step - loss: 4.2859e-07 - accuracy: 1.0000 - val_loss: 1.7411 - val_accuracy: 0.9338\n",
      "Epoch 79/100\n",
      "95/95 [==============================] - 150s 2s/step - loss: 0.0834 - accuracy: 0.9949 - val_loss: 1.7006 - val_accuracy: 0.9371\n",
      "Epoch 80/100\n",
      "95/95 [==============================] - 150s 2s/step - loss: 0.0152 - accuracy: 0.9975 - val_loss: 1.8764 - val_accuracy: 0.9159\n",
      "Epoch 81/100\n",
      "95/95 [==============================] - 148s 2s/step - loss: 6.7875e-06 - accuracy: 1.0000 - val_loss: 1.6159 - val_accuracy: 0.9312\n",
      "Epoch 82/100\n",
      "95/95 [==============================] - 147s 2s/step - loss: 3.8474e-09 - accuracy: 1.0000 - val_loss: 1.6312 - val_accuracy: 0.9305\n",
      "Epoch 83/100\n",
      "95/95 [==============================] - 147s 2s/step - loss: 9.0758e-10 - accuracy: 1.0000 - val_loss: 1.6960 - val_accuracy: 0.9285\n",
      "Epoch 84/100\n",
      "95/95 [==============================] - 145s 2s/step - loss: 1.5784e-10 - accuracy: 1.0000 - val_loss: 1.7187 - val_accuracy: 0.9338\n",
      "Epoch 85/100\n",
      "95/95 [==============================] - 145s 2s/step - loss: 7.8920e-11 - accuracy: 1.0000 - val_loss: 1.7121 - val_accuracy: 0.9312\n",
      "Epoch 86/100\n",
      "95/95 [==============================] - 144s 2s/step - loss: 9.8651e-11 - accuracy: 1.0000 - val_loss: 1.7204 - val_accuracy: 0.9358\n",
      "Epoch 87/100\n",
      "95/95 [==============================] - 146s 2s/step - loss: 1.9730e-11 - accuracy: 1.0000 - val_loss: 1.7261 - val_accuracy: 0.9351\n",
      "Epoch 88/100\n",
      "95/95 [==============================] - 147s 2s/step - loss: 0.0000e+00 - accuracy: 1.0000 - val_loss: 1.7322 - val_accuracy: 0.9351\n",
      "Epoch 89/100\n",
      "95/95 [==============================] - 148s 2s/step - loss: 0.0000e+00 - accuracy: 1.0000 - val_loss: 1.7383 - val_accuracy: 0.9358\n",
      "Epoch 90/100\n",
      "95/95 [==============================] - 143s 2s/step - loss: 0.0000e+00 - accuracy: 1.0000 - val_loss: 1.7433 - val_accuracy: 0.9365\n",
      "Epoch 91/100\n",
      "95/95 [==============================] - 145s 2s/step - loss: 0.0000e+00 - accuracy: 1.0000 - val_loss: 1.7479 - val_accuracy: 0.9378\n",
      "Epoch 92/100\n",
      "95/95 [==============================] - 147s 2s/step - loss: 0.0000e+00 - accuracy: 1.0000 - val_loss: 1.7527 - val_accuracy: 0.9378\n",
      "Epoch 93/100\n",
      "95/95 [==============================] - 147s 2s/step - loss: 0.0000e+00 - accuracy: 1.0000 - val_loss: 1.7572 - val_accuracy: 0.9371\n",
      "Epoch 94/100\n",
      "95/95 [==============================] - 145s 2s/step - loss: 0.0000e+00 - accuracy: 1.0000 - val_loss: 1.7622 - val_accuracy: 0.9365\n",
      "Epoch 95/100\n",
      "95/95 [==============================] - 144s 2s/step - loss: 0.0000e+00 - accuracy: 1.0000 - val_loss: 1.7676 - val_accuracy: 0.9371\n",
      "Epoch 96/100\n",
      "95/95 [==============================] - 145s 2s/step - loss: 0.0000e+00 - accuracy: 1.0000 - val_loss: 1.7730 - val_accuracy: 0.9371\n",
      "Epoch 97/100\n",
      "95/95 [==============================] - 143s 2s/step - loss: 0.0000e+00 - accuracy: 1.0000 - val_loss: 1.7783 - val_accuracy: 0.9371\n",
      "Epoch 98/100\n",
      "95/95 [==============================] - 148s 2s/step - loss: 0.0000e+00 - accuracy: 1.0000 - val_loss: 1.7839 - val_accuracy: 0.9371\n",
      "Epoch 99/100\n",
      "95/95 [==============================] - 162s 2s/step - loss: 0.0000e+00 - accuracy: 1.0000 - val_loss: 1.7895 - val_accuracy: 0.9365\n",
      "Epoch 100/100\n",
      "95/95 [==============================] - 154s 2s/step - loss: 0.0000e+00 - accuracy: 1.0000 - val_loss: 1.7952 - val_accuracy: 0.9365\n"
     ]
    },
    {
     "data": {
      "text/plain": [
       "<tensorflow.python.keras.callbacks.History at 0x27d8708d288>"
      ]
     },
     "execution_count": 8,
     "metadata": {},
     "output_type": "execute_result"
    }
   ],
   "source": [
    "\n",
    "model.fit(trDat,                    # Training data\n",
    "          trLbl,                            # Training label\n",
    "          validation_data=(tsDat, tsLbl),   # Validation data and label\n",
    "          epochs=100,                       # The amount of epochs to be trained\n",
    "          batch_size=64,                   \n",
    "          shuffle=True,                     # To shuffle the training data\n",
    "          callbacks=callbacks_list)         # Callbacks to execute the checkpoints"
   ]
  },
  {
   "cell_type": "markdown",
   "metadata": {},
   "source": [
    "## **8. Validate the deep learning model**\n",
    "---\n",
    "* Step 1: Load the trained weights and compile the model\n",
    "* Step 2: Make prediction\n"
   ]
  },
  {
   "cell_type": "code",
   "execution_count": 9,
   "metadata": {},
   "outputs": [
    {
     "name": "stdout",
     "output_type": "stream",
     "text": [
      "Prediction completes.\n"
     ]
    }
   ],
   "source": [
    "# Step 1\n",
    "modelGo.load_weights(filepath)\n",
    "modelGo.compile(loss='categorical_crossentropy', \n",
    "                optimizer=optmz, \n",
    "                metrics=['accuracy'])\n",
    "\n",
    "# Step 2\n",
    "predicts    = modelGo.predict(tsDat)\n",
    "print(\"Prediction completes.\")"
   ]
  },
  {
   "cell_type": "markdown",
   "metadata": {},
   "source": [
    "## **9. Report classification metrics**\n",
    "---\n",
    "* Step 1: Setup the label\n",
    "* Step 2: Convert label from one-hot to integer\n",
    "* Step 3: Calculate the accuracy score\n",
    "* Step 4: Generate classification report"
   ]
  },
  {
   "cell_type": "code",
   "execution_count": 10,
   "metadata": {},
   "outputs": [
    {
     "name": "stdout",
     "output_type": "stream",
     "text": [
      "Best accuracy (on testing dataset): 93.98%\n",
      "              precision    recall  f1-score   support\n",
      "\n",
      "   with_mask     0.9567    0.9195    0.9377       745\n",
      "without_mask     0.9245    0.9595    0.9417       766\n",
      "\n",
      "    accuracy                         0.9398      1511\n",
      "   macro avg     0.9406    0.9395    0.9397      1511\n",
      "weighted avg     0.9404    0.9398    0.9397      1511\n",
      "\n"
     ]
    }
   ],
   "source": [
    "# Step 1\n",
    "labelname   = ['with_mask',          # The label for reporting metrics\n",
    "               'without_mask']\n",
    "# Step 2\n",
    "predout     = np.argmax(predicts,axis=1)\n",
    "testout     = np.argmax(tsLbl,axis=1)\n",
    "\n",
    "# Step 3\n",
    "testScores  = metrics.accuracy_score(testout,predout)\n",
    "\n",
    "# Step 4\n",
    "print(\"Best accuracy (on testing dataset): %.2f%%\" % (testScores*100))\n",
    "print(metrics.classification_report(testout,\n",
    "                                    predout,\n",
    "                                    target_names=labelname,\n",
    "                                    digits=4))"
   ]
  },
  {
   "cell_type": "markdown",
   "metadata": {},
   "source": [
    "## **10. Print confusion matrix**\n",
    "---"
   ]
  },
  {
   "cell_type": "code",
   "execution_count": 11,
   "metadata": {},
   "outputs": [
    {
     "name": "stdout",
     "output_type": "stream",
     "text": [
      "[[685  60]\n",
      " [ 31 735]]\n"
     ]
    }
   ],
   "source": [
    "confusion   = metrics.confusion_matrix(testout,predout)\n",
    "print(confusion)"
   ]
  },
  {
   "cell_type": "markdown",
   "metadata": {},
   "source": [
    "## **11. Plot curves on validation loss and accuracy**\n",
    "---"
   ]
  },
  {
   "cell_type": "code",
   "execution_count": 12,
   "metadata": {},
   "outputs": [
    {
     "data": {
      "image/png": "[encoded data removed]",
      "text/plain": [
       "<Figure size 504x504 with 2 Axes>"
      ]
     },
     "metadata": {},
     "output_type": "display_data"
    }
   ],
   "source": [
    "records     = pd.read_csv(folderpath+modelname +'.csv')\n",
    "plt.figure()\n",
    "plt.subplot(211)\n",
    "plt.plot(records['val_loss'], label=\"validation\")\n",
    "plt.plot(records['loss'],label=\"training\")\n",
    "plt.yticks([0.00,0.50,1.00,1.50])\n",
    "plt.title('Loss value',fontsize=12)\n",
    "\n",
    "ax          = plt.gca()\n",
    "ax.set_xticklabels([])\n",
    "\n",
    "plt.subplot(212)\n",
    "plt.plot(records['val_accuracy'],label=\"validation\")\n",
    "plt.plot(records['accuracy'],label=\"training\")\n",
    "plt.yticks([0.5,0.6,0.7,0.8])\n",
    "plt.title('Accuracy',fontsize=12)\n",
    "ax.legend()\n",
    "plt.show()"
   ]
  },
  {
   "cell_type": "code",
   "execution_count": 13,
   "metadata": {},
   "outputs": [
    {
     "data": {
      "image/png": "[encoded data removed]",
      "text/plain": [
       "<IPython.core.display.Image object>"
      ]
     },
     "execution_count": 13,
     "metadata": {},
     "output_type": "execute_result"
    }
   ],
   "source": [
    "plotpath  = folderpath+modelname+'_plot.png'\n",
    "plot_model(model, \n",
    "           to_file=plotpath, \n",
    "           show_shapes=True, \n",
    "           show_layer_names=False,\n",
    "           rankdir='TB')\n"
   ]
  },
  {
   "cell_type": "code",
   "execution_count": 1,
   "metadata": {},
   "outputs": [
    {
     "name": "stdout",
     "output_type": "stream",
     "text": [
      "['/device:CPU:0', '/device:GPU:0']\n"
     ]
    }
   ],
   "source": [
    "from tensorflow.python.client import device_lib\n",
    "def get_available_devices():\n",
    "    local_device_protos = device_lib.list_local_devices()\n",
    "    return [x.name for x in local_device_protos]\n",
    "print(get_available_devices()) "
   ]
  },
  {
   "cell_type": "code",
   "execution_count": null,
   "metadata": {},
   "outputs": [],
   "source": []
  }
 ],
 "metadata": {
  "kernelspec": {
   "display_name": "Python 3 (ipykernel)",
   "language": "python",
   "name": "python3"
  },
  "language_info": {
   "codemirror_mode": {
    "name": "ipython",
    "version": 3
   },
   "file_extension": ".py",
   "mimetype": "text/x-python",
   "name": "python",
   "nbconvert_exporter": "python",
   "pygments_lexer": "ipython3",
   "version": "3.7.11"
  }
 },
 "nbformat": 4,
 "nbformat_minor": 4
}
