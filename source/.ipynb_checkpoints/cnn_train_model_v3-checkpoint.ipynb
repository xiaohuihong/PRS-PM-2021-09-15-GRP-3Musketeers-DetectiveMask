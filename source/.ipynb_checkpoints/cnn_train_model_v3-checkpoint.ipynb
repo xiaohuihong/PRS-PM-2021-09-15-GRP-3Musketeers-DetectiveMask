{
 "cells": [
  {
   "cell_type": "markdown",
   "metadata": {},
   "source": [
    "## **1. Import the necessary libraries** ---"
   ]
  },
  {
   "cell_type": "code",
   "execution_count": 1,
   "metadata": {},
   "outputs": [
    {
     "name": "stdout",
     "output_type": "stream",
     "text": [
      "Versions of key libraries\n",
      "---\n",
      "tensorflow:  2.3.0\n",
      "numpy:       1.18.5\n",
      "matplotlib:  3.4.2\n",
      "sklearn:     0.24.2\n"
     ]
    }
   ],
   "source": [
    "import matplotlib\n",
    "import sklearn\n",
    "import numpy as np\n",
    "import pandas as pd\n",
    "import sklearn.metrics as metrics\n",
    "import matplotlib.pyplot as plt\n",
    "import tensorflow as tf\n",
    "\n",
    "\n",
    "from tensorflow.keras.callbacks import ModelCheckpoint,CSVLogger\n",
    "from tensorflow.keras.models import Model\n",
    "from tensorflow.keras.layers import Input\n",
    "from tensorflow.keras.layers import Dense\n",
    "from tensorflow.keras.layers import Dropout\n",
    "from tensorflow.keras.layers import Flatten\n",
    "from tensorflow.keras.layers import Conv2D\n",
    "from tensorflow.keras.layers import MaxPooling2D\n",
    "from tensorflow.keras.layers import BatchNormalization\n",
    "from tensorflow.keras.layers import Activation\n",
    "from tensorflow.keras.utils import to_categorical\n",
    "from tensorflow.keras.utils import plot_model\n",
    "from tensorflow.keras.datasets import cifar10\n",
    "from tensorflow.keras import optimizers\n",
    "from tensorflow.keras import regularizers\n",
    "\n",
    "print(\"Versions of key libraries\")\n",
    "print(\"---\")\n",
    "print(\"tensorflow: \", tf.__version__)\n",
    "print(\"numpy:      \", np.__version__)\n",
    "print(\"matplotlib: \", matplotlib.__version__)\n",
    "print(\"sklearn:    \", sklearn.__version__)"
   ]
  },
  {
   "cell_type": "markdown",
   "metadata": {},
   "source": [
    "## **2.Create a function to plot image without axis** ---"
   ]
  },
  {
   "cell_type": "code",
   "execution_count": 2,
   "metadata": {},
   "outputs": [
    {
     "name": "stdout",
     "output_type": "stream",
     "text": [
      "<function implt at 0x000001947580A708>\n"
     ]
    }
   ],
   "source": [
    "def implt(img):\n",
    "    plt.figure()\n",
    "    plt.imshow(img)\n",
    "    plt.axis('off')\n",
    "\n",
    "print(implt)"
   ]
  },
  {
   "cell_type": "markdown",
   "metadata": {},
   "source": [
    "## **3. Set matplotlib to have seaborn plot style**"
   ]
  },
  {
   "cell_type": "code",
   "execution_count": 3,
   "metadata": {},
   "outputs": [
    {
     "name": "stdout",
     "output_type": "stream",
     "text": [
      "Matplotlib setup completes.\n"
     ]
    }
   ],
   "source": [
    "plt.style.use('seaborn')                   # if want to use the default style, set 'classic'\n",
    "plt.rcParams['ytick.right']     = True\n",
    "plt.rcParams['ytick.labelright']= True\n",
    "plt.rcParams['ytick.left']      = False\n",
    "plt.rcParams['ytick.labelleft'] = False\n",
    "plt.rcParams['figure.figsize']  = [7,7]   # Set the figure size to be 7 inch for (width,height)\n",
    "\n",
    "print(\"Matplotlib setup completes.\")"
   ]
  },
  {
   "cell_type": "markdown",
   "metadata": {},
   "source": [
    "## **4. Prepare data for training and testing**\n",
    "---\n",
    "* Step 1: Load the images\n",
    "* Step 2: Check the shape and type of the data\n",
    "* Step 3: Convert the data into float32 and rescale the values from the range of 0\\~255 into 0\\~1\n",
    "* Step 4: Retrieve the row size and the column size of each image\n",
    "* Step 5: Perform one-hot enconding on the labels\n",
    "* Step 6: Retrieve the number of classes in this problem"
   ]
  },
  {
   "cell_type": "code",
   "execution_count": 4,
   "metadata": {},
   "outputs": [
    {
     "name": "stderr",
     "output_type": "stream",
     "text": [
      "C:\\Users\\HONG0\\.conda\\envs\\detective_mask\\lib\\site-packages\\PIL\\Image.py:974: UserWarning: Palette images with Transparency expressed in bytes should be converted to RGBA images\n",
      "  \"Palette images with Transparency expressed in bytes should be \"\n"
     ]
    },
    {
     "name": "stdout",
     "output_type": "stream",
     "text": [
      "The shape of trDat is (6042, 128, 128, 3) and the type of trDat is float32\n",
      "The shape of tsDat is (1511, 128, 128, 3) and the type of tsDat is float32\n",
      "\n",
      "The shape of trLbl is (6042,) and the type of trLbl is <U12\n",
      "The shape of tsLbl is (1511,) and the type of tsLbl is <U12\n"
     ]
    }
   ],
   "source": [
    "from imutils import paths\n",
    "import os, sys\n",
    "from tensorflow.keras.preprocessing.image import load_img, img_to_array\n",
    "from sklearn.preprocessing import LabelBinarizer\n",
    "from tensorflow.keras.utils import to_categorical\n",
    "from sklearn.model_selection import train_test_split\n",
    "\n",
    "def collect_images_and_labels(path_to_images):\n",
    "    # in seguito, usare https://keras.io/api/preprocessing/image/\n",
    "    \"\"\"\n",
    "        :param path_to_images should be the root folder, in which there is a folder for each label, and the folder's name is\n",
    "        the label itself\n",
    "        :return: a list with images and a list with labels\n",
    "        \"\"\"\n",
    "    data = []\n",
    "    labels = []\n",
    "\n",
    "    for img_path in list(paths.list_images(path_to_images)):\n",
    "        # extract the class label from the filename\n",
    "        label = img_path.split(os.path.sep)[-2]\n",
    "\n",
    "        # load the input image as (128x128) and preprocess it\n",
    "        image = load_img(img_path, target_size=(128, 128))\n",
    "        image = img_to_array(image)\n",
    "        #image = preprocess_input(image)\n",
    "\n",
    "        # update the data and labels lists, respectively\n",
    "        data.append(image)\n",
    "        labels.append(label)\n",
    "\n",
    "    return data, labels\n",
    "\n",
    "def preprocess_labels(labels):\n",
    "    \"\"\"\n",
    "    :param labels: list of string\n",
    "    :return: np array of 0/1\n",
    "    \"\"\"\n",
    "    lb = LabelBinarizer()\n",
    "    labels = lb.fit_transform(labels)\n",
    "    labels = to_categorical(labels)\n",
    "    return labels\n",
    "\n",
    "def tts_split(data, labels):\n",
    "    (x_train, x_test, y_train, y_test) = train_test_split(data, labels, test_size=0.20, stratify=labels,\n",
    "                                                          random_state=42)\n",
    "    (x_train, x_test, y_train, y_test) = (np.array(x_train), np.array(x_test), np.array(y_train), np.array(y_test))\n",
    "    return x_train, x_test, y_train, y_test\n",
    "\n",
    "PATH_TO_IMAGE = \"../data\"\n",
    "MODELS_PATH = \"../models\"\n",
    "\n",
    "# Step 1\n",
    "\n",
    "data, labels = collect_images_and_labels(PATH_TO_IMAGE)\n",
    "#labels = preprocess_labels(labels)\n",
    "trDat, tsDat, trLbl, tsLbl = tts_split(data, labels)\n",
    "\n",
    "\n",
    "# Step 2\n",
    "print(\"The shape of trDat is\", trDat.shape, \"and the type of trDat is\", trDat.dtype)\n",
    "print(\"The shape of tsDat is\", tsDat.shape, \"and the type of tsDat is\", tsDat.dtype)\n",
    "print(\"\")\n",
    "print(\"The shape of trLbl is\", trLbl.shape, \"and the type of trLbl is\", trLbl.dtype)\n",
    "print(\"The shape of tsLbl is\", tsLbl.shape, \"and the type of tsLbl is\", tsLbl.dtype)\n",
    "\n",
    "\n",
    "# Step 3\n",
    "trDat           = trDat.astype('float32')/255\n",
    "tsDat           = tsDat.astype('float32')/255\n",
    "\n",
    "# Step 4\n",
    "imgrows         = trDat.shape[1]\n",
    "imgclms         = trDat.shape[2]\n",
    "channel         = trDat.shape[3]\n",
    "\n",
    "# Step 5\n",
    "trLbl           = preprocess_labels(trLbl)\n",
    "tsLbl           = preprocess_labels(tsLbl)\n",
    "\n",
    "# Step 6\n",
    "num_classes     = tsLbl.shape[1]           "
   ]
  },
  {
   "cell_type": "markdown",
   "metadata": {},
   "source": [
    "## **5. Define the CNN model (Batch Normalization)**\n",
    "___\n",
    "* Step 1: Setup the optimizer to be used for training\n",
    "* Step 2: Set a name for the coming model (required for saving)\n",
    "* Step 3: Define the convolutional neural network model (to be completed)\n",
    "* Step 4: Create models for training and testing\n",
    "* Step 5: Display the summary of the model of interest "
   ]
  },
  {
   "cell_type": "code",
   "execution_count": 5,
   "metadata": {},
   "outputs": [
    {
     "name": "stdout",
     "output_type": "stream",
     "text": [
      "Model: \"functional_1\"\n",
      "_________________________________________________________________\n",
      "Layer (type)                 Output Shape              Param #   \n",
      "=================================================================\n",
      "input_1 (InputLayer)         [(None, 128, 128, 3)]     0         \n",
      "_________________________________________________________________\n",
      "conv2d (Conv2D)              (None, 128, 128, 128)     3584      \n",
      "_________________________________________________________________\n",
      "batch_normalization (BatchNo (None, 128, 128, 128)     512       \n",
      "_________________________________________________________________\n",
      "activation (Activation)      (None, 128, 128, 128)     0         \n",
      "_________________________________________________________________\n",
      "max_pooling2d (MaxPooling2D) (None, 64, 64, 128)       0         \n",
      "_________________________________________________________________\n",
      "conv2d_1 (Conv2D)            (None, 64, 64, 64)        73792     \n",
      "_________________________________________________________________\n",
      "batch_normalization_1 (Batch (None, 64, 64, 64)        256       \n",
      "_________________________________________________________________\n",
      "activation_1 (Activation)    (None, 64, 64, 64)        0         \n",
      "_________________________________________________________________\n",
      "max_pooling2d_1 (MaxPooling2 (None, 32, 32, 64)        0         \n",
      "_________________________________________________________________\n",
      "conv2d_2 (Conv2D)            (None, 32, 32, 32)        18464     \n",
      "_________________________________________________________________\n",
      "batch_normalization_2 (Batch (None, 32, 32, 32)        128       \n",
      "_________________________________________________________________\n",
      "activation_2 (Activation)    (None, 32, 32, 32)        0         \n",
      "_________________________________________________________________\n",
      "max_pooling2d_2 (MaxPooling2 (None, 16, 16, 32)        0         \n",
      "_________________________________________________________________\n",
      "flatten (Flatten)            (None, 8192)              0         \n",
      "_________________________________________________________________\n",
      "dense (Dense)                (None, 64)                524352    \n",
      "_________________________________________________________________\n",
      "dense_1 (Dense)              (None, 2)                 130       \n",
      "=================================================================\n",
      "Total params: 621,218\n",
      "Trainable params: 620,770\n",
      "Non-trainable params: 448\n",
      "_________________________________________________________________\n"
     ]
    }
   ],
   "source": [
    "from tensorflow.keras.layers import BatchNormalization\n",
    "# Step 1\n",
    "optmz       = optimizers.RMSprop(lr=0.0001)\n",
    "# Step 2\n",
    "modelname   = 'DetecitveMask'                                                           \n",
    "\n",
    "# Step 3                                                                               \n",
    "def createModel():\n",
    "    \n",
    "    ipt = Input(shape=(imgrows, imgclms, channel))\n",
    "    x = Conv2D(128,(3,3),padding='same')(ipt)\n",
    "    x = BatchNormalization()(x)\n",
    "    x = Activation('relu')(x)\n",
    "    x = MaxPooling2D(pool_size=(2,2))(x)\n",
    "    x = Conv2D(64,(3,3),padding='same')(x)\n",
    "    x = BatchNormalization()(x)\n",
    "    x = Activation('relu')(x)\n",
    "    x = MaxPooling2D(pool_size=(2,2))(x)\n",
    "    x = Conv2D(32,(3,3),padding='same')(x)\n",
    "    x = BatchNormalization()(x)\n",
    "    x = Activation('relu')(x)\n",
    "    x = MaxPooling2D(pool_size=(2,2))(x)\n",
    "    x = Flatten()(x)\n",
    "    x = Dense(64, activation='relu')(x)\n",
    "    x = Dense(num_classes, activation='softmax')(x)\n",
    "    \n",
    "    model = Model(inputs=ipt, outputs=x)\n",
    "#    if (tf.test.is_built_with_cuda()):\n",
    "#        from tensorflow.python.keras.utils.multi_gpu_utils import multi_gpu_model\n",
    "#        model = multi_gpu_model(model, gpus=0)\n",
    "    model.compile(loss='categorical_crossentropy',\n",
    "                  optimizer='rmsprop',\n",
    "                  metrics=['accuracy'])\n",
    "    return model\n",
    "\n",
    "# Step 4                                                                                \n",
    "model       = createModel() # This is meant for training\n",
    "modelGo     = createModel() # This is used for final testing\n",
    "\n",
    "# Step 5\n",
    "model.summary()                                                                 "
   ]
  },
  {
   "cell_type": "markdown",
   "metadata": {},
   "source": [
    "## **6. Create the checkpoints to be applied during training**\n",
    "---\n",
    "* Step 1: Create a checkpoint to save the model from an epoch when validation accuracy is the highest\n",
    "* Step 2: Create a checkpoint to save the training loss, training accuracy, validation loss and validation accuracy of each epoch into a csv file\n",
    "* Step 3: Put the two checkpoint objects into a list"
   ]
  },
  {
   "cell_type": "code",
   "execution_count": 6,
   "metadata": {},
   "outputs": [
    {
     "name": "stdout",
     "output_type": "stream",
     "text": [
      "Callbacks created:\n",
      "<tensorflow.python.keras.callbacks.ModelCheckpoint object at 0x0000019475827848>\n",
      "<tensorflow.python.keras.callbacks.CSVLogger object at 0x0000019475827948>\n",
      "\n",
      "Path to model: ../models/cnn_v3/DetecitveMask.hdf5\n",
      "Path to log:   ../models/cnn_v3/DetecitveMask.csv\n"
     ]
    }
   ],
   "source": [
    "# Step 1\n",
    "folderpath      = MODELS_PATH + '/cnn_v3/'\n",
    "filepath        = folderpath + modelname + \".hdf5\"\n",
    "checkpoint      = ModelCheckpoint(filepath, \n",
    "                                  monitor='val_accuracy', \n",
    "                                  verbose=0, \n",
    "                                  save_best_only=True, \n",
    "                                  mode='max')\n",
    "\n",
    "# Step 2\n",
    "csv_logger      = CSVLogger(folderpath+modelname +'.csv')\n",
    "\n",
    "# Step 3\n",
    "callbacks_list  = [checkpoint,csv_logger]                                       \n",
    "\n",
    "print(\"Callbacks created:\")\n",
    "print(callbacks_list[0])\n",
    "print(callbacks_list[1])\n",
    "print('')\n",
    "print(\"Path to model:\", filepath)\n",
    "print(\"Path to log:  \", folderpath+modelname+'.csv')"
   ]
  },
  {
   "cell_type": "markdown",
   "metadata": {},
   "source": [
    "## **7. Train the deep learning model**"
   ]
  },
  {
   "cell_type": "code",
   "execution_count": 7,
   "metadata": {},
   "outputs": [
    {
     "name": "stdout",
     "output_type": "stream",
     "text": [
      "Epoch 1/100\n",
      "95/95 [==============================] - 340s 4s/step - loss: 0.7203 - accuracy: 0.8155 - val_loss: 0.9985 - val_accuracy: 0.5076\n",
      "Epoch 2/100\n",
      "95/95 [==============================] - 410s 4s/step - loss: 0.2510 - accuracy: 0.8888 - val_loss: 0.9235 - val_accuracy: 0.5447\n",
      "Epoch 3/100\n",
      "95/95 [==============================] - 407s 4s/step - loss: 0.1960 - accuracy: 0.9186 - val_loss: 0.7715 - val_accuracy: 0.6737\n",
      "Epoch 4/100\n",
      "95/95 [==============================] - 410s 4s/step - loss: 0.1817 - accuracy: 0.9254 - val_loss: 0.2934 - val_accuracy: 0.8729\n",
      "Epoch 5/100\n",
      "95/95 [==============================] - 412s 4s/step - loss: 0.1513 - accuracy: 0.9353 - val_loss: 0.2009 - val_accuracy: 0.9265\n",
      "Epoch 6/100\n",
      "95/95 [==============================] - 385s 4s/step - loss: 0.1301 - accuracy: 0.9442 - val_loss: 0.4013 - val_accuracy: 0.8703\n",
      "Epoch 7/100\n",
      "95/95 [==============================] - 363s 4s/step - loss: 0.1161 - accuracy: 0.9533 - val_loss: 0.2179 - val_accuracy: 0.9153\n",
      "Epoch 8/100\n",
      "95/95 [==============================] - 361s 4s/step - loss: 0.0958 - accuracy: 0.9611 - val_loss: 0.1954 - val_accuracy: 0.9318\n",
      "Epoch 9/100\n",
      "95/95 [==============================] - 351s 4s/step - loss: 0.0880 - accuracy: 0.9651 - val_loss: 0.1549 - val_accuracy: 0.9385\n",
      "Epoch 10/100\n",
      "95/95 [==============================] - 341s 4s/step - loss: 0.0662 - accuracy: 0.9740 - val_loss: 0.2023 - val_accuracy: 0.9298\n",
      "Epoch 11/100\n",
      "95/95 [==============================] - 341s 4s/step - loss: 0.0655 - accuracy: 0.9740 - val_loss: 0.2899 - val_accuracy: 0.9067\n",
      "Epoch 12/100\n",
      "95/95 [==============================] - 341s 4s/step - loss: 0.0503 - accuracy: 0.9808 - val_loss: 0.5564 - val_accuracy: 0.8405\n",
      "Epoch 13/100\n",
      "95/95 [==============================] - 340s 4s/step - loss: 0.0384 - accuracy: 0.9854 - val_loss: 0.1870 - val_accuracy: 0.9464\n",
      "Epoch 14/100\n",
      "95/95 [==============================] - 340s 4s/step - loss: 0.0403 - accuracy: 0.9839 - val_loss: 0.2836 - val_accuracy: 0.9265\n",
      "Epoch 15/100\n",
      "95/95 [==============================] - 341s 4s/step - loss: 0.0299 - accuracy: 0.9906 - val_loss: 0.1364 - val_accuracy: 0.9557\n",
      "Epoch 16/100\n",
      "95/95 [==============================] - 341s 4s/step - loss: 0.0343 - accuracy: 0.9874 - val_loss: 0.3166 - val_accuracy: 0.9107\n",
      "Epoch 17/100\n",
      "95/95 [==============================] - 340s 4s/step - loss: 0.0244 - accuracy: 0.9916 - val_loss: 0.3305 - val_accuracy: 0.9113\n",
      "Epoch 18/100\n",
      "95/95 [==============================] - 340s 4s/step - loss: 0.0215 - accuracy: 0.9935 - val_loss: 0.2052 - val_accuracy: 0.9583\n",
      "Epoch 19/100\n",
      "95/95 [==============================] - 339s 4s/step - loss: 0.0204 - accuracy: 0.9930 - val_loss: 0.2024 - val_accuracy: 0.9576\n",
      "Epoch 20/100\n",
      "95/95 [==============================] - 341s 4s/step - loss: 0.0168 - accuracy: 0.9934 - val_loss: 0.1899 - val_accuracy: 0.9596\n",
      "Epoch 21/100\n",
      "95/95 [==============================] - 339s 4s/step - loss: 0.0169 - accuracy: 0.9940 - val_loss: 0.1946 - val_accuracy: 0.9371\n",
      "Epoch 22/100\n",
      "95/95 [==============================] - 340s 4s/step - loss: 0.0188 - accuracy: 0.9949 - val_loss: 0.2382 - val_accuracy: 0.9490\n",
      "Epoch 23/100\n",
      "95/95 [==============================] - 340s 4s/step - loss: 0.0169 - accuracy: 0.9932 - val_loss: 0.1881 - val_accuracy: 0.9510\n",
      "Epoch 24/100\n",
      "95/95 [==============================] - 341s 4s/step - loss: 0.0126 - accuracy: 0.9957 - val_loss: 0.4752 - val_accuracy: 0.8855\n",
      "Epoch 25/100\n",
      "95/95 [==============================] - 341s 4s/step - loss: 0.0119 - accuracy: 0.9957 - val_loss: 0.3583 - val_accuracy: 0.9252\n",
      "Epoch 26/100\n",
      "95/95 [==============================] - 340s 4s/step - loss: 0.0093 - accuracy: 0.9978 - val_loss: 0.1952 - val_accuracy: 0.9662\n",
      "Epoch 27/100\n",
      "95/95 [==============================] - 340s 4s/step - loss: 0.0111 - accuracy: 0.9965 - val_loss: 0.3573 - val_accuracy: 0.9305\n",
      "Epoch 28/100\n",
      "95/95 [==============================] - 340s 4s/step - loss: 0.0067 - accuracy: 0.9980 - val_loss: 0.9597 - val_accuracy: 0.8432\n",
      "Epoch 29/100\n",
      "95/95 [==============================] - 339s 4s/step - loss: 0.0081 - accuracy: 0.9980 - val_loss: 0.9196 - val_accuracy: 0.8412\n",
      "Epoch 30/100\n",
      "95/95 [==============================] - 342s 4s/step - loss: 0.0113 - accuracy: 0.9962 - val_loss: 0.2677 - val_accuracy: 0.9471\n",
      "Epoch 31/100\n",
      "95/95 [==============================] - 346s 4s/step - loss: 0.0109 - accuracy: 0.9970 - val_loss: 0.3264 - val_accuracy: 0.9471\n",
      "Epoch 32/100\n",
      "95/95 [==============================] - 341s 4s/step - loss: 0.0070 - accuracy: 0.9972 - val_loss: 0.3301 - val_accuracy: 0.9404\n",
      "Epoch 33/100\n",
      "95/95 [==============================] - 341s 4s/step - loss: 0.0076 - accuracy: 0.9972 - val_loss: 0.2605 - val_accuracy: 0.9437\n",
      "Epoch 34/100\n",
      "95/95 [==============================] - 339s 4s/step - loss: 0.0098 - accuracy: 0.9969 - val_loss: 0.2816 - val_accuracy: 0.9490\n",
      "Epoch 35/100\n",
      "95/95 [==============================] - 341s 4s/step - loss: 0.0090 - accuracy: 0.9977 - val_loss: 0.3190 - val_accuracy: 0.9385\n",
      "Epoch 36/100\n",
      "95/95 [==============================] - 344s 4s/step - loss: 0.0061 - accuracy: 0.9985 - val_loss: 0.2379 - val_accuracy: 0.9590\n",
      "Epoch 37/100\n",
      "95/95 [==============================] - 341s 4s/step - loss: 0.0099 - accuracy: 0.9978 - val_loss: 0.8563 - val_accuracy: 0.8875\n",
      "Epoch 38/100\n",
      "95/95 [==============================] - 342s 4s/step - loss: 0.0066 - accuracy: 0.9985 - val_loss: 0.3206 - val_accuracy: 0.9550\n",
      "Epoch 39/100\n",
      "95/95 [==============================] - 341s 4s/step - loss: 0.0065 - accuracy: 0.9982 - val_loss: 0.2951 - val_accuracy: 0.9537\n",
      "Epoch 40/100\n",
      "95/95 [==============================] - 339s 4s/step - loss: 0.0039 - accuracy: 0.9987 - val_loss: 0.3760 - val_accuracy: 0.9371\n",
      "Epoch 41/100\n",
      "95/95 [==============================] - 341s 4s/step - loss: 0.0063 - accuracy: 0.9974 - val_loss: 0.2705 - val_accuracy: 0.9510\n",
      "Epoch 42/100\n",
      "95/95 [==============================] - 340s 4s/step - loss: 0.0039 - accuracy: 0.9978 - val_loss: 0.3522 - val_accuracy: 0.9477\n",
      "Epoch 43/100\n",
      "95/95 [==============================] - 339s 4s/step - loss: 0.0037 - accuracy: 0.9988 - val_loss: 0.2971 - val_accuracy: 0.9570\n",
      "Epoch 44/100\n",
      "95/95 [==============================] - 340s 4s/step - loss: 0.0051 - accuracy: 0.9982 - val_loss: 0.2459 - val_accuracy: 0.9610\n",
      "Epoch 45/100\n",
      "95/95 [==============================] - 341s 4s/step - loss: 0.0034 - accuracy: 0.9988 - val_loss: 0.3176 - val_accuracy: 0.9563\n",
      "Epoch 46/100\n",
      "95/95 [==============================] - 341s 4s/step - loss: 0.0019 - accuracy: 0.9992 - val_loss: 0.7856 - val_accuracy: 0.9093\n",
      "Epoch 47/100\n",
      "95/95 [==============================] - 341s 4s/step - loss: 0.0021 - accuracy: 0.9995 - val_loss: 0.8413 - val_accuracy: 0.9060\n",
      "Epoch 48/100\n",
      "95/95 [==============================] - 341s 4s/step - loss: 0.0068 - accuracy: 0.9980 - val_loss: 0.3228 - val_accuracy: 0.9312\n",
      "Epoch 49/100\n",
      "95/95 [==============================] - 341s 4s/step - loss: 0.0037 - accuracy: 0.9990 - val_loss: 0.3821 - val_accuracy: 0.9404\n",
      "Epoch 50/100\n",
      "95/95 [==============================] - 340s 4s/step - loss: 0.0023 - accuracy: 0.9993 - val_loss: 0.5733 - val_accuracy: 0.9206\n",
      "Epoch 51/100\n",
      "95/95 [==============================] - 341s 4s/step - loss: 0.0036 - accuracy: 0.9985 - val_loss: 0.3755 - val_accuracy: 0.9590\n",
      "Epoch 52/100\n",
      "95/95 [==============================] - 340s 4s/step - loss: 0.0040 - accuracy: 0.9990 - val_loss: 0.3739 - val_accuracy: 0.9504\n",
      "Epoch 53/100\n",
      "95/95 [==============================] - 341s 4s/step - loss: 0.0016 - accuracy: 0.9993 - val_loss: 0.3466 - val_accuracy: 0.9583\n",
      "Epoch 54/100\n",
      "95/95 [==============================] - 341s 4s/step - loss: 0.0066 - accuracy: 0.9985 - val_loss: 0.3812 - val_accuracy: 0.9497\n",
      "Epoch 55/100\n",
      "95/95 [==============================] - 340s 4s/step - loss: 0.0037 - accuracy: 0.9988 - val_loss: 0.3547 - val_accuracy: 0.9490\n",
      "Epoch 56/100\n",
      "95/95 [==============================] - 342s 4s/step - loss: 0.0030 - accuracy: 0.9995 - val_loss: 2.0447 - val_accuracy: 0.7889\n",
      "Epoch 57/100\n",
      "95/95 [==============================] - 343s 4s/step - loss: 0.0049 - accuracy: 0.9988 - val_loss: 0.2718 - val_accuracy: 0.9596\n",
      "Epoch 58/100\n"
     ]
    },
    {
     "name": "stdout",
     "output_type": "stream",
     "text": [
      "95/95 [==============================] - 339s 4s/step - loss: 0.0035 - accuracy: 0.9988 - val_loss: 0.4157 - val_accuracy: 0.9298\n",
      "Epoch 59/100\n",
      "95/95 [==============================] - 340s 4s/step - loss: 2.2511e-04 - accuracy: 1.0000 - val_loss: 0.3842 - val_accuracy: 0.9490\n",
      "Epoch 60/100\n",
      "95/95 [==============================] - 341s 4s/step - loss: 0.0021 - accuracy: 0.9997 - val_loss: 0.3660 - val_accuracy: 0.9596\n",
      "Epoch 61/100\n",
      "95/95 [==============================] - 340s 4s/step - loss: 0.0027 - accuracy: 0.9988 - val_loss: 0.2812 - val_accuracy: 0.9629\n",
      "Epoch 62/100\n",
      "95/95 [==============================] - 341s 4s/step - loss: 0.0026 - accuracy: 0.9992 - val_loss: 0.3735 - val_accuracy: 0.9583\n",
      "Epoch 63/100\n",
      "95/95 [==============================] - 340s 4s/step - loss: 3.6417e-04 - accuracy: 0.9998 - val_loss: 0.3157 - val_accuracy: 0.9576\n",
      "Epoch 64/100\n",
      "95/95 [==============================] - 341s 4s/step - loss: 3.3547e-04 - accuracy: 1.0000 - val_loss: 0.3539 - val_accuracy: 0.9596\n",
      "Epoch 65/100\n",
      "95/95 [==============================] - 340s 4s/step - loss: 0.0067 - accuracy: 0.9985 - val_loss: 0.3581 - val_accuracy: 0.9590\n",
      "Epoch 66/100\n",
      "95/95 [==============================] - 340s 4s/step - loss: 6.8348e-05 - accuracy: 1.0000 - val_loss: 0.6156 - val_accuracy: 0.9325\n",
      "Epoch 67/100\n",
      "95/95 [==============================] - 342s 4s/step - loss: 0.0032 - accuracy: 0.9990 - val_loss: 0.3413 - val_accuracy: 0.9563\n",
      "Epoch 68/100\n",
      "95/95 [==============================] - 341s 4s/step - loss: 2.9909e-04 - accuracy: 0.9998 - val_loss: 0.4305 - val_accuracy: 0.9530\n",
      "Epoch 69/100\n",
      "95/95 [==============================] - 341s 4s/step - loss: 0.0019 - accuracy: 0.9992 - val_loss: 0.4590 - val_accuracy: 0.9517\n",
      "Epoch 70/100\n",
      "95/95 [==============================] - 340s 4s/step - loss: 0.0038 - accuracy: 0.9993 - val_loss: 0.4495 - val_accuracy: 0.9490\n",
      "Epoch 71/100\n",
      "95/95 [==============================] - 342s 4s/step - loss: 3.7869e-04 - accuracy: 0.9998 - val_loss: 0.3757 - val_accuracy: 0.9517\n",
      "Epoch 72/100\n",
      "95/95 [==============================] - 343s 4s/step - loss: 0.0031 - accuracy: 0.9988 - val_loss: 0.3846 - val_accuracy: 0.9570\n",
      "Epoch 73/100\n",
      "95/95 [==============================] - 339s 4s/step - loss: 3.1294e-04 - accuracy: 0.9998 - val_loss: 0.3955 - val_accuracy: 0.9636\n",
      "Epoch 74/100\n",
      "95/95 [==============================] - 340s 4s/step - loss: 0.0014 - accuracy: 0.9993 - val_loss: 0.4752 - val_accuracy: 0.9523\n",
      "Epoch 75/100\n",
      "95/95 [==============================] - 339s 4s/step - loss: 0.0038 - accuracy: 0.9988 - val_loss: 0.9717 - val_accuracy: 0.9259\n",
      "Epoch 76/100\n",
      "95/95 [==============================] - 340s 4s/step - loss: 2.0031e-04 - accuracy: 1.0000 - val_loss: 0.3785 - val_accuracy: 0.9583\n",
      "Epoch 77/100\n",
      "95/95 [==============================] - 342s 4s/step - loss: 1.3976e-04 - accuracy: 1.0000 - val_loss: 0.4771 - val_accuracy: 0.9504\n",
      "Epoch 78/100\n",
      "95/95 [==============================] - 340s 4s/step - loss: 7.8459e-04 - accuracy: 0.9998 - val_loss: 0.4048 - val_accuracy: 0.9616\n",
      "Epoch 79/100\n",
      "95/95 [==============================] - 351s 4s/step - loss: 9.2842e-04 - accuracy: 0.9998 - val_loss: 0.4858 - val_accuracy: 0.9517\n",
      "Epoch 80/100\n",
      "95/95 [==============================] - 340s 4s/step - loss: 5.9141e-05 - accuracy: 1.0000 - val_loss: 0.4053 - val_accuracy: 0.9616\n",
      "Epoch 81/100\n",
      "95/95 [==============================] - 344s 4s/step - loss: 9.6943e-04 - accuracy: 0.9998 - val_loss: 0.4036 - val_accuracy: 0.9629\n",
      "Epoch 82/100\n",
      "95/95 [==============================] - 339s 4s/step - loss: 0.0036 - accuracy: 0.9997 - val_loss: 0.5457 - val_accuracy: 0.9504\n",
      "Epoch 83/100\n",
      "95/95 [==============================] - 340s 4s/step - loss: 7.5295e-05 - accuracy: 1.0000 - val_loss: 0.5323 - val_accuracy: 0.9537\n",
      "Epoch 84/100\n",
      "95/95 [==============================] - 340s 4s/step - loss: 0.0011 - accuracy: 0.9995 - val_loss: 0.4350 - val_accuracy: 0.9649\n",
      "Epoch 85/100\n",
      "95/95 [==============================] - 341s 4s/step - loss: 0.0037 - accuracy: 0.9995 - val_loss: 1.1574 - val_accuracy: 0.8743\n",
      "Epoch 86/100\n",
      "95/95 [==============================] - 340s 4s/step - loss: 1.4638e-04 - accuracy: 1.0000 - val_loss: 0.4367 - val_accuracy: 0.9643\n",
      "Epoch 87/100\n",
      "95/95 [==============================] - 340s 4s/step - loss: 5.4774e-04 - accuracy: 0.9997 - val_loss: 0.6213 - val_accuracy: 0.9471\n",
      "Epoch 88/100\n",
      "95/95 [==============================] - 340s 4s/step - loss: 0.0023 - accuracy: 0.9997 - val_loss: 0.4727 - val_accuracy: 0.9530\n",
      "Epoch 89/100\n",
      "95/95 [==============================] - 340s 4s/step - loss: 5.3530e-05 - accuracy: 1.0000 - val_loss: 0.4432 - val_accuracy: 0.9596\n",
      "Epoch 90/100\n",
      "95/95 [==============================] - 339s 4s/step - loss: 0.0012 - accuracy: 0.9998 - val_loss: 0.4891 - val_accuracy: 0.9404\n",
      "Epoch 91/100\n",
      "95/95 [==============================] - 339s 4s/step - loss: 5.0340e-04 - accuracy: 0.9998 - val_loss: 0.7527 - val_accuracy: 0.9411\n",
      "Epoch 92/100\n",
      "95/95 [==============================] - 339s 4s/step - loss: 0.0018 - accuracy: 0.9993 - val_loss: 0.5257 - val_accuracy: 0.9537\n",
      "Epoch 93/100\n",
      "95/95 [==============================] - 339s 4s/step - loss: 0.0027 - accuracy: 0.9990 - val_loss: 0.5794 - val_accuracy: 0.9351\n",
      "Epoch 94/100\n",
      "95/95 [==============================] - 339s 4s/step - loss: 0.0017 - accuracy: 0.9995 - val_loss: 0.5230 - val_accuracy: 0.9510\n",
      "Epoch 95/100\n",
      "95/95 [==============================] - 339s 4s/step - loss: 5.7713e-04 - accuracy: 0.9998 - val_loss: 0.5326 - val_accuracy: 0.9490\n",
      "Epoch 96/100\n",
      "95/95 [==============================] - 339s 4s/step - loss: 0.0018 - accuracy: 0.9993 - val_loss: 0.5367 - val_accuracy: 0.9504\n",
      "Epoch 97/100\n",
      "95/95 [==============================] - 340s 4s/step - loss: 3.2468e-04 - accuracy: 0.9998 - val_loss: 0.4801 - val_accuracy: 0.9523\n",
      "Epoch 98/100\n",
      "95/95 [==============================] - 340s 4s/step - loss: 9.1934e-05 - accuracy: 1.0000 - val_loss: 0.5426 - val_accuracy: 0.9457\n",
      "Epoch 99/100\n",
      "95/95 [==============================] - 339s 4s/step - loss: 1.1338e-04 - accuracy: 1.0000 - val_loss: 0.5546 - val_accuracy: 0.9563\n",
      "Epoch 100/100\n",
      "95/95 [==============================] - 340s 4s/step - loss: 6.4870e-05 - accuracy: 1.0000 - val_loss: 0.5902 - val_accuracy: 0.9557\n"
     ]
    },
    {
     "data": {
      "text/plain": [
       "<tensorflow.python.keras.callbacks.History at 0x19449619988>"
      ]
     },
     "execution_count": 7,
     "metadata": {},
     "output_type": "execute_result"
    }
   ],
   "source": [
    "\n",
    "model.fit(trDat,                    # Training data\n",
    "          trLbl,                            # Training label\n",
    "          validation_data=(tsDat, tsLbl),   # Validation data and label\n",
    "          epochs=100,                       # The amount of epochs to be trained\n",
    "          batch_size=64,                   \n",
    "          shuffle=True,                     # To shuffle the training data\n",
    "          callbacks=callbacks_list)         # Callbacks to execute the checkpoints"
   ]
  },
  {
   "cell_type": "markdown",
   "metadata": {},
   "source": [
    "## **8. Validate the deep learning model**\n",
    "---\n",
    "* Step 1: Load the trained weights and compile the model\n",
    "* Step 2: Make prediction\n"
   ]
  },
  {
   "cell_type": "code",
   "execution_count": 8,
   "metadata": {},
   "outputs": [
    {
     "name": "stdout",
     "output_type": "stream",
     "text": [
      "Prediction completes.\n"
     ]
    }
   ],
   "source": [
    "# Step 1\n",
    "modelGo.load_weights(filepath)\n",
    "modelGo.compile(loss='categorical_crossentropy', \n",
    "                optimizer=optmz, \n",
    "                metrics=['accuracy'])\n",
    "\n",
    "# Step 2\n",
    "predicts    = modelGo.predict(tsDat)\n",
    "print(\"Prediction completes.\")"
   ]
  },
  {
   "cell_type": "markdown",
   "metadata": {},
   "source": [
    "## **9. Report classification metrics**\n",
    "---\n",
    "* Step 1: Setup the label\n",
    "* Step 2: Convert label from one-hot to integer\n",
    "* Step 3: Calculate the accuracy score\n",
    "* Step 4: Generate classification report"
   ]
  },
  {
   "cell_type": "code",
   "execution_count": 9,
   "metadata": {},
   "outputs": [
    {
     "name": "stdout",
     "output_type": "stream",
     "text": [
      "Best accuracy (on testing dataset): 96.62%\n",
      "              precision    recall  f1-score   support\n",
      "\n",
      "   with_mask     0.9554    0.9772    0.9662       745\n",
      "without_mask     0.9773    0.9556    0.9663       766\n",
      "\n",
      "    accuracy                         0.9662      1511\n",
      "   macro avg     0.9663    0.9664    0.9662      1511\n",
      "weighted avg     0.9665    0.9662    0.9662      1511\n",
      "\n"
     ]
    }
   ],
   "source": [
    "# Step 1\n",
    "labelname   = ['with_mask',          # The label for reporting metrics\n",
    "               'without_mask']\n",
    "# Step 2\n",
    "predout     = np.argmax(predicts,axis=1)\n",
    "testout     = np.argmax(tsLbl,axis=1)\n",
    "\n",
    "# Step 3\n",
    "testScores  = metrics.accuracy_score(testout,predout)\n",
    "\n",
    "# Step 4\n",
    "print(\"Best accuracy (on testing dataset): %.2f%%\" % (testScores*100))\n",
    "print(metrics.classification_report(testout,\n",
    "                                    predout,\n",
    "                                    target_names=labelname,\n",
    "                                    digits=4))"
   ]
  },
  {
   "cell_type": "markdown",
   "metadata": {},
   "source": [
    "## **10. Print confusion matrix**\n",
    "---"
   ]
  },
  {
   "cell_type": "code",
   "execution_count": 10,
   "metadata": {},
   "outputs": [
    {
     "name": "stdout",
     "output_type": "stream",
     "text": [
      "[[728  17]\n",
      " [ 34 732]]\n"
     ]
    }
   ],
   "source": [
    "confusion   = metrics.confusion_matrix(testout,predout)\n",
    "print(confusion)"
   ]
  },
  {
   "cell_type": "markdown",
   "metadata": {},
   "source": [
    "## **11. Plot curves on validation loss and accuracy**\n",
    "---"
   ]
  },
  {
   "cell_type": "code",
   "execution_count": 11,
   "metadata": {},
   "outputs": [
    {
     "data": {
      "image/png": "[encoded data removed]",
      "text/plain": [
       "<Figure size 504x504 with 2 Axes>"
      ]
     },
     "metadata": {},
     "output_type": "display_data"
    }
   ],
   "source": [
    "records     = pd.read_csv(folderpath+modelname +'.csv')\n",
    "plt.figure()\n",
    "plt.subplot(211)\n",
    "plt.plot(records['val_loss'], label=\"validation\")\n",
    "plt.plot(records['loss'],label=\"training\")\n",
    "plt.yticks([0.00,0.50,1.00,1.50])\n",
    "plt.title('Loss value',fontsize=12)\n",
    "\n",
    "ax          = plt.gca()\n",
    "ax.set_xticklabels([])\n",
    "\n",
    "plt.subplot(212)\n",
    "plt.plot(records['val_accuracy'],label=\"validation\")\n",
    "plt.plot(records['accuracy'],label=\"training\")\n",
    "plt.yticks([0.5,0.6,0.7,0.8])\n",
    "plt.title('Accuracy',fontsize=12)\n",
    "ax.legend()\n",
    "plt.show()"
   ]
  },
  {
   "cell_type": "code",
   "execution_count": 13,
   "metadata": {},
   "outputs": [
    {
     "data": {
      "image/png": "[encoded data removed]",
      "text/plain": [
       "<IPython.core.display.Image object>"
      ]
     },
     "execution_count": 13,
     "metadata": {},
     "output_type": "execute_result"
    }
   ],
   "source": [
    "plotpath  = folderpath+modelname+'_plot.png'\n",
    "plot_model(model, \n",
    "           to_file=plotpath, \n",
    "           show_shapes=True, \n",
    "           show_layer_names=False,\n",
    "           rankdir='TB')\n"
   ]
  },
  {
   "cell_type": "code",
   "execution_count": 1,
   "metadata": {},
   "outputs": [
    {
     "name": "stdout",
     "output_type": "stream",
     "text": [
      "['/device:CPU:0', '/device:GPU:0']\n"
     ]
    }
   ],
   "source": [
    "from tensorflow.python.client import device_lib\n",
    "def get_available_devices():\n",
    "    local_device_protos = device_lib.list_local_devices()\n",
    "    return [x.name for x in local_device_protos]\n",
    "print(get_available_devices()) "
   ]
  },
  {
   "cell_type": "code",
   "execution_count": null,
   "metadata": {},
   "outputs": [],
   "source": []
  }
 ],
 "metadata": {
  "kernelspec": {
   "display_name": "Python 3 (ipykernel)",
   "language": "python",
   "name": "python3"
  },
  "language_info": {
   "codemirror_mode": {
    "name": "ipython",
    "version": 3
   },
   "file_extension": ".py",
   "mimetype": "text/x-python",
   "name": "python",
   "nbconvert_exporter": "python",
   "pygments_lexer": "ipython3",
   "version": "3.7.11"
  }
 },
 "nbformat": 4,
 "nbformat_minor": 4
}
