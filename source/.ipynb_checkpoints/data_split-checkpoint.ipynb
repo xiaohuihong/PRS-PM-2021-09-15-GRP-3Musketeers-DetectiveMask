{
 "cells": [
  {
   "cell_type": "markdown",
   "id": "c39f47d1",
   "metadata": {},
   "source": [
    "## **Split data for training and testing**"
   ]
  },
  {
   "cell_type": "code",
   "execution_count": null,
   "id": "3c7c8e7c",
   "metadata": {},
   "outputs": [],
   "source": [
    "import numpy as np\n",
    "import os\n",
    "import shutil\n",
    "# list all files in dir\n",
    "imgs_with_mask = [f for f in os.listdir('../data/with_mask')]\n",
    "imgs_without_mask = [f for f in os.listdir('../data/without_mask')]\n",
    "\n",
    "with_mask_input=os.path.join(os.path.abspath(os.path.join(os.path.dirname(os.path.realpath(\"__file__\")), \"../data/with_mask\")))\n",
    "without_mask_input=os.path.join(os.path.abspath(os.path.join(os.path.dirname(os.path.realpath(\"__file__\")), \"../data/without_mask\")))\n",
    "\n",
    "training_with_mask_output = '../data/training/with_mask' \n",
    "training_without_mask_output = '../data/training/without_mask' \n",
    "\n",
    "   \n",
    "training_imgs_with_mask = np.random.choice(imgs_with_mask,int(len(imgs_with_mask) *.8), replace=False)\n",
    "training_imgs_without_mask = np.random.choice(imgs_without_mask,int(len(imgs_without_mask) *.8), replace=False)\n",
    "\n",
    "for f in training_imgs_with_mask:\n",
    "    shutil.move(os.path.join(with_mask_input, f), training_with_mask_output)\n",
    "\n",
    "for f in training_imgs_without_mask:\n",
    "    shutil.move(os.path.join(without_mask_input, f), training_without_mask_output)"
   ]
  }
 ],
 "metadata": {
  "kernelspec": {
   "display_name": "Python 3",
   "language": "python",
   "name": "python3"
  },
  "language_info": {
   "codemirror_mode": {
    "name": "ipython",
    "version": 3
   },
   "file_extension": ".py",
   "mimetype": "text/x-python",
   "name": "python",
   "nbconvert_exporter": "python",
   "pygments_lexer": "ipython3",
   "version": "3.7.10"
  }
 },
 "nbformat": 4,
 "nbformat_minor": 5
}
