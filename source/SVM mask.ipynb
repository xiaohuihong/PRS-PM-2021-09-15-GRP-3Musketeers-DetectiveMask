{
 "cells": [
  {
   "cell_type": "code",
   "execution_count": 1,
   "id": "108b2fc0",
   "metadata": {},
   "outputs": [
    {
     "name": "stdout",
     "output_type": "stream",
     "text": [
      "WARNING:tensorflow:From <ipython-input-1-4a3f57d5652e>:2: is_gpu_available (from tensorflow.python.framework.test_util) is deprecated and will be removed in a future version.\n",
      "Instructions for updating:\n",
      "Use `tf.config.list_physical_devices('GPU')` instead.\n"
     ]
    },
    {
     "data": {
      "text/plain": [
       "True"
      ]
     },
     "execution_count": 1,
     "metadata": {},
     "output_type": "execute_result"
    }
   ],
   "source": [
    "import tensorflow as tf\n",
    "tf.test.is_gpu_available()"
   ]
  },
  {
   "cell_type": "code",
   "execution_count": 3,
   "id": "f54903df",
   "metadata": {},
   "outputs": [],
   "source": [
    "import pandas as pd\n",
    "import os\n",
    "from skimage.transform import resize\n",
    "from skimage.io import imread\n",
    "import numpy as np\n",
    "import matplotlib.pyplot as plt"
   ]
  },
  {
   "cell_type": "code",
   "execution_count": 4,
   "id": "92124a1a",
   "metadata": {},
   "outputs": [
    {
     "name": "stdout",
     "output_type": "stream",
     "text": [
      "loading... category : with_mask\n",
      "loaded category:with_mask successfully\n",
      "loading... category : without_mask\n",
      "loaded category:without_mask successfully\n"
     ]
    }
   ],
   "source": [
    "#input\n",
    "Categories=['with_mask','without_mask']\n",
    "flat_data_arr=[] #input array\n",
    "target_arr=[] #output array\n",
    "datadir='C:/Users/Sanje/Documents/GitHub/PRS-PM-2021-09-15-GRP-3Musketeers-DetectiveMask/data' \n",
    "#C:\\Users\\Sanje\\Documents\\GitHub\\PRS-PM-2021-09-15-GRP-3Musketeers-DetectiveMask\\data\n",
    "#/content/drive/MyDrive/ML\n",
    "#path which contains all the categories of images\n",
    "for i in Categories:\n",
    "    \n",
    "    print(f'loading... category : {i}')\n",
    "    path=os.path.join(datadir,i)\n",
    "    for img in os.listdir(path):\n",
    "        img_array=imread(os.path.join(path,img))\n",
    "        img_resized=resize(img_array,(150,150,3))\n",
    "        flat_data_arr.append(img_resized.flatten())\n",
    "        target_arr.append(Categories.index(i))\n",
    "    print(f'loaded category:{i} successfully')\n",
    "flat_data=np.array(flat_data_arr)\n",
    "target=np.array(target_arr)\n",
    "df=pd.DataFrame(flat_data) #dataframe\n",
    "df['Target']=target\n",
    "x=df.iloc[:,:-1] #input data \n",
    "y=df.iloc[:,-1] #output data"
   ]
  },
  {
   "cell_type": "code",
   "execution_count": 12,
   "id": "8d044bab",
   "metadata": {},
   "outputs": [],
   "source": [
    "from sklearn.svm import SVC\n",
    "from sklearn.model_selection import train_test_split\n",
    "from sklearn.preprocessing import StandardScaler\n",
    "x_train,x_test,y_train,y_test=train_test_split(x,y,test_size=0.20,random_state=77,stratify=y)\n",
    "\n",
    "gamma1, gamma2 = 0.1, 1\n",
    "C1, C2 = 1, 10\n",
    "hyperparams = (gamma1, C1), (gamma1, C2), (gamma2, C1), (gamma2, C2)\n",
    "\n",
    "scaler = StandardScaler()  \n",
    "scaler.fit(x_train)\n",
    "x_train = scaler.transform(x_train)  \n",
    "x_test = scaler.transform(x_test) \n",
    "\n",
    "svm_clfs = []\n",
    "for gamma, C in hyperparams:\n",
    "    svm_clf=SVC(kernel=\"rbf\",gamma=gamma, C=C) \n",
    "    svm_clf.fit(x_train,y_train)\n",
    "    svm_clfs.append(svm_clf)\n",
    "\n",
    "\n"
   ]
  },
  {
   "cell_type": "code",
   "execution_count": 13,
   "id": "9ac07efd",
   "metadata": {},
   "outputs": [
    {
     "name": "stdout",
     "output_type": "stream",
     "text": [
      "[SVC(C=1, gamma=0.1), SVC(C=10, gamma=0.1), SVC(C=1, gamma=1), SVC(C=10, gamma=1)]\n"
     ]
    }
   ],
   "source": [
    "print (svm_clfs)"
   ]
  },
  {
   "cell_type": "code",
   "execution_count": 11,
   "id": "65d125eb",
   "metadata": {},
   "outputs": [
    {
     "name": "stdout",
     "output_type": "stream",
     "text": [
      "r= 0.1 C= 1\n",
      "Accuracy= 0.5519523494374586\n",
      "[[ 68 677]\n",
      " [  0 766]]\n",
      "              precision    recall  f1-score   support\n",
      "\n",
      "           0       1.00      0.09      0.17       745\n",
      "           1       0.53      1.00      0.69       766\n",
      "\n",
      "    accuracy                           0.55      1511\n",
      "   macro avg       0.77      0.55      0.43      1511\n",
      "weighted avg       0.76      0.55      0.43      1511\n",
      "\n",
      "r= 0.1 C= 10\n",
      "Accuracy= 0.5519523494374586\n",
      "[[ 68 677]\n",
      " [  0 766]]\n",
      "              precision    recall  f1-score   support\n",
      "\n",
      "           0       1.00      0.09      0.17       745\n",
      "           1       0.53      1.00      0.69       766\n",
      "\n",
      "    accuracy                           0.55      1511\n",
      "   macro avg       0.77      0.55      0.43      1511\n",
      "weighted avg       0.76      0.55      0.43      1511\n",
      "\n",
      "r= 1 C= 1\n",
      "Accuracy= 0.5506287227001986\n",
      "[[ 66 679]\n",
      " [  0 766]]\n",
      "              precision    recall  f1-score   support\n",
      "\n",
      "           0       1.00      0.09      0.16       745\n",
      "           1       0.53      1.00      0.69       766\n",
      "\n",
      "    accuracy                           0.55      1511\n",
      "   macro avg       0.77      0.54      0.43      1511\n",
      "weighted avg       0.76      0.55      0.43      1511\n",
      "\n",
      "r= 1 C= 10\n",
      "Accuracy= 0.5506287227001986\n",
      "[[ 66 679]\n",
      " [  0 766]]\n",
      "              precision    recall  f1-score   support\n",
      "\n",
      "           0       1.00      0.09      0.16       745\n",
      "           1       0.53      1.00      0.69       766\n",
      "\n",
      "    accuracy                           0.55      1511\n",
      "   macro avg       0.77      0.54      0.43      1511\n",
      "weighted avg       0.76      0.55      0.43      1511\n",
      "\n"
     ]
    }
   ],
   "source": [
    "from sklearn.metrics import classification_report, confusion_matrix  \n",
    "import sklearn.metrics as metrics\n",
    "for i, svm_clf in enumerate(svm_clfs):\n",
    "    predictions = svm_clf.predict(x_test)  \n",
    "    gamma, C = hyperparams[i]\n",
    "    print(\"r=\", gamma, \"C=\", C)\n",
    "    print(\"Accuracy=\", metrics.accuracy_score(y_test, predictions))\n",
    "    print(confusion_matrix(y_test,predictions))  \n",
    "    print(classification_report(y_test,predictions))  "
   ]
  },
  {
   "cell_type": "code",
   "execution_count": null,
   "id": "69e86b94",
   "metadata": {},
   "outputs": [],
   "source": [
    "import joblib\n",
    "joblib.dump(svm_clf, 'SVM_tutorial_file_name.pkl')\n",
    "\n",
    "import pickle\n",
    "# save the model to disk\n",
    "filename = 'SVM_tutorial_model.sav'\n",
    "pickle.dump(svm_clf, open(filename, 'wb'))\n",
    "model.save(\"SVM_tutorial_model.hdf5\")"
   ]
  },
  {
   "cell_type": "code",
   "execution_count": 15,
   "id": "8854d46e",
   "metadata": {},
   "outputs": [],
   "source": [
    "#model construction\n",
    "from sklearn import svm\n",
    "from sklearn.model_selection import GridSearchCV\n",
    "param_grid={'C':[0.1,1,10,100],'gamma':[0.0001,0.001,0.1,1],'kernel':['rbf','poly']}\n",
    "svc=svm.SVC(probability=True)\n",
    "model=GridSearchCV(svc,param_grid)\n"
   ]
  },
  {
   "cell_type": "code",
   "execution_count": null,
   "id": "88fea321",
   "metadata": {},
   "outputs": [
    {
     "name": "stdout",
     "output_type": "stream",
     "text": [
      "Splitted Successfully\n"
     ]
    }
   ],
   "source": [
    "#model training\n",
    "from sklearn.model_selection import train_test_split\n",
    "x_train,x_test,y_train,y_test=train_test_split(x,y,test_size=0.20,random_state=77,stratify=y)\n",
    "print('Splitted Successfully')\n",
    "model.fit(x_train,y_train)\n",
    "print('The Model is trained well with the given images')\n",
    "# model.best_params_ contains the best parameters obtained from GridSearchCV"
   ]
  },
  {
   "cell_type": "code",
   "execution_count": 17,
   "id": "b6e11c90",
   "metadata": {},
   "outputs": [
    {
     "name": "stdout",
     "output_type": "stream",
     "text": [
      "The predicted Data is :\n",
      "[0 0 1 1]\n",
      "The actual data is:\n",
      "[0 0 1 1]\n",
      "The model is 100.0% accurate\n"
     ]
    }
   ],
   "source": [
    "#model testing\n",
    "from sklearn.metrics import accuracy_score\n",
    "y_pred=model.predict(x_test)\n",
    "print(\"The predicted Data is :\")\n",
    "print(y_pred)\n",
    "print(\"The actual data is:\")\n",
    "print(np.array(y_test))\n",
    "print(f\"The model is {accuracy_score(y_pred,y_test)*100}% accurate\")"
   ]
  },
  {
   "cell_type": "code",
   "execution_count": 18,
   "id": "7251fd77",
   "metadata": {},
   "outputs": [
    {
     "name": "stdout",
     "output_type": "stream",
     "text": [
      "Enter URL of Image :\n"
     ]
    },
    {
     "data": {
      "image/png": "[encoded data removed]",
      "text/plain": [
       "<Figure size 432x288 with 1 Axes>"
      ]
     },
     "metadata": {
      "needs_background": "light"
     },
     "output_type": "display_data"
    },
    {
     "name": "stdout",
     "output_type": "stream",
     "text": [
      "with_mask = 48.97354005779632%\n",
      "without_mask = 51.02645994220369%\n",
      "The predicted image is : without_mask\n"
     ]
    }
   ],
   "source": [
    "#model evaluation\n",
    "url=input('Enter URL of Image :')\n",
    "img=imread('C:/Users/Sanje/Documents/GitHub/PRS-PM-2021-09-15-GRP-3Musketeers-DetectiveMask/data/data/with_mask_19.jpg')\n",
    "plt.imshow(img)\n",
    "plt.show()\n",
    "img_resize=resize(img,(150,150,3))\n",
    "l=[img_resize.flatten()]\n",
    "probability=model.predict_proba(l)\n",
    "for ind,val in enumerate(Categories):\n",
    "    print(f'{val} = {probability[0][ind]*100}%')\n",
    "print(\"The predicted image is : \"+Categories[model.predict(l)[0]])"
   ]
  },
  {
   "cell_type": "code",
   "execution_count": 22,
   "id": "eab0a6db",
   "metadata": {},
   "outputs": [
    {
     "data": {
      "text/plain": [
       "['model_file_name.pkl']"
      ]
     },
     "execution_count": 22,
     "metadata": {},
     "output_type": "execute_result"
    }
   ],
   "source": [
    "import joblib\n",
    "joblib.dump(model, 'model_file_name.pkl')"
   ]
  },
  {
   "cell_type": "code",
   "execution_count": 25,
   "id": "dbd52b3c",
   "metadata": {},
   "outputs": [],
   "source": [
    "import pickle\n",
    "# save the model to disk\n",
    "filename = 'finalized_model.sav'\n",
    "pickle.dump(model, open(filename, 'wb'))\n",
    " \n",
    "# some time later...\n",
    " \n",
    "# load the model from disk\n",
    "loaded_model = pickle.load(open(filename, 'rb'))\n",
    "#result = loaded_model.score(X_test, y_test)\n",
    "#print(result)\n",
    "\n",
    "#pred = loaded_model.predict(X_test)\n",
    "#print(pred)\n"
   ]
  },
  {
   "cell_type": "code",
   "execution_count": null,
   "id": "4d6097f8",
   "metadata": {},
   "outputs": [],
   "source": []
  }
 ],
 "metadata": {
  "kernelspec": {
   "display_name": "Python 3",
   "language": "python",
   "name": "python3"
  },
  "language_info": {
   "codemirror_mode": {
    "name": "ipython",
    "version": 3
   },
   "file_extension": ".py",
   "mimetype": "text/x-python",
   "name": "python",
   "nbconvert_exporter": "python",
   "pygments_lexer": "ipython3",
   "version": "3.6.13"
  }
 },
 "nbformat": 4,
 "nbformat_minor": 5
}
