{
 "cells": [
  {
   "cell_type": "code",
   "execution_count": 1,
   "id": "108b2fc0",
   "metadata": {},
   "outputs": [
    {
     "name": "stdout",
     "output_type": "stream",
     "text": [
      "WARNING:tensorflow:From <ipython-input-1-4a3f57d5652e>:2: is_gpu_available (from tensorflow.python.framework.test_util) is deprecated and will be removed in a future version.\n",
      "Instructions for updating:\n",
      "Use `tf.config.list_physical_devices('GPU')` instead.\n"
     ]
    },
    {
     "data": {
      "text/plain": [
       "True"
      ]
     },
     "execution_count": 1,
     "metadata": {},
     "output_type": "execute_result"
    }
   ],
   "source": [
    "import tensorflow as tf\n",
    "tf.test.is_gpu_available()"
   ]
  },
  {
   "cell_type": "code",
   "execution_count": 2,
   "id": "f54903df",
   "metadata": {},
   "outputs": [],
   "source": [
    "import pandas as pd\n",
    "import os\n",
    "from skimage.transform import resize\n",
    "from skimage.io import imread\n",
    "import numpy as np\n",
    "import matplotlib.pyplot as plt"
   ]
  },
  {
   "cell_type": "code",
   "execution_count": 3,
   "id": "92124a1a",
   "metadata": {},
   "outputs": [
    {
     "name": "stdout",
     "output_type": "stream",
     "text": [
      "loading... category : with_mask\n",
      "loaded category:with_mask successfully\n",
      "loading... category : without_mask\n",
      "loaded category:without_mask successfully\n"
     ]
    }
   ],
   "source": [
    "#input\n",
    "Categories=['with_mask','without_mask']\n",
    "flat_data_arr=[] #input array\n",
    "target_arr=[] #output array\n",
    "datadir='C:/Users/Sanje/Documents/GitHub/PRS-PM-2021-09-15-GRP-3Musketeers-DetectiveMask/data' \n",
    "#C:\\Users\\Sanje\\Documents\\GitHub\\PRS-PM-2021-09-15-GRP-3Musketeers-DetectiveMask\\data\n",
    "#/content/drive/MyDrive/ML\n",
    "#path which contains all the categories of images\n",
    "for i in Categories:\n",
    "    \n",
    "    print(f'loading... category : {i}')\n",
    "    path=os.path.join(datadir,i)\n",
    "    for img in os.listdir(path):\n",
    "        img_array=imread(os.path.join(path,img))\n",
    "        img_resized=resize(img_array,(150,150,3))\n",
    "        flat_data_arr.append(img_resized.flatten())\n",
    "        target_arr.append(Categories.index(i))\n",
    "    print(f'loaded category:{i} successfully')\n",
    "flat_data=np.array(flat_data_arr)\n",
    "target=np.array(target_arr)\n",
    "df=pd.DataFrame(flat_data) #dataframe\n",
    "df['Target']=target\n",
    "x=df.iloc[:,:-1] #input data \n",
    "y=df.iloc[:,-1] #output data"
   ]
  },
  {
   "cell_type": "code",
   "execution_count": 4,
   "id": "8d044bab",
   "metadata": {},
   "outputs": [],
   "source": [
    "from sklearn.svm import SVC\n",
    "from sklearn.model_selection import train_test_split\n",
    "from sklearn.preprocessing import StandardScaler\n",
    "x_train,x_test,y_train,y_test=train_test_split(x,y,test_size=0.20,random_state=77,stratify=y)\n",
    "\n",
    "gamma1, gamma2 = 0.1, 1\n",
    "C1, C2 = 1, 10\n",
    "hyperparams = (gamma1, C1), (gamma1, C2), (gamma2, C1), (gamma2, C2)\n",
    "\n",
    "scaler = StandardScaler()  \n",
    "scaler.fit(x_train)\n",
    "x_train = scaler.transform(x_train)  \n",
    "x_test = scaler.transform(x_test) \n",
    "\n",
    "svm_clfs = []\n",
    "for gamma, C in hyperparams:\n",
    "    svm_clf=SVC(kernel=\"poly\",gamma=gamma, C=C) \n",
    "    svm_clf.fit(x_train,y_train)\n",
    "    svm_clfs.append(svm_clf)\n",
    "\n",
    "\n"
   ]
  },
  {
   "cell_type": "code",
   "execution_count": 5,
   "id": "9ac07efd",
   "metadata": {},
   "outputs": [
    {
     "name": "stdout",
     "output_type": "stream",
     "text": [
      "[SVC(C=1, gamma=0.1, kernel='poly'), SVC(C=10, gamma=0.1, kernel='poly'), SVC(C=1, gamma=1, kernel='poly'), SVC(C=10, gamma=1, kernel='poly')]\n"
     ]
    }
   ],
   "source": [
    "print (svm_clfs)"
   ]
  },
  {
   "cell_type": "code",
   "execution_count": 6,
   "id": "65d125eb",
   "metadata": {},
   "outputs": [
    {
     "name": "stdout",
     "output_type": "stream",
     "text": [
      "r= 0.1 C= 1\n",
      "Accuracy= 0.885506287227002\n",
      "[[631 114]\n",
      " [ 59 707]]\n",
      "              precision    recall  f1-score   support\n",
      "\n",
      "           0       0.91      0.85      0.88       745\n",
      "           1       0.86      0.92      0.89       766\n",
      "\n",
      "    accuracy                           0.89      1511\n",
      "   macro avg       0.89      0.88      0.89      1511\n",
      "weighted avg       0.89      0.89      0.89      1511\n",
      "\n",
      "r= 0.1 C= 10\n",
      "Accuracy= 0.885506287227002\n",
      "[[631 114]\n",
      " [ 59 707]]\n",
      "              precision    recall  f1-score   support\n",
      "\n",
      "           0       0.91      0.85      0.88       745\n",
      "           1       0.86      0.92      0.89       766\n",
      "\n",
      "    accuracy                           0.89      1511\n",
      "   macro avg       0.89      0.88      0.89      1511\n",
      "weighted avg       0.89      0.89      0.89      1511\n",
      "\n",
      "r= 1 C= 1\n",
      "Accuracy= 0.885506287227002\n",
      "[[631 114]\n",
      " [ 59 707]]\n",
      "              precision    recall  f1-score   support\n",
      "\n",
      "           0       0.91      0.85      0.88       745\n",
      "           1       0.86      0.92      0.89       766\n",
      "\n",
      "    accuracy                           0.89      1511\n",
      "   macro avg       0.89      0.88      0.89      1511\n",
      "weighted avg       0.89      0.89      0.89      1511\n",
      "\n",
      "r= 1 C= 10\n",
      "Accuracy= 0.885506287227002\n",
      "[[631 114]\n",
      " [ 59 707]]\n",
      "              precision    recall  f1-score   support\n",
      "\n",
      "           0       0.91      0.85      0.88       745\n",
      "           1       0.86      0.92      0.89       766\n",
      "\n",
      "    accuracy                           0.89      1511\n",
      "   macro avg       0.89      0.88      0.89      1511\n",
      "weighted avg       0.89      0.89      0.89      1511\n",
      "\n"
     ]
    }
   ],
   "source": [
    "from sklearn.metrics import classification_report, confusion_matrix  \n",
    "import sklearn.metrics as metrics\n",
    "for i, svm_clf in enumerate(svm_clfs):\n",
    "    predictions = svm_clf.predict(x_test)  \n",
    "    gamma, C = hyperparams[i]\n",
    "    print(\"r=\", gamma, \"C=\", C)\n",
    "    print(\"Accuracy=\", metrics.accuracy_score(y_test, predictions))\n",
    "    print(confusion_matrix(y_test,predictions))  \n",
    "    print(classification_report(y_test,predictions))  "
   ]
  },
  {
   "cell_type": "code",
   "execution_count": null,
   "id": "4d6097f8",
   "metadata": {},
   "outputs": [],
   "source": []
  }
 ],
 "metadata": {
  "kernelspec": {
   "display_name": "TensorFlow-GPU-1.13",
   "language": "python",
   "name": "tf-gpu"
  },
  "language_info": {
   "codemirror_mode": {
    "name": "ipython",
    "version": 3
   },
   "file_extension": ".py",
   "mimetype": "text/x-python",
   "name": "python",
   "nbconvert_exporter": "python",
   "pygments_lexer": "ipython3",
   "version": "3.6.13"
  }
 },
 "nbformat": 4,
 "nbformat_minor": 5
}
