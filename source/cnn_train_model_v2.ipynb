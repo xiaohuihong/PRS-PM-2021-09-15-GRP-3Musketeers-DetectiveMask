{
 "cells": [
  {
   "cell_type": "markdown",
   "metadata": {},
   "source": [
    "## **1. Import the necessary libraries** ---"
   ]
  },
  {
   "cell_type": "code",
   "execution_count": 1,
   "metadata": {},
   "outputs": [
    {
     "name": "stdout",
     "output_type": "stream",
     "text": [
      "Versions of key libraries\n",
      "---\n",
      "tensorflow:  2.3.0\n",
      "numpy:       1.18.5\n",
      "matplotlib:  3.4.2\n",
      "sklearn:     0.24.2\n"
     ]
    }
   ],
   "source": [
    "import matplotlib\n",
    "import sklearn\n",
    "import numpy as np\n",
    "import pandas as pd\n",
    "import sklearn.metrics as metrics\n",
    "import matplotlib.pyplot as plt\n",
    "import tensorflow as tf\n",
    "\n",
    "\n",
    "from tensorflow.keras.callbacks import ModelCheckpoint,CSVLogger\n",
    "from tensorflow.keras.models import Model\n",
    "from tensorflow.keras.layers import Input\n",
    "from tensorflow.keras.layers import Dense\n",
    "from tensorflow.keras.layers import Dropout\n",
    "from tensorflow.keras.layers import Flatten\n",
    "from tensorflow.keras.layers import Conv2D\n",
    "from tensorflow.keras.layers import MaxPooling2D\n",
    "from tensorflow.keras.layers import BatchNormalization\n",
    "from tensorflow.keras.layers import Activation\n",
    "from tensorflow.keras.utils import to_categorical\n",
    "from tensorflow.keras.utils import plot_model\n",
    "from tensorflow.keras.datasets import cifar10\n",
    "from tensorflow.keras import optimizers\n",
    "from tensorflow.keras import regularizers\n",
    "\n",
    "print(\"Versions of key libraries\")\n",
    "print(\"---\")\n",
    "print(\"tensorflow: \", tf.__version__)\n",
    "print(\"numpy:      \", np.__version__)\n",
    "print(\"matplotlib: \", matplotlib.__version__)\n",
    "print(\"sklearn:    \", sklearn.__version__)"
   ]
  },
  {
   "cell_type": "markdown",
   "metadata": {},
   "source": [
    "## **2.Create a function to plot image without axis** ---"
   ]
  },
  {
   "cell_type": "code",
   "execution_count": 2,
   "metadata": {},
   "outputs": [
    {
     "name": "stdout",
     "output_type": "stream",
     "text": [
      "<function implt at 0x00000210FDE0C708>\n"
     ]
    }
   ],
   "source": [
    "def implt(img):\n",
    "    plt.figure()\n",
    "    plt.imshow(img)\n",
    "    plt.axis('off')\n",
    "\n",
    "print(implt)"
   ]
  },
  {
   "cell_type": "markdown",
   "metadata": {},
   "source": [
    "## **3. Set matplotlib to have seaborn plot style**"
   ]
  },
  {
   "cell_type": "code",
   "execution_count": 3,
   "metadata": {},
   "outputs": [
    {
     "name": "stdout",
     "output_type": "stream",
     "text": [
      "Matplotlib setup completes.\n"
     ]
    }
   ],
   "source": [
    "plt.style.use('seaborn')                   # if want to use the default style, set 'classic'\n",
    "plt.rcParams['ytick.right']     = True\n",
    "plt.rcParams['ytick.labelright']= True\n",
    "plt.rcParams['ytick.left']      = False\n",
    "plt.rcParams['ytick.labelleft'] = False\n",
    "plt.rcParams['figure.figsize']  = [7,7]   # Set the figure size to be 7 inch for (width,height)\n",
    "\n",
    "print(\"Matplotlib setup completes.\")"
   ]
  },
  {
   "cell_type": "markdown",
   "metadata": {},
   "source": [
    "## **4. Prepare data for training and testing**\n",
    "---\n",
    "* Step 1: Load the images\n",
    "* Step 2: Check the shape and type of the data\n",
    "* Step 3: Convert the data into float32 and rescale the values from the range of 0\\~255 into 0\\~1\n",
    "* Step 4: Retrieve the row size and the column size of each image\n",
    "* Step 5: Perform one-hot enconding on the labels\n",
    "* Step 6: Retrieve the number of classes in this problem"
   ]
  },
  {
   "cell_type": "code",
   "execution_count": 4,
   "metadata": {},
   "outputs": [
    {
     "name": "stderr",
     "output_type": "stream",
     "text": [
      "C:\\Users\\HONG0\\.conda\\envs\\detective_mask\\lib\\site-packages\\PIL\\Image.py:974: UserWarning: Palette images with Transparency expressed in bytes should be converted to RGBA images\n",
      "  \"Palette images with Transparency expressed in bytes should be \"\n"
     ]
    },
    {
     "name": "stdout",
     "output_type": "stream",
     "text": [
      "The shape of trDat is (6042, 128, 128, 3) and the type of trDat is float32\n",
      "The shape of tsDat is (1511, 128, 128, 3) and the type of tsDat is float32\n",
      "\n",
      "The shape of trLbl is (6042,) and the type of trLbl is <U12\n",
      "The shape of tsLbl is (1511,) and the type of tsLbl is <U12\n"
     ]
    }
   ],
   "source": [
    "from imutils import paths\n",
    "import os, sys\n",
    "from tensorflow.keras.preprocessing.image import load_img, img_to_array\n",
    "from sklearn.preprocessing import LabelBinarizer\n",
    "from tensorflow.keras.utils import to_categorical\n",
    "from sklearn.model_selection import train_test_split\n",
    "\n",
    "def collect_images_and_labels(path_to_images):\n",
    "    # in seguito, usare https://keras.io/api/preprocessing/image/\n",
    "    \"\"\"\n",
    "        :param path_to_images should be the root folder, in which there is a folder for each label, and the folder's name is\n",
    "        the label itself\n",
    "        :return: a list with images and a list with labels\n",
    "        \"\"\"\n",
    "    data = []\n",
    "    labels = []\n",
    "\n",
    "    for img_path in list(paths.list_images(path_to_images)):\n",
    "        # extract the class label from the filename\n",
    "        label = img_path.split(os.path.sep)[-2]\n",
    "\n",
    "        # load the input image as (128x128) and preprocess it\n",
    "        image = load_img(img_path, target_size=(128, 128))\n",
    "        image = img_to_array(image)\n",
    "        #image = preprocess_input(image)\n",
    "\n",
    "        # update the data and labels lists, respectively\n",
    "        data.append(image)\n",
    "        labels.append(label)\n",
    "\n",
    "    return data, labels\n",
    "\n",
    "def preprocess_labels(labels):\n",
    "    \"\"\"\n",
    "    :param labels: list of string\n",
    "    :return: np array of 0/1\n",
    "    \"\"\"\n",
    "    lb = LabelBinarizer()\n",
    "    labels = lb.fit_transform(labels)\n",
    "    labels = to_categorical(labels)\n",
    "    return labels\n",
    "\n",
    "def tts_split(data, labels):\n",
    "    (x_train, x_test, y_train, y_test) = train_test_split(data, labels, test_size=0.20, stratify=labels,\n",
    "                                                          random_state=42)\n",
    "    (x_train, x_test, y_train, y_test) = (np.array(x_train), np.array(x_test), np.array(y_train), np.array(y_test))\n",
    "    return x_train, x_test, y_train, y_test\n",
    "\n",
    "PATH_TO_IMAGE = \"../data\"\n",
    "MODELS_PATH = \"../models\"\n",
    "\n",
    "# Step 1\n",
    "\n",
    "data, labels = collect_images_and_labels(PATH_TO_IMAGE)\n",
    "#labels = preprocess_labels(labels)\n",
    "trDat, tsDat, trLbl, tsLbl = tts_split(data, labels)\n",
    "\n",
    "\n",
    "# Step 2\n",
    "print(\"The shape of trDat is\", trDat.shape, \"and the type of trDat is\", trDat.dtype)\n",
    "print(\"The shape of tsDat is\", tsDat.shape, \"and the type of tsDat is\", tsDat.dtype)\n",
    "print(\"\")\n",
    "print(\"The shape of trLbl is\", trLbl.shape, \"and the type of trLbl is\", trLbl.dtype)\n",
    "print(\"The shape of tsLbl is\", tsLbl.shape, \"and the type of tsLbl is\", tsLbl.dtype)\n",
    "\n",
    "\n",
    "# Step 3\n",
    "trDat           = trDat.astype('float32')/255\n",
    "tsDat           = tsDat.astype('float32')/255\n",
    "\n",
    "# Step 4\n",
    "imgrows         = trDat.shape[1]\n",
    "imgclms         = trDat.shape[2]\n",
    "channel         = trDat.shape[3]\n",
    "\n",
    "# Step 5\n",
    "trLbl           = preprocess_labels(trLbl)\n",
    "tsLbl           = preprocess_labels(tsLbl)\n",
    "\n",
    "# Step 6\n",
    "num_classes     = tsLbl.shape[1]           "
   ]
  },
  {
   "cell_type": "markdown",
   "metadata": {},
   "source": [
    "## **5. Define the CNN model (weights initialization - use He initializer)**\n",
    "___\n",
    "* Step 1: Setup the optimizer to be used for training\n",
    "* Step 2: Set a name for the coming model (required for saving)\n",
    "* Step 3: Define the convolutional neural network model (to be completed)\n",
    "* Step 4: Create models for training and testing\n",
    "* Step 5: Display the summary of the model of interest "
   ]
  },
  {
   "cell_type": "code",
   "execution_count": 5,
   "metadata": {},
   "outputs": [
    {
     "name": "stdout",
     "output_type": "stream",
     "text": [
      "Model: \"functional_1\"\n",
      "_________________________________________________________________\n",
      "Layer (type)                 Output Shape              Param #   \n",
      "=================================================================\n",
      "input_1 (InputLayer)         [(None, 128, 128, 3)]     0         \n",
      "_________________________________________________________________\n",
      "conv2d (Conv2D)              (None, 128, 128, 128)     3584      \n",
      "_________________________________________________________________\n",
      "activation (Activation)      (None, 128, 128, 128)     0         \n",
      "_________________________________________________________________\n",
      "max_pooling2d (MaxPooling2D) (None, 64, 64, 128)       0         \n",
      "_________________________________________________________________\n",
      "conv2d_1 (Conv2D)            (None, 64, 64, 64)        73792     \n",
      "_________________________________________________________________\n",
      "activation_1 (Activation)    (None, 64, 64, 64)        0         \n",
      "_________________________________________________________________\n",
      "max_pooling2d_1 (MaxPooling2 (None, 32, 32, 64)        0         \n",
      "_________________________________________________________________\n",
      "conv2d_2 (Conv2D)            (None, 32, 32, 32)        18464     \n",
      "_________________________________________________________________\n",
      "activation_2 (Activation)    (None, 32, 32, 32)        0         \n",
      "_________________________________________________________________\n",
      "max_pooling2d_2 (MaxPooling2 (None, 16, 16, 32)        0         \n",
      "_________________________________________________________________\n",
      "flatten (Flatten)            (None, 8192)              0         \n",
      "_________________________________________________________________\n",
      "dense (Dense)                (None, 64)                524352    \n",
      "_________________________________________________________________\n",
      "dense_1 (Dense)              (None, 32)                2080      \n",
      "_________________________________________________________________\n",
      "dense_2 (Dense)              (None, 2)                 66        \n",
      "=================================================================\n",
      "Total params: 622,338\n",
      "Trainable params: 622,338\n",
      "Non-trainable params: 0\n",
      "_________________________________________________________________\n"
     ]
    }
   ],
   "source": [
    "from tensorflow.keras.initializers import he_normal\n",
    "# Step 1\n",
    "optmz       = optimizers.RMSprop(lr=0.0001)\n",
    "# Step 2\n",
    "modelname   = 'DetecitveMask'                                                           \n",
    "\n",
    "# Step 3                                                                               \n",
    "def createModel():\n",
    "    \n",
    "    ipt = Input(shape=(imgrows, imgclms, channel))\n",
    "    x = Conv2D(128,(3,3),padding='same', kernel_initializer=he_normal(33))(ipt)\n",
    "    x = Activation('relu')(x)\n",
    "    x = MaxPooling2D(pool_size=(2,2))(x)\n",
    "    x = Conv2D(64,(3,3),padding='same', kernel_initializer=he_normal(33))(x)\n",
    "    x = Activation('relu')(x)\n",
    "    x = MaxPooling2D(pool_size=(2,2))(x)\n",
    "    x = Conv2D(32,(3,3),padding='same', kernel_initializer=he_normal(33))(x)\n",
    "    x = Activation('relu')(x)\n",
    "    x = MaxPooling2D(pool_size=(2,2))(x)\n",
    "    x = Flatten()(x)\n",
    "    x = Dense(64, activation='relu', kernel_initializer=he_normal(33))(x)\n",
    "    x = Dense(32, activation='relu', kernel_initializer=he_normal(33))(x)\n",
    "    x = Dense(num_classes, activation='softmax')(x)\n",
    "    \n",
    "    model = Model(inputs=ipt, outputs=x)\n",
    "#    if (tf.test.is_built_with_cuda()):\n",
    "#        from tensorflow.python.keras.utils.multi_gpu_utils import multi_gpu_model\n",
    "#        model = multi_gpu_model(model, gpus=0)\n",
    "    model.compile(loss='categorical_crossentropy',\n",
    "                  optimizer='rmsprop',\n",
    "                  metrics=['accuracy'])\n",
    "    return model\n",
    "\n",
    "# Step 4                                                                                \n",
    "model       = createModel() # This is meant for training\n",
    "modelGo     = createModel() # This is used for final testing\n",
    "\n",
    "# Step 5\n",
    "model.summary()                                                                 "
   ]
  },
  {
   "cell_type": "markdown",
   "metadata": {},
   "source": [
    "## **6. Create the checkpoints to be applied during training**\n",
    "---\n",
    "* Step 1: Create a checkpoint to save the model from an epoch when validation accuracy is the highest\n",
    "* Step 2: Create a checkpoint to save the training loss, training accuracy, validation loss and validation accuracy of each epoch into a csv file\n",
    "* Step 3: Put the two checkpoint objects into a list"
   ]
  },
  {
   "cell_type": "code",
   "execution_count": 6,
   "metadata": {},
   "outputs": [
    {
     "name": "stdout",
     "output_type": "stream",
     "text": [
      "Callbacks created:\n",
      "<tensorflow.python.keras.callbacks.ModelCheckpoint object at 0x00000210FF270DC8>\n",
      "<tensorflow.python.keras.callbacks.CSVLogger object at 0x00000210FF270EC8>\n",
      "\n",
      "Path to model: ../models/cnn_v2/DetecitveMask.hdf5\n",
      "Path to log:   ../models/cnn_v2/DetecitveMask.csv\n"
     ]
    }
   ],
   "source": [
    "# Step 1\n",
    "folderpath      = MODELS_PATH + '/cnn_v2/'\n",
    "filepath        = folderpath + modelname + \".hdf5\"\n",
    "checkpoint      = ModelCheckpoint(filepath, \n",
    "                                  monitor='val_accuracy', \n",
    "                                  verbose=0, \n",
    "                                  save_best_only=True, \n",
    "                                  mode='max')\n",
    "\n",
    "# Step 2\n",
    "csv_logger      = CSVLogger(folderpath+modelname +'.csv')\n",
    "\n",
    "# Step 3\n",
    "callbacks_list  = [checkpoint,csv_logger]                                       \n",
    "\n",
    "print(\"Callbacks created:\")\n",
    "print(callbacks_list[0])\n",
    "print(callbacks_list[1])\n",
    "print('')\n",
    "print(\"Path to model:\", filepath)\n",
    "print(\"Path to log:  \", folderpath+modelname+'.csv')"
   ]
  },
  {
   "cell_type": "markdown",
   "metadata": {},
   "source": [
    "## **7. Train the deep learning model**"
   ]
  },
  {
   "cell_type": "code",
   "execution_count": 7,
   "metadata": {},
   "outputs": [
    {
     "name": "stdout",
     "output_type": "stream",
     "text": [
      "Epoch 1/100\n",
      "95/95 [==============================] - 116s 1s/step - loss: 0.9229 - accuracy: 0.6928 - val_loss: 0.3270 - val_accuracy: 0.8584\n",
      "Epoch 2/100\n",
      "95/95 [==============================] - 117s 1s/step - loss: 0.3622 - accuracy: 0.8544 - val_loss: 0.3152 - val_accuracy: 0.8809\n",
      "Epoch 3/100\n",
      "95/95 [==============================] - 122s 1s/step - loss: 0.2334 - accuracy: 0.9111 - val_loss: 0.2032 - val_accuracy: 0.9265\n",
      "Epoch 4/100\n",
      "95/95 [==============================] - 115s 1s/step - loss: 0.1917 - accuracy: 0.9287 - val_loss: 0.2525 - val_accuracy: 0.9226\n",
      "Epoch 5/100\n",
      "95/95 [==============================] - 116s 1s/step - loss: 0.1428 - accuracy: 0.9464 - val_loss: 0.1877 - val_accuracy: 0.9351\n",
      "Epoch 6/100\n",
      "95/95 [==============================] - 116s 1s/step - loss: 0.1069 - accuracy: 0.9638 - val_loss: 0.3124 - val_accuracy: 0.8882\n",
      "Epoch 7/100\n",
      "95/95 [==============================] - 115s 1s/step - loss: 0.0819 - accuracy: 0.9719 - val_loss: 0.1969 - val_accuracy: 0.9418\n",
      "Epoch 8/100\n",
      "95/95 [==============================] - 115s 1s/step - loss: 0.0623 - accuracy: 0.9800 - val_loss: 0.2374 - val_accuracy: 0.9451\n",
      "Epoch 9/100\n",
      "95/95 [==============================] - 114s 1s/step - loss: 0.0493 - accuracy: 0.9833 - val_loss: 0.2188 - val_accuracy: 0.9490\n",
      "Epoch 10/100\n",
      "95/95 [==============================] - 113s 1s/step - loss: 0.0384 - accuracy: 0.9884 - val_loss: 0.2776 - val_accuracy: 0.9504\n",
      "Epoch 11/100\n",
      "95/95 [==============================] - 116s 1s/step - loss: 0.0316 - accuracy: 0.9904 - val_loss: 0.2184 - val_accuracy: 0.9543\n",
      "Epoch 12/100\n",
      "95/95 [==============================] - 114s 1s/step - loss: 0.0306 - accuracy: 0.9916 - val_loss: 0.2697 - val_accuracy: 0.9497\n",
      "Epoch 13/100\n",
      "95/95 [==============================] - 113s 1s/step - loss: 0.0236 - accuracy: 0.9921 - val_loss: 0.3522 - val_accuracy: 0.9325\n",
      "Epoch 14/100\n",
      "95/95 [==============================] - 113s 1s/step - loss: 0.0231 - accuracy: 0.9935 - val_loss: 0.3081 - val_accuracy: 0.9537\n",
      "Epoch 15/100\n",
      "95/95 [==============================] - 115s 1s/step - loss: 0.0188 - accuracy: 0.9949 - val_loss: 0.4220 - val_accuracy: 0.9523\n",
      "Epoch 16/100\n",
      "95/95 [==============================] - 113s 1s/step - loss: 0.0251 - accuracy: 0.9957 - val_loss: 0.3821 - val_accuracy: 0.9543\n",
      "Epoch 17/100\n",
      "95/95 [==============================] - 113s 1s/step - loss: 0.0137 - accuracy: 0.9959 - val_loss: 0.3806 - val_accuracy: 0.9504\n",
      "Epoch 18/100\n",
      "95/95 [==============================] - 113s 1s/step - loss: 0.0209 - accuracy: 0.9949 - val_loss: 0.4163 - val_accuracy: 0.9550\n",
      "Epoch 19/100\n",
      "95/95 [==============================] - 114s 1s/step - loss: 0.0195 - accuracy: 0.9949 - val_loss: 0.4000 - val_accuracy: 0.9576\n",
      "Epoch 20/100\n",
      "95/95 [==============================] - 115s 1s/step - loss: 0.0280 - accuracy: 0.9944 - val_loss: 0.5293 - val_accuracy: 0.9510\n",
      "Epoch 21/100\n",
      "95/95 [==============================] - 118s 1s/step - loss: 0.0197 - accuracy: 0.9960 - val_loss: 0.4524 - val_accuracy: 0.9504\n",
      "Epoch 22/100\n",
      "95/95 [==============================] - 114s 1s/step - loss: 0.0212 - accuracy: 0.9965 - val_loss: 0.4955 - val_accuracy: 0.9464\n",
      "Epoch 23/100\n",
      "95/95 [==============================] - 114s 1s/step - loss: 0.0247 - accuracy: 0.9955 - val_loss: 0.6147 - val_accuracy: 0.9424\n",
      "Epoch 24/100\n",
      "95/95 [==============================] - 116s 1s/step - loss: 0.0134 - accuracy: 0.9967 - val_loss: 0.6577 - val_accuracy: 0.9398\n",
      "Epoch 25/100\n",
      "95/95 [==============================] - 116s 1s/step - loss: 0.0089 - accuracy: 0.9969 - val_loss: 0.8252 - val_accuracy: 0.9444\n",
      "Epoch 26/100\n",
      "95/95 [==============================] - 117s 1s/step - loss: 0.0123 - accuracy: 0.9972 - val_loss: 0.5207 - val_accuracy: 0.9543\n",
      "Epoch 27/100\n",
      "95/95 [==============================] - 116s 1s/step - loss: 0.0163 - accuracy: 0.9969 - val_loss: 0.4814 - val_accuracy: 0.9543\n",
      "Epoch 28/100\n",
      "95/95 [==============================] - 113s 1s/step - loss: 0.0049 - accuracy: 0.9985 - val_loss: 0.5697 - val_accuracy: 0.9457\n",
      "Epoch 29/100\n",
      "95/95 [==============================] - 116s 1s/step - loss: 0.0189 - accuracy: 0.9970 - val_loss: 0.5849 - val_accuracy: 0.9484\n",
      "Epoch 30/100\n",
      "95/95 [==============================] - 114s 1s/step - loss: 0.0032 - accuracy: 0.9988 - val_loss: 0.6408 - val_accuracy: 0.9537\n",
      "Epoch 31/100\n",
      "95/95 [==============================] - 112s 1s/step - loss: 0.0226 - accuracy: 0.9957 - val_loss: 0.7210 - val_accuracy: 0.9523\n",
      "Epoch 32/100\n",
      "95/95 [==============================] - 113s 1s/step - loss: 0.0045 - accuracy: 0.9987 - val_loss: 0.8181 - val_accuracy: 0.9510\n",
      "Epoch 33/100\n",
      "95/95 [==============================] - 112s 1s/step - loss: 0.0207 - accuracy: 0.9969 - val_loss: 0.7820 - val_accuracy: 0.9497\n",
      "Epoch 34/100\n",
      "95/95 [==============================] - 116s 1s/step - loss: 0.0203 - accuracy: 0.9977 - val_loss: 0.8557 - val_accuracy: 0.9530\n",
      "Epoch 35/100\n",
      "95/95 [==============================] - 116s 1s/step - loss: 0.0239 - accuracy: 0.9965 - val_loss: 0.8608 - val_accuracy: 0.9431\n",
      "Epoch 36/100\n",
      "95/95 [==============================] - 110s 1s/step - loss: 0.0183 - accuracy: 0.9980 - val_loss: 0.7848 - val_accuracy: 0.9490\n",
      "Epoch 37/100\n",
      "95/95 [==============================] - 111s 1s/step - loss: 0.0045 - accuracy: 0.9993 - val_loss: 1.2165 - val_accuracy: 0.9477\n",
      "Epoch 38/100\n",
      "95/95 [==============================] - 110s 1s/step - loss: 0.0201 - accuracy: 0.9964 - val_loss: 0.9448 - val_accuracy: 0.9451\n",
      "Epoch 39/100\n",
      "95/95 [==============================] - 110s 1s/step - loss: 0.0090 - accuracy: 0.9978 - val_loss: 0.8483 - val_accuracy: 0.9510\n",
      "Epoch 40/100\n",
      "95/95 [==============================] - 110s 1s/step - loss: 0.0054 - accuracy: 0.9990 - val_loss: 0.7931 - val_accuracy: 0.9497\n",
      "Epoch 41/100\n",
      "95/95 [==============================] - 109s 1s/step - loss: 0.0099 - accuracy: 0.9977 - val_loss: 0.8270 - val_accuracy: 0.9523\n",
      "Epoch 42/100\n",
      "95/95 [==============================] - 109s 1s/step - loss: 0.0106 - accuracy: 0.9990 - val_loss: 0.8935 - val_accuracy: 0.9504\n",
      "Epoch 43/100\n",
      "95/95 [==============================] - 109s 1s/step - loss: 0.0138 - accuracy: 0.9972 - val_loss: 0.8225 - val_accuracy: 0.9504\n",
      "Epoch 44/100\n",
      "95/95 [==============================] - 109s 1s/step - loss: 0.0124 - accuracy: 0.9980 - val_loss: 0.9523 - val_accuracy: 0.9543\n",
      "Epoch 45/100\n",
      "95/95 [==============================] - 109s 1s/step - loss: 0.0070 - accuracy: 0.9988 - val_loss: 0.9673 - val_accuracy: 0.9444\n",
      "Epoch 46/100\n",
      "95/95 [==============================] - 109s 1s/step - loss: 0.0203 - accuracy: 0.9960 - val_loss: 0.8043 - val_accuracy: 0.9497\n",
      "Epoch 47/100\n",
      "95/95 [==============================] - 109s 1s/step - loss: 0.0126 - accuracy: 0.9983 - val_loss: 1.0122 - val_accuracy: 0.9404\n",
      "Epoch 48/100\n",
      "95/95 [==============================] - 109s 1s/step - loss: 0.0150 - accuracy: 0.9969 - val_loss: 1.0220 - val_accuracy: 0.9464\n",
      "Epoch 49/100\n",
      "95/95 [==============================] - 109s 1s/step - loss: 0.0088 - accuracy: 0.9982 - val_loss: 1.0983 - val_accuracy: 0.9431\n",
      "Epoch 50/100\n",
      "95/95 [==============================] - 109s 1s/step - loss: 0.0127 - accuracy: 0.9975 - val_loss: 1.0076 - val_accuracy: 0.9530\n",
      "Epoch 51/100\n",
      "95/95 [==============================] - 109s 1s/step - loss: 0.0142 - accuracy: 0.9988 - val_loss: 1.2355 - val_accuracy: 0.9437\n",
      "Epoch 52/100\n",
      "95/95 [==============================] - 109s 1s/step - loss: 0.0130 - accuracy: 0.9978 - val_loss: 0.9867 - val_accuracy: 0.9543\n",
      "Epoch 53/100\n",
      "95/95 [==============================] - 109s 1s/step - loss: 0.0061 - accuracy: 0.9992 - val_loss: 0.9166 - val_accuracy: 0.9530\n",
      "Epoch 54/100\n",
      "95/95 [==============================] - 109s 1s/step - loss: 0.0086 - accuracy: 0.9985 - val_loss: 1.1850 - val_accuracy: 0.9550\n",
      "Epoch 55/100\n",
      "95/95 [==============================] - 109s 1s/step - loss: 0.0127 - accuracy: 0.9988 - val_loss: 1.0205 - val_accuracy: 0.9497\n",
      "Epoch 56/100\n",
      "95/95 [==============================] - 109s 1s/step - loss: 0.0110 - accuracy: 0.9987 - val_loss: 0.9884 - val_accuracy: 0.9504\n",
      "Epoch 57/100\n",
      "95/95 [==============================] - 109s 1s/step - loss: 0.0072 - accuracy: 0.9988 - val_loss: 1.4466 - val_accuracy: 0.9398\n",
      "Epoch 58/100\n"
     ]
    },
    {
     "name": "stdout",
     "output_type": "stream",
     "text": [
      "95/95 [==============================] - 109s 1s/step - loss: 0.0282 - accuracy: 0.9980 - val_loss: 1.0506 - val_accuracy: 0.9523\n",
      "Epoch 59/100\n",
      "95/95 [==============================] - 108s 1s/step - loss: 0.0114 - accuracy: 0.9983 - val_loss: 1.3174 - val_accuracy: 0.9477\n",
      "Epoch 60/100\n",
      "95/95 [==============================] - 109s 1s/step - loss: 0.0063 - accuracy: 0.9990 - val_loss: 0.9299 - val_accuracy: 0.9510\n",
      "Epoch 61/100\n",
      "95/95 [==============================] - 109s 1s/step - loss: 0.0205 - accuracy: 0.9980 - val_loss: 1.3758 - val_accuracy: 0.9497\n",
      "Epoch 62/100\n",
      "95/95 [==============================] - 108s 1s/step - loss: 0.0066 - accuracy: 0.9987 - val_loss: 1.1285 - val_accuracy: 0.9464\n",
      "Epoch 63/100\n",
      "95/95 [==============================] - 108s 1s/step - loss: 0.0141 - accuracy: 0.9982 - val_loss: 1.2779 - val_accuracy: 0.9517\n",
      "Epoch 64/100\n",
      "95/95 [==============================] - 108s 1s/step - loss: 0.0172 - accuracy: 0.9970 - val_loss: 1.8936 - val_accuracy: 0.9252\n",
      "Epoch 65/100\n",
      "95/95 [==============================] - 108s 1s/step - loss: 0.0112 - accuracy: 0.9992 - val_loss: 1.2760 - val_accuracy: 0.9530\n",
      "Epoch 66/100\n",
      "95/95 [==============================] - 108s 1s/step - loss: 1.8376e-07 - accuracy: 1.0000 - val_loss: 1.2500 - val_accuracy: 0.9504\n",
      "Epoch 67/100\n",
      "95/95 [==============================] - 108s 1s/step - loss: 0.0040 - accuracy: 0.9995 - val_loss: 1.5260 - val_accuracy: 0.9365\n",
      "Epoch 68/100\n",
      "95/95 [==============================] - 108s 1s/step - loss: 0.0276 - accuracy: 0.9980 - val_loss: 1.2869 - val_accuracy: 0.9477\n",
      "Epoch 69/100\n",
      "95/95 [==============================] - 108s 1s/step - loss: 1.9481e-07 - accuracy: 1.0000 - val_loss: 1.2892 - val_accuracy: 0.9451\n",
      "Epoch 70/100\n",
      "95/95 [==============================] - 108s 1s/step - loss: 1.5488e-08 - accuracy: 1.0000 - val_loss: 1.2921 - val_accuracy: 0.9471\n",
      "Epoch 71/100\n",
      "95/95 [==============================] - 108s 1s/step - loss: 4.9325e-10 - accuracy: 1.0000 - val_loss: 1.3271 - val_accuracy: 0.9477\n",
      "Epoch 72/100\n",
      "95/95 [==============================] - 108s 1s/step - loss: 1.5784e-10 - accuracy: 1.0000 - val_loss: 1.3141 - val_accuracy: 0.9497\n",
      "Epoch 73/100\n",
      "95/95 [==============================] - 108s 1s/step - loss: 5.9190e-11 - accuracy: 1.0000 - val_loss: 1.3319 - val_accuracy: 0.9504\n",
      "Epoch 74/100\n",
      "95/95 [==============================] - 108s 1s/step - loss: 5.9190e-11 - accuracy: 1.0000 - val_loss: 1.3325 - val_accuracy: 0.9504\n",
      "Epoch 75/100\n",
      "95/95 [==============================] - 108s 1s/step - loss: 0.0000e+00 - accuracy: 1.0000 - val_loss: 1.3331 - val_accuracy: 0.9510\n",
      "Epoch 76/100\n",
      "95/95 [==============================] - 108s 1s/step - loss: 0.0000e+00 - accuracy: 1.0000 - val_loss: 1.3336 - val_accuracy: 0.9517\n",
      "Epoch 77/100\n",
      "95/95 [==============================] - 108s 1s/step - loss: 0.0000e+00 - accuracy: 1.0000 - val_loss: 1.3355 - val_accuracy: 0.9517\n",
      "Epoch 78/100\n",
      "95/95 [==============================] - 108s 1s/step - loss: 0.0000e+00 - accuracy: 1.0000 - val_loss: 1.3367 - val_accuracy: 0.9523\n",
      "Epoch 79/100\n",
      "95/95 [==============================] - 108s 1s/step - loss: 1.9730e-11 - accuracy: 1.0000 - val_loss: 1.3422 - val_accuracy: 0.9517\n",
      "Epoch 80/100\n",
      "95/95 [==============================] - 108s 1s/step - loss: 0.0000e+00 - accuracy: 1.0000 - val_loss: 1.3427 - val_accuracy: 0.9517\n",
      "Epoch 81/100\n",
      "95/95 [==============================] - 108s 1s/step - loss: 0.0000e+00 - accuracy: 1.0000 - val_loss: 1.3437 - val_accuracy: 0.9530\n",
      "Epoch 82/100\n",
      "95/95 [==============================] - 108s 1s/step - loss: 0.0000e+00 - accuracy: 1.0000 - val_loss: 1.3450 - val_accuracy: 0.9530\n",
      "Epoch 83/100\n",
      "95/95 [==============================] - 108s 1s/step - loss: 0.0000e+00 - accuracy: 1.0000 - val_loss: 1.3462 - val_accuracy: 0.9530\n",
      "Epoch 84/100\n",
      "95/95 [==============================] - 110s 1s/step - loss: 0.0000e+00 - accuracy: 1.0000 - val_loss: 1.3476 - val_accuracy: 0.9530\n",
      "Epoch 85/100\n",
      "95/95 [==============================] - 108s 1s/step - loss: 0.0000e+00 - accuracy: 1.0000 - val_loss: 1.3492 - val_accuracy: 0.9530\n",
      "Epoch 86/100\n",
      "95/95 [==============================] - 108s 1s/step - loss: 0.0000e+00 - accuracy: 1.0000 - val_loss: 1.3503 - val_accuracy: 0.9530\n",
      "Epoch 87/100\n",
      "95/95 [==============================] - 109s 1s/step - loss: 0.0000e+00 - accuracy: 1.0000 - val_loss: 1.3519 - val_accuracy: 0.9530\n",
      "Epoch 88/100\n",
      "95/95 [==============================] - 109s 1s/step - loss: 0.0000e+00 - accuracy: 1.0000 - val_loss: 1.3532 - val_accuracy: 0.9530\n",
      "Epoch 89/100\n",
      "95/95 [==============================] - 108s 1s/step - loss: 0.0000e+00 - accuracy: 1.0000 - val_loss: 1.3546 - val_accuracy: 0.9530\n",
      "Epoch 90/100\n",
      "95/95 [==============================] - 108s 1s/step - loss: 1.9730e-11 - accuracy: 1.0000 - val_loss: 1.3595 - val_accuracy: 0.9530\n",
      "Epoch 91/100\n",
      "95/95 [==============================] - 108s 1s/step - loss: 0.0000e+00 - accuracy: 1.0000 - val_loss: 1.3609 - val_accuracy: 0.9530\n",
      "Epoch 92/100\n",
      "95/95 [==============================] - 108s 1s/step - loss: 0.0000e+00 - accuracy: 1.0000 - val_loss: 1.3625 - val_accuracy: 0.9530\n",
      "Epoch 93/100\n",
      "95/95 [==============================] - 108s 1s/step - loss: 0.0000e+00 - accuracy: 1.0000 - val_loss: 1.3640 - val_accuracy: 0.9530\n",
      "Epoch 94/100\n",
      "95/95 [==============================] - 108s 1s/step - loss: 0.0000e+00 - accuracy: 1.0000 - val_loss: 1.3656 - val_accuracy: 0.9530\n",
      "Epoch 95/100\n",
      "95/95 [==============================] - 108s 1s/step - loss: 0.0000e+00 - accuracy: 1.0000 - val_loss: 1.3672 - val_accuracy: 0.9537\n",
      "Epoch 96/100\n",
      "95/95 [==============================] - 108s 1s/step - loss: 0.0000e+00 - accuracy: 1.0000 - val_loss: 1.3686 - val_accuracy: 0.9537\n",
      "Epoch 97/100\n",
      "95/95 [==============================] - 108s 1s/step - loss: 0.0000e+00 - accuracy: 1.0000 - val_loss: 1.3705 - val_accuracy: 0.9537\n",
      "Epoch 98/100\n",
      "95/95 [==============================] - 108s 1s/step - loss: 0.0000e+00 - accuracy: 1.0000 - val_loss: 1.3723 - val_accuracy: 0.9543\n",
      "Epoch 99/100\n",
      "95/95 [==============================] - 108s 1s/step - loss: 0.0000e+00 - accuracy: 1.0000 - val_loss: 1.3740 - val_accuracy: 0.9543\n",
      "Epoch 100/100\n",
      "95/95 [==============================] - 108s 1s/step - loss: 0.0000e+00 - accuracy: 1.0000 - val_loss: 1.3756 - val_accuracy: 0.9543\n"
     ]
    },
    {
     "data": {
      "text/plain": [
       "<tensorflow.python.keras.callbacks.History at 0x210d227c308>"
      ]
     },
     "execution_count": 7,
     "metadata": {},
     "output_type": "execute_result"
    }
   ],
   "source": [
    "\n",
    "model.fit(trDat,                    # Training data\n",
    "          trLbl,                            # Training label\n",
    "          validation_data=(tsDat, tsLbl),   # Validation data and label\n",
    "          epochs=100,                       # The amount of epochs to be trained\n",
    "          batch_size=64,                   \n",
    "          shuffle=True,                     # To shuffle the training data\n",
    "          callbacks=callbacks_list)         # Callbacks to execute the checkpoints"
   ]
  },
  {
   "cell_type": "markdown",
   "metadata": {},
   "source": [
    "## **8. Validate the deep learning model**\n",
    "---\n",
    "* Step 1: Load the trained weights and compile the model\n",
    "* Step 2: Make prediction\n"
   ]
  },
  {
   "cell_type": "code",
   "execution_count": 8,
   "metadata": {},
   "outputs": [
    {
     "name": "stdout",
     "output_type": "stream",
     "text": [
      "Prediction completes.\n"
     ]
    }
   ],
   "source": [
    "# Step 1\n",
    "modelGo.load_weights(filepath)\n",
    "modelGo.compile(loss='categorical_crossentropy', \n",
    "                optimizer=optmz, \n",
    "                metrics=['accuracy'])\n",
    "\n",
    "# Step 2\n",
    "predicts    = modelGo.predict(tsDat)\n",
    "print(\"Prediction completes.\")"
   ]
  },
  {
   "cell_type": "markdown",
   "metadata": {},
   "source": [
    "## **9. Report classification metrics**\n",
    "---\n",
    "* Step 1: Setup the label\n",
    "* Step 2: Convert label from one-hot to integer\n",
    "* Step 3: Calculate the accuracy score\n",
    "* Step 4: Generate classification report"
   ]
  },
  {
   "cell_type": "code",
   "execution_count": 9,
   "metadata": {},
   "outputs": [
    {
     "name": "stdout",
     "output_type": "stream",
     "text": [
      "Best accuracy (on testing dataset): 95.76%\n",
      "              precision    recall  f1-score   support\n",
      "\n",
      "   with_mask     0.9608    0.9530    0.9569       745\n",
      "without_mask     0.9547    0.9621    0.9584       766\n",
      "\n",
      "    accuracy                         0.9576      1511\n",
      "   macro avg     0.9577    0.9576    0.9576      1511\n",
      "weighted avg     0.9577    0.9576    0.9576      1511\n",
      "\n"
     ]
    }
   ],
   "source": [
    "# Step 1\n",
    "labelname   = ['with_mask',          # The label for reporting metrics\n",
    "               'without_mask']\n",
    "# Step 2\n",
    "predout     = np.argmax(predicts,axis=1)\n",
    "testout     = np.argmax(tsLbl,axis=1)\n",
    "\n",
    "# Step 3\n",
    "testScores  = metrics.accuracy_score(testout,predout)\n",
    "\n",
    "# Step 4\n",
    "print(\"Best accuracy (on testing dataset): %.2f%%\" % (testScores*100))\n",
    "print(metrics.classification_report(testout,\n",
    "                                    predout,\n",
    "                                    target_names=labelname,\n",
    "                                    digits=4))"
   ]
  },
  {
   "cell_type": "markdown",
   "metadata": {},
   "source": [
    "## **10. Print confusion matrix**\n",
    "---"
   ]
  },
  {
   "cell_type": "code",
   "execution_count": 10,
   "metadata": {},
   "outputs": [
    {
     "name": "stdout",
     "output_type": "stream",
     "text": [
      "[[710  35]\n",
      " [ 29 737]]\n"
     ]
    }
   ],
   "source": [
    "confusion   = metrics.confusion_matrix(testout,predout)\n",
    "print(confusion)"
   ]
  },
  {
   "cell_type": "markdown",
   "metadata": {},
   "source": [
    "## **11. Plot curves on validation loss and accuracy**\n",
    "---"
   ]
  },
  {
   "cell_type": "code",
   "execution_count": 11,
   "metadata": {},
   "outputs": [
    {
     "data": {
      "image/png": "[encoded data removed]",
      "text/plain": [
       "<Figure size 504x504 with 2 Axes>"
      ]
     },
     "metadata": {},
     "output_type": "display_data"
    }
   ],
   "source": [
    "records     = pd.read_csv(folderpath+modelname +'.csv')\n",
    "plt.figure()\n",
    "plt.subplot(211)\n",
    "plt.plot(records['val_loss'], label=\"validation\")\n",
    "plt.plot(records['loss'],label=\"training\")\n",
    "plt.yticks([0.00,0.50,1.00,1.50])\n",
    "plt.title('Loss value',fontsize=12)\n",
    "\n",
    "ax          = plt.gca()\n",
    "ax.set_xticklabels([])\n",
    "\n",
    "plt.subplot(212)\n",
    "plt.plot(records['val_accuracy'],label=\"validation\")\n",
    "plt.plot(records['accuracy'],label=\"training\")\n",
    "plt.yticks([0.5,0.6,0.7,0.8])\n",
    "plt.title('Accuracy',fontsize=12)\n",
    "ax.legend()\n",
    "plt.show()"
   ]
  },
  {
   "cell_type": "code",
   "execution_count": 12,
   "metadata": {},
   "outputs": [
    {
     "data": {
      "image/png": "[encoded data removed]",
      "text/plain": [
       "<IPython.core.display.Image object>"
      ]
     },
     "execution_count": 12,
     "metadata": {},
     "output_type": "execute_result"
    }
   ],
   "source": [
    "plotpath  = folderpath+modelname+'_plot.png'\n",
    "plot_model(model, \n",
    "           to_file=plotpath, \n",
    "           show_shapes=True, \n",
    "           show_layer_names=False,\n",
    "           rankdir='TB')\n"
   ]
  },
  {
   "cell_type": "code",
   "execution_count": 1,
   "metadata": {},
   "outputs": [
    {
     "name": "stdout",
     "output_type": "stream",
     "text": [
      "['/device:CPU:0', '/device:GPU:0']\n"
     ]
    }
   ],
   "source": [
    "from tensorflow.python.client import device_lib\n",
    "def get_available_devices():\n",
    "    local_device_protos = device_lib.list_local_devices()\n",
    "    return [x.name for x in local_device_protos]\n",
    "print(get_available_devices()) "
   ]
  },
  {
   "cell_type": "code",
   "execution_count": null,
   "metadata": {},
   "outputs": [],
   "source": []
  }
 ],
 "metadata": {
  "kernelspec": {
   "display_name": "Python 3 (ipykernel)",
   "language": "python",
   "name": "python3"
  },
  "language_info": {
   "codemirror_mode": {
    "name": "ipython",
    "version": 3
   },
   "file_extension": ".py",
   "mimetype": "text/x-python",
   "name": "python",
   "nbconvert_exporter": "python",
   "pygments_lexer": "ipython3",
   "version": "3.7.11"
  }
 },
 "nbformat": 4,
 "nbformat_minor": 4
}
