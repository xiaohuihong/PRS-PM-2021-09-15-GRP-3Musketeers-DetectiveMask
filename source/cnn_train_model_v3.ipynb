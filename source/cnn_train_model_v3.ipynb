{
 "cells": [
  {
   "cell_type": "markdown",
   "metadata": {},
   "source": [
    "## **1. Import the necessary libraries** ---"
   ]
  },
  {
   "cell_type": "code",
   "execution_count": 1,
   "metadata": {},
   "outputs": [
    {
     "name": "stdout",
     "output_type": "stream",
     "text": [
      "Versions of key libraries\n",
      "---\n",
      "tensorflow:  2.3.0\n",
      "numpy:       1.18.5\n",
      "matplotlib:  3.4.2\n",
      "sklearn:     0.24.2\n"
     ]
    }
   ],
   "source": [
    "import matplotlib\n",
    "import sklearn\n",
    "import numpy as np\n",
    "import pandas as pd\n",
    "import sklearn.metrics as metrics\n",
    "import matplotlib.pyplot as plt\n",
    "import tensorflow as tf\n",
    "\n",
    "\n",
    "from tensorflow.keras.callbacks import ModelCheckpoint,CSVLogger\n",
    "from tensorflow.keras.models import Model\n",
    "from tensorflow.keras.layers import Input\n",
    "from tensorflow.keras.layers import Dense\n",
    "from tensorflow.keras.layers import Dropout\n",
    "from tensorflow.keras.layers import Flatten\n",
    "from tensorflow.keras.layers import Conv2D\n",
    "from tensorflow.keras.layers import MaxPooling2D\n",
    "from tensorflow.keras.layers import BatchNormalization\n",
    "from tensorflow.keras.layers import Activation\n",
    "from tensorflow.keras.utils import to_categorical\n",
    "from tensorflow.keras.utils import plot_model\n",
    "from tensorflow.keras.datasets import cifar10\n",
    "from tensorflow.keras import optimizers\n",
    "from tensorflow.keras import regularizers\n",
    "\n",
    "print(\"Versions of key libraries\")\n",
    "print(\"---\")\n",
    "print(\"tensorflow: \", tf.__version__)\n",
    "print(\"numpy:      \", np.__version__)\n",
    "print(\"matplotlib: \", matplotlib.__version__)\n",
    "print(\"sklearn:    \", sklearn.__version__)"
   ]
  },
  {
   "cell_type": "markdown",
   "metadata": {},
   "source": [
    "## **2.Create a function to plot image without axis** ---"
   ]
  },
  {
   "cell_type": "code",
   "execution_count": 2,
   "metadata": {},
   "outputs": [
    {
     "name": "stdout",
     "output_type": "stream",
     "text": [
      "<function implt at 0x00000251A0FC7E58>\n"
     ]
    }
   ],
   "source": [
    "def implt(img):\n",
    "    plt.figure()\n",
    "    plt.imshow(img)\n",
    "    plt.axis('off')\n",
    "\n",
    "print(implt)"
   ]
  },
  {
   "cell_type": "markdown",
   "metadata": {},
   "source": [
    "## **3. Set matplotlib to have seaborn plot style**"
   ]
  },
  {
   "cell_type": "code",
   "execution_count": 3,
   "metadata": {},
   "outputs": [
    {
     "name": "stdout",
     "output_type": "stream",
     "text": [
      "Matplotlib setup completes.\n"
     ]
    }
   ],
   "source": [
    "plt.style.use('seaborn')                   # if want to use the default style, set 'classic'\n",
    "plt.rcParams['ytick.right']     = True\n",
    "plt.rcParams['ytick.labelright']= True\n",
    "plt.rcParams['ytick.left']      = False\n",
    "plt.rcParams['ytick.labelleft'] = False\n",
    "plt.rcParams['figure.figsize']  = [7,7]   # Set the figure size to be 7 inch for (width,height)\n",
    "\n",
    "print(\"Matplotlib setup completes.\")"
   ]
  },
  {
   "cell_type": "markdown",
   "metadata": {},
   "source": [
    "## **4. Prepare data for training and testing**\n",
    "---\n",
    "* Step 1: Load the images\n",
    "* Step 2: Check the shape and type of the data\n",
    "* Step 3: Convert the data into float32 and rescale the values from the range of 0\\~255 into 0\\~1\n",
    "* Step 4: Retrieve the row size and the column size of each image\n",
    "* Step 5: Perform one-hot enconding on the labels\n",
    "* Step 6: Retrieve the number of classes in this problem"
   ]
  },
  {
   "cell_type": "code",
   "execution_count": 4,
   "metadata": {},
   "outputs": [
    {
     "name": "stderr",
     "output_type": "stream",
     "text": [
      "C:\\Users\\HONG0\\.conda\\envs\\detective_mask\\lib\\site-packages\\PIL\\Image.py:974: UserWarning: Palette images with Transparency expressed in bytes should be converted to RGBA images\n",
      "  \"Palette images with Transparency expressed in bytes should be \"\n"
     ]
    },
    {
     "name": "stdout",
     "output_type": "stream",
     "text": [
      "The shape of trDat is (6042, 128, 128, 3) and the type of trDat is float32\n",
      "The shape of tsDat is (1511, 128, 128, 3) and the type of tsDat is float32\n",
      "\n",
      "The shape of trLbl is (6042,) and the type of trLbl is <U12\n",
      "The shape of tsLbl is (1511,) and the type of tsLbl is <U12\n"
     ]
    }
   ],
   "source": [
    "from imutils import paths\n",
    "import os, sys\n",
    "from tensorflow.keras.preprocessing.image import load_img, img_to_array\n",
    "from sklearn.preprocessing import LabelBinarizer\n",
    "from tensorflow.keras.utils import to_categorical\n",
    "from sklearn.model_selection import train_test_split\n",
    "\n",
    "def collect_images_and_labels(path_to_images):\n",
    "    # in seguito, usare https://keras.io/api/preprocessing/image/\n",
    "    \"\"\"\n",
    "        :param path_to_images should be the root folder, in which there is a folder for each label, and the folder's name is\n",
    "        the label itself\n",
    "        :return: a list with images and a list with labels\n",
    "        \"\"\"\n",
    "    data = []\n",
    "    labels = []\n",
    "\n",
    "    for img_path in list(paths.list_images(path_to_images)):\n",
    "        # extract the class label from the filename\n",
    "        label = img_path.split(os.path.sep)[-2]\n",
    "\n",
    "        # load the input image as (128x128) and preprocess it\n",
    "        image = load_img(img_path, target_size=(128, 128))\n",
    "        image = img_to_array(image)\n",
    "        #image = preprocess_input(image)\n",
    "\n",
    "        # update the data and labels lists, respectively\n",
    "        data.append(image)\n",
    "        labels.append(label)\n",
    "\n",
    "    return data, labels\n",
    "\n",
    "def preprocess_labels(labels):\n",
    "    \"\"\"\n",
    "    :param labels: list of string\n",
    "    :return: np array of 0/1\n",
    "    \"\"\"\n",
    "    lb = LabelBinarizer()\n",
    "    labels = lb.fit_transform(labels)\n",
    "    labels = to_categorical(labels)\n",
    "    return labels\n",
    "\n",
    "def tts_split(data, labels):\n",
    "    (x_train, x_test, y_train, y_test) = train_test_split(data, labels, test_size=0.20, stratify=labels,\n",
    "                                                          random_state=42)\n",
    "    (x_train, x_test, y_train, y_test) = (np.array(x_train), np.array(x_test), np.array(y_train), np.array(y_test))\n",
    "    return x_train, x_test, y_train, y_test\n",
    "\n",
    "PATH_TO_IMAGE = \"../data\"\n",
    "MODELS_PATH = \"../models\"\n",
    "\n",
    "# Step 1\n",
    "\n",
    "data, labels = collect_images_and_labels(PATH_TO_IMAGE)\n",
    "#labels = preprocess_labels(labels)\n",
    "trDat, tsDat, trLbl, tsLbl = tts_split(data, labels)\n",
    "\n",
    "\n",
    "# Step 2\n",
    "print(\"The shape of trDat is\", trDat.shape, \"and the type of trDat is\", trDat.dtype)\n",
    "print(\"The shape of tsDat is\", tsDat.shape, \"and the type of tsDat is\", tsDat.dtype)\n",
    "print(\"\")\n",
    "print(\"The shape of trLbl is\", trLbl.shape, \"and the type of trLbl is\", trLbl.dtype)\n",
    "print(\"The shape of tsLbl is\", tsLbl.shape, \"and the type of tsLbl is\", tsLbl.dtype)\n",
    "\n",
    "\n",
    "# Step 3\n",
    "trDat           = trDat.astype('float32')/255\n",
    "tsDat           = tsDat.astype('float32')/255\n",
    "\n",
    "# Step 4\n",
    "imgrows         = trDat.shape[1]\n",
    "imgclms         = trDat.shape[2]\n",
    "channel         = trDat.shape[3]\n",
    "\n",
    "# Step 5\n",
    "trLbl           = preprocess_labels(trLbl)\n",
    "tsLbl           = preprocess_labels(tsLbl)\n",
    "\n",
    "# Step 6\n",
    "num_classes     = tsLbl.shape[1]           "
   ]
  },
  {
   "cell_type": "markdown",
   "metadata": {},
   "source": [
    "## **5. Define the CNN model (Regularize the weights)**\n",
    "___\n",
    "* Step 1: Setup the optimizer to be used for training\n",
    "* Step 2: Set a name for the coming model (required for saving)\n",
    "* Step 3: Define the convolutional neural network model (to be completed)\n",
    "* Step 4: Create models for training and testing\n",
    "* Step 5: Display the summary of the model of interest "
   ]
  },
  {
   "cell_type": "code",
   "execution_count": 5,
   "metadata": {},
   "outputs": [
    {
     "name": "stdout",
     "output_type": "stream",
     "text": [
      "Model: \"functional_1\"\n",
      "_________________________________________________________________\n",
      "Layer (type)                 Output Shape              Param #   \n",
      "=================================================================\n",
      "input_1 (InputLayer)         [(None, 128, 128, 3)]     0         \n",
      "_________________________________________________________________\n",
      "conv2d (Conv2D)              (None, 128, 128, 128)     3584      \n",
      "_________________________________________________________________\n",
      "activation (Activation)      (None, 128, 128, 128)     0         \n",
      "_________________________________________________________________\n",
      "max_pooling2d (MaxPooling2D) (None, 64, 64, 128)       0         \n",
      "_________________________________________________________________\n",
      "conv2d_1 (Conv2D)            (None, 64, 64, 64)        73792     \n",
      "_________________________________________________________________\n",
      "activation_1 (Activation)    (None, 64, 64, 64)        0         \n",
      "_________________________________________________________________\n",
      "max_pooling2d_1 (MaxPooling2 (None, 32, 32, 64)        0         \n",
      "_________________________________________________________________\n",
      "conv2d_2 (Conv2D)            (None, 32, 32, 32)        18464     \n",
      "_________________________________________________________________\n",
      "activation_2 (Activation)    (None, 32, 32, 32)        0         \n",
      "_________________________________________________________________\n",
      "max_pooling2d_2 (MaxPooling2 (None, 16, 16, 32)        0         \n",
      "_________________________________________________________________\n",
      "flatten (Flatten)            (None, 8192)              0         \n",
      "_________________________________________________________________\n",
      "dense (Dense)                (None, 64)                524352    \n",
      "_________________________________________________________________\n",
      "dense_1 (Dense)              (None, 32)                2080      \n",
      "_________________________________________________________________\n",
      "dense_2 (Dense)              (None, 2)                 66        \n",
      "=================================================================\n",
      "Total params: 622,338\n",
      "Trainable params: 622,338\n",
      "Non-trainable params: 0\n",
      "_________________________________________________________________\n"
     ]
    }
   ],
   "source": [
    "from tensorflow.keras.initializers import he_normal\n",
    "# Step 1\n",
    "optmz       = optimizers.RMSprop(lr=0.0001)\n",
    "# Step 2\n",
    "modelname   = 'DetecitveMask'                                                           \n",
    "\n",
    "# Step 3                                                                               \n",
    "def createModel():\n",
    "    \n",
    "    ipt = Input(shape=(imgrows, imgclms, channel))\n",
    "    x = Conv2D(128,(3,3),padding='same', kernel_initializer=he_normal(33), kernel_regularizer=regularizers.l2(1e-4))(ipt)\n",
    "    x = Activation('relu')(x)\n",
    "    x = MaxPooling2D(pool_size=(2,2))(x)\n",
    "    x = Conv2D(64,(3,3),padding='same', kernel_initializer=he_normal(33), kernel_regularizer=regularizers.l2(1e-4))(x)\n",
    "    x = Activation('relu')(x)\n",
    "    x = MaxPooling2D(pool_size=(2,2))(x)\n",
    "    x = Conv2D(32,(3,3),padding='same', kernel_initializer=he_normal(33), kernel_regularizer=regularizers.l2(1e-4))(x)\n",
    "    x = Activation('relu')(x)\n",
    "    x = MaxPooling2D(pool_size=(2,2))(x)\n",
    "    x = Flatten()(x)\n",
    "    x = Dense(64, activation='relu', kernel_initializer=he_normal(33), kernel_regularizer=regularizers.l2(1e-4))(x)\n",
    "    x = Dense(32, activation='relu', kernel_initializer=he_normal(33), kernel_regularizer=regularizers.l2(1e-4))(x)\n",
    "    x = Dense(num_classes, activation='softmax')(x)\n",
    "    \n",
    "    model = Model(inputs=ipt, outputs=x)\n",
    "#    if (tf.test.is_built_with_cuda()):\n",
    "#        from tensorflow.python.keras.utils.multi_gpu_utils import multi_gpu_model\n",
    "#        model = multi_gpu_model(model, gpus=0)\n",
    "    model.compile(loss='categorical_crossentropy',\n",
    "                  optimizer='rmsprop',\n",
    "                  metrics=['accuracy'])\n",
    "    return model\n",
    "\n",
    "# Step 4                                                                                \n",
    "model       = createModel() # This is meant for training\n",
    "modelGo     = createModel() # This is used for final testing\n",
    "\n",
    "# Step 5\n",
    "model.summary()                                                                 "
   ]
  },
  {
   "cell_type": "markdown",
   "metadata": {},
   "source": [
    "## **6. Create the checkpoints to be applied during training**\n",
    "---\n",
    "* Step 1: Create a checkpoint to save the model from an epoch when validation accuracy is the highest\n",
    "* Step 2: Create a checkpoint to save the training loss, training accuracy, validation loss and validation accuracy of each epoch into a csv file\n",
    "* Step 3: Put the two checkpoint objects into a list"
   ]
  },
  {
   "cell_type": "code",
   "execution_count": 6,
   "metadata": {},
   "outputs": [
    {
     "name": "stdout",
     "output_type": "stream",
     "text": [
      "Callbacks created:\n",
      "<tensorflow.python.keras.callbacks.ModelCheckpoint object at 0x00000251C250D888>\n",
      "<tensorflow.python.keras.callbacks.CSVLogger object at 0x00000251C23EFB08>\n",
      "\n",
      "Path to model: ../models/cnn_v3/DetecitveMask.hdf5\n",
      "Path to log:   ../models/cnn_v3/DetecitveMask.csv\n"
     ]
    }
   ],
   "source": [
    "# Step 1\n",
    "folderpath      = MODELS_PATH + '/cnn_v3/'\n",
    "filepath        = folderpath + modelname + \".hdf5\"\n",
    "checkpoint      = ModelCheckpoint(filepath, \n",
    "                                  monitor='val_accuracy', \n",
    "                                  verbose=0, \n",
    "                                  save_best_only=True, \n",
    "                                  mode='max')\n",
    "\n",
    "# Step 2\n",
    "csv_logger      = CSVLogger(folderpath+modelname +'.csv')\n",
    "\n",
    "# Step 3\n",
    "callbacks_list  = [checkpoint,csv_logger]                                       \n",
    "\n",
    "print(\"Callbacks created:\")\n",
    "print(callbacks_list[0])\n",
    "print(callbacks_list[1])\n",
    "print('')\n",
    "print(\"Path to model:\", filepath)\n",
    "print(\"Path to log:  \", folderpath+modelname+'.csv')"
   ]
  },
  {
   "cell_type": "markdown",
   "metadata": {},
   "source": [
    "## **7. Train the deep learning model**"
   ]
  },
  {
   "cell_type": "code",
   "execution_count": 7,
   "metadata": {},
   "outputs": [
    {
     "name": "stdout",
     "output_type": "stream",
     "text": [
      "Epoch 1/100\n",
      "95/95 [==============================] - 107s 1s/step - loss: 1.1556 - accuracy: 0.6961 - val_loss: 0.4146 - val_accuracy: 0.8385\n",
      "Epoch 2/100\n",
      "95/95 [==============================] - 106s 1s/step - loss: 0.3864 - accuracy: 0.8654 - val_loss: 0.3101 - val_accuracy: 0.8934\n",
      "Epoch 3/100\n",
      "95/95 [==============================] - 106s 1s/step - loss: 0.2928 - accuracy: 0.9012 - val_loss: 0.2951 - val_accuracy: 0.9060\n",
      "Epoch 4/100\n",
      "95/95 [==============================] - 106s 1s/step - loss: 0.2304 - accuracy: 0.9288 - val_loss: 0.2739 - val_accuracy: 0.9087\n",
      "Epoch 5/100\n",
      "95/95 [==============================] - 106s 1s/step - loss: 0.1835 - accuracy: 0.9459 - val_loss: 0.2615 - val_accuracy: 0.9219\n",
      "Epoch 6/100\n",
      "95/95 [==============================] - 106s 1s/step - loss: 0.1441 - accuracy: 0.9623 - val_loss: 0.3694 - val_accuracy: 0.9054\n",
      "Epoch 7/100\n",
      "95/95 [==============================] - 106s 1s/step - loss: 0.1347 - accuracy: 0.9709 - val_loss: 0.2275 - val_accuracy: 0.9451\n",
      "Epoch 8/100\n",
      "95/95 [==============================] - 107s 1s/step - loss: 0.1162 - accuracy: 0.9757 - val_loss: 0.2270 - val_accuracy: 0.9510\n",
      "Epoch 9/100\n",
      "95/95 [==============================] - 107s 1s/step - loss: 0.0927 - accuracy: 0.9848 - val_loss: 0.3098 - val_accuracy: 0.9365\n",
      "Epoch 10/100\n",
      "95/95 [==============================] - 108s 1s/step - loss: 0.0897 - accuracy: 0.9858 - val_loss: 0.2382 - val_accuracy: 0.9490\n",
      "Epoch 11/100\n",
      "95/95 [==============================] - 108s 1s/step - loss: 0.0932 - accuracy: 0.9848 - val_loss: 0.3140 - val_accuracy: 0.9226\n",
      "Epoch 12/100\n",
      "95/95 [==============================] - 108s 1s/step - loss: 0.0679 - accuracy: 0.9919 - val_loss: 0.3584 - val_accuracy: 0.9385\n",
      "Epoch 13/100\n",
      "95/95 [==============================] - 111s 1s/step - loss: 0.0686 - accuracy: 0.9901 - val_loss: 0.3259 - val_accuracy: 0.9576\n",
      "Epoch 14/100\n",
      "95/95 [==============================] - 107s 1s/step - loss: 0.0739 - accuracy: 0.9894 - val_loss: 0.3065 - val_accuracy: 0.9484\n",
      "Epoch 15/100\n",
      "95/95 [==============================] - 107s 1s/step - loss: 0.0664 - accuracy: 0.9929 - val_loss: 0.2870 - val_accuracy: 0.9550\n",
      "Epoch 16/100\n",
      "95/95 [==============================] - 108s 1s/step - loss: 0.0564 - accuracy: 0.9940 - val_loss: 0.4777 - val_accuracy: 0.9298\n",
      "Epoch 17/100\n",
      "95/95 [==============================] - 108s 1s/step - loss: 0.0656 - accuracy: 0.9916 - val_loss: 0.2820 - val_accuracy: 0.9563\n",
      "Epoch 18/100\n",
      "95/95 [==============================] - 108s 1s/step - loss: 0.0615 - accuracy: 0.9932 - val_loss: 0.3516 - val_accuracy: 0.9504\n",
      "Epoch 19/100\n",
      "95/95 [==============================] - 108s 1s/step - loss: 0.0626 - accuracy: 0.9921 - val_loss: 0.3925 - val_accuracy: 0.9537\n",
      "Epoch 20/100\n",
      "95/95 [==============================] - 108s 1s/step - loss: 0.0548 - accuracy: 0.9957 - val_loss: 0.3030 - val_accuracy: 0.9557\n",
      "Epoch 21/100\n",
      "95/95 [==============================] - 108s 1s/step - loss: 0.0577 - accuracy: 0.9940 - val_loss: 0.3322 - val_accuracy: 0.9557\n",
      "Epoch 22/100\n",
      "95/95 [==============================] - 108s 1s/step - loss: 0.0658 - accuracy: 0.9924 - val_loss: 0.3069 - val_accuracy: 0.9517\n",
      "Epoch 23/100\n",
      "95/95 [==============================] - 108s 1s/step - loss: 0.0518 - accuracy: 0.9945 - val_loss: 0.3027 - val_accuracy: 0.9457\n",
      "Epoch 24/100\n",
      "95/95 [==============================] - 108s 1s/step - loss: 0.0502 - accuracy: 0.9957 - val_loss: 0.3078 - val_accuracy: 0.9510\n",
      "Epoch 25/100\n",
      "95/95 [==============================] - 108s 1s/step - loss: 0.0535 - accuracy: 0.9952 - val_loss: 0.3799 - val_accuracy: 0.9305\n",
      "Epoch 26/100\n",
      "95/95 [==============================] - 108s 1s/step - loss: 0.0517 - accuracy: 0.9954 - val_loss: 0.2896 - val_accuracy: 0.9603\n",
      "Epoch 27/100\n",
      "95/95 [==============================] - 108s 1s/step - loss: 0.0462 - accuracy: 0.9960 - val_loss: 0.3263 - val_accuracy: 0.9490\n",
      "Epoch 28/100\n",
      "95/95 [==============================] - 108s 1s/step - loss: 0.0566 - accuracy: 0.9944 - val_loss: 0.3652 - val_accuracy: 0.9490\n",
      "Epoch 29/100\n",
      "95/95 [==============================] - 107s 1s/step - loss: 0.0424 - accuracy: 0.9964 - val_loss: 0.3127 - val_accuracy: 0.9576\n",
      "Epoch 30/100\n",
      "95/95 [==============================] - 107s 1s/step - loss: 0.0509 - accuracy: 0.9954 - val_loss: 0.2733 - val_accuracy: 0.9550\n",
      "Epoch 31/100\n",
      "95/95 [==============================] - 108s 1s/step - loss: 0.0632 - accuracy: 0.9942 - val_loss: 0.3086 - val_accuracy: 0.9510\n",
      "Epoch 32/100\n",
      "95/95 [==============================] - 109s 1s/step - loss: 0.0452 - accuracy: 0.9957 - val_loss: 0.3262 - val_accuracy: 0.9543\n",
      "Epoch 33/100\n",
      "95/95 [==============================] - 108s 1s/step - loss: 0.0429 - accuracy: 0.9962 - val_loss: 0.3101 - val_accuracy: 0.9510\n",
      "Epoch 34/100\n",
      "95/95 [==============================] - 108s 1s/step - loss: 0.0461 - accuracy: 0.9945 - val_loss: 0.3140 - val_accuracy: 0.9543\n",
      "Epoch 35/100\n",
      "95/95 [==============================] - 108s 1s/step - loss: 0.0442 - accuracy: 0.9962 - val_loss: 0.3659 - val_accuracy: 0.9543\n",
      "Epoch 36/100\n",
      "95/95 [==============================] - 108s 1s/step - loss: 0.0465 - accuracy: 0.9964 - val_loss: 0.4028 - val_accuracy: 0.9371\n",
      "Epoch 37/100\n",
      "95/95 [==============================] - 107s 1s/step - loss: 0.0453 - accuracy: 0.9957 - val_loss: 0.2726 - val_accuracy: 0.9523\n",
      "Epoch 38/100\n",
      "95/95 [==============================] - 107s 1s/step - loss: 0.0361 - accuracy: 0.9967 - val_loss: 0.3624 - val_accuracy: 0.9596\n",
      "Epoch 39/100\n",
      "95/95 [==============================] - 108s 1s/step - loss: 0.0424 - accuracy: 0.9949 - val_loss: 0.3297 - val_accuracy: 0.9490\n",
      "Epoch 40/100\n",
      "95/95 [==============================] - 107s 1s/step - loss: 0.0504 - accuracy: 0.9945 - val_loss: 0.2967 - val_accuracy: 0.9537\n",
      "Epoch 41/100\n",
      "95/95 [==============================] - 106s 1s/step - loss: 0.0427 - accuracy: 0.9957 - val_loss: 0.3431 - val_accuracy: 0.9576\n",
      "Epoch 42/100\n",
      "95/95 [==============================] - 107s 1s/step - loss: 0.0333 - accuracy: 0.9972 - val_loss: 0.3339 - val_accuracy: 0.9530\n",
      "Epoch 43/100\n",
      "95/95 [==============================] - 107s 1s/step - loss: 0.0404 - accuracy: 0.9949 - val_loss: 0.3428 - val_accuracy: 0.9523\n",
      "Epoch 44/100\n",
      "95/95 [==============================] - 106s 1s/step - loss: 0.0368 - accuracy: 0.9975 - val_loss: 0.3375 - val_accuracy: 0.9457\n",
      "Epoch 45/100\n",
      "95/95 [==============================] - 108s 1s/step - loss: 0.0386 - accuracy: 0.9954 - val_loss: 0.3003 - val_accuracy: 0.9550\n",
      "Epoch 46/100\n",
      "95/95 [==============================] - 107s 1s/step - loss: 0.0355 - accuracy: 0.9970 - val_loss: 0.3279 - val_accuracy: 0.9550\n",
      "Epoch 47/100\n",
      "95/95 [==============================] - 107s 1s/step - loss: 0.0331 - accuracy: 0.9967 - val_loss: 0.3714 - val_accuracy: 0.9477\n",
      "Epoch 48/100\n",
      "95/95 [==============================] - 107s 1s/step - loss: 0.0382 - accuracy: 0.9952 - val_loss: 0.3091 - val_accuracy: 0.9497\n",
      "Epoch 49/100\n",
      "95/95 [==============================] - 108s 1s/step - loss: 0.0317 - accuracy: 0.9972 - val_loss: 0.3219 - val_accuracy: 0.9563\n",
      "Epoch 50/100\n",
      "95/95 [==============================] - 108s 1s/step - loss: 0.0285 - accuracy: 0.9975 - val_loss: 0.3566 - val_accuracy: 0.9523\n",
      "Epoch 51/100\n",
      "95/95 [==============================] - 108s 1s/step - loss: 0.0458 - accuracy: 0.9959 - val_loss: 0.3825 - val_accuracy: 0.9530\n",
      "Epoch 52/100\n",
      "95/95 [==============================] - 108s 1s/step - loss: 0.0353 - accuracy: 0.9977 - val_loss: 0.3967 - val_accuracy: 0.9437\n",
      "Epoch 53/100\n",
      "95/95 [==============================] - 108s 1s/step - loss: 0.0328 - accuracy: 0.9969 - val_loss: 0.3971 - val_accuracy: 0.9537\n",
      "Epoch 54/100\n",
      "95/95 [==============================] - 108s 1s/step - loss: 0.0351 - accuracy: 0.9964 - val_loss: 0.3274 - val_accuracy: 0.9590\n",
      "Epoch 55/100\n",
      "95/95 [==============================] - 107s 1s/step - loss: 0.0334 - accuracy: 0.9967 - val_loss: 0.3475 - val_accuracy: 0.9576\n",
      "Epoch 56/100\n",
      "95/95 [==============================] - 108s 1s/step - loss: 0.0432 - accuracy: 0.9954 - val_loss: 0.3457 - val_accuracy: 0.9510\n",
      "Epoch 57/100\n",
      "95/95 [==============================] - 107s 1s/step - loss: 0.0295 - accuracy: 0.9978 - val_loss: 0.3265 - val_accuracy: 0.9557\n",
      "Epoch 58/100\n"
     ]
    },
    {
     "name": "stdout",
     "output_type": "stream",
     "text": [
      "95/95 [==============================] - 106s 1s/step - loss: 0.0323 - accuracy: 0.9964 - val_loss: 0.3034 - val_accuracy: 0.9464\n",
      "Epoch 59/100\n",
      "95/95 [==============================] - 106s 1s/step - loss: 0.0380 - accuracy: 0.9942 - val_loss: 0.2609 - val_accuracy: 0.9563\n",
      "Epoch 60/100\n",
      "95/95 [==============================] - 107s 1s/step - loss: 0.0297 - accuracy: 0.9970 - val_loss: 0.3103 - val_accuracy: 0.9557\n",
      "Epoch 61/100\n",
      "95/95 [==============================] - 107s 1s/step - loss: 0.0349 - accuracy: 0.9967 - val_loss: 0.2742 - val_accuracy: 0.9563\n",
      "Epoch 62/100\n",
      "95/95 [==============================] - 107s 1s/step - loss: 0.0274 - accuracy: 0.9967 - val_loss: 0.3145 - val_accuracy: 0.9550\n",
      "Epoch 63/100\n",
      "95/95 [==============================] - 108s 1s/step - loss: 0.0301 - accuracy: 0.9974 - val_loss: 0.5719 - val_accuracy: 0.9246\n",
      "Epoch 64/100\n",
      "95/95 [==============================] - 107s 1s/step - loss: 0.0354 - accuracy: 0.9957 - val_loss: 0.3322 - val_accuracy: 0.9464\n",
      "Epoch 65/100\n",
      "95/95 [==============================] - 107s 1s/step - loss: 0.0305 - accuracy: 0.9967 - val_loss: 0.4687 - val_accuracy: 0.9351\n",
      "Epoch 66/100\n",
      "95/95 [==============================] - 107s 1s/step - loss: 0.0315 - accuracy: 0.9960 - val_loss: 0.3567 - val_accuracy: 0.9537\n",
      "Epoch 67/100\n",
      "95/95 [==============================] - 107s 1s/step - loss: 0.0318 - accuracy: 0.9974 - val_loss: 0.3150 - val_accuracy: 0.9590\n",
      "Epoch 68/100\n",
      "95/95 [==============================] - 107s 1s/step - loss: 0.0305 - accuracy: 0.9965 - val_loss: 0.2926 - val_accuracy: 0.9570\n",
      "Epoch 69/100\n",
      "95/95 [==============================] - 107s 1s/step - loss: 0.0286 - accuracy: 0.9967 - val_loss: 0.3239 - val_accuracy: 0.9504\n",
      "Epoch 70/100\n",
      "95/95 [==============================] - 107s 1s/step - loss: 0.0316 - accuracy: 0.9964 - val_loss: 0.3209 - val_accuracy: 0.9563\n",
      "Epoch 71/100\n",
      "95/95 [==============================] - 106s 1s/step - loss: 0.0427 - accuracy: 0.9934 - val_loss: 0.2752 - val_accuracy: 0.9563\n",
      "Epoch 72/100\n",
      "95/95 [==============================] - 107s 1s/step - loss: 0.0266 - accuracy: 0.9975 - val_loss: 0.4384 - val_accuracy: 0.9358\n",
      "Epoch 73/100\n",
      "95/95 [==============================] - 106s 1s/step - loss: 0.0260 - accuracy: 0.9974 - val_loss: 0.3580 - val_accuracy: 0.9424\n",
      "Epoch 74/100\n",
      "95/95 [==============================] - 107s 1s/step - loss: 0.0271 - accuracy: 0.9975 - val_loss: 0.4377 - val_accuracy: 0.9424\n",
      "Epoch 75/100\n",
      "95/95 [==============================] - 108s 1s/step - loss: 0.0249 - accuracy: 0.9974 - val_loss: 0.3748 - val_accuracy: 0.9523\n",
      "Epoch 76/100\n",
      "95/95 [==============================] - 107s 1s/step - loss: 0.0520 - accuracy: 0.9930 - val_loss: 0.3036 - val_accuracy: 0.9517\n",
      "Epoch 77/100\n",
      "95/95 [==============================] - 107s 1s/step - loss: 0.0281 - accuracy: 0.9969 - val_loss: 0.3236 - val_accuracy: 0.9543\n",
      "Epoch 78/100\n",
      "95/95 [==============================] - 107s 1s/step - loss: 0.0296 - accuracy: 0.9965 - val_loss: 0.3285 - val_accuracy: 0.9418\n",
      "Epoch 79/100\n",
      "95/95 [==============================] - 107s 1s/step - loss: 0.0235 - accuracy: 0.9975 - val_loss: 0.3643 - val_accuracy: 0.9444\n",
      "Epoch 80/100\n",
      "95/95 [==============================] - 106s 1s/step - loss: 0.0275 - accuracy: 0.9972 - val_loss: 0.3575 - val_accuracy: 0.9497\n",
      "Epoch 81/100\n",
      "95/95 [==============================] - 106s 1s/step - loss: 0.0332 - accuracy: 0.9955 - val_loss: 0.4002 - val_accuracy: 0.9318\n",
      "Epoch 82/100\n",
      "95/95 [==============================] - 106s 1s/step - loss: 0.0339 - accuracy: 0.9952 - val_loss: 0.3232 - val_accuracy: 0.9497\n",
      "Epoch 83/100\n",
      "95/95 [==============================] - 106s 1s/step - loss: 0.0239 - accuracy: 0.9975 - val_loss: 0.3734 - val_accuracy: 0.9497\n",
      "Epoch 84/100\n",
      "95/95 [==============================] - 106s 1s/step - loss: 0.0242 - accuracy: 0.9980 - val_loss: 0.3373 - val_accuracy: 0.9451\n",
      "Epoch 85/100\n",
      "95/95 [==============================] - 107s 1s/step - loss: 0.0331 - accuracy: 0.9960 - val_loss: 0.2990 - val_accuracy: 0.9497\n",
      "Epoch 86/100\n",
      "95/95 [==============================] - 107s 1s/step - loss: 0.0394 - accuracy: 0.9950 - val_loss: 0.2973 - val_accuracy: 0.9484\n",
      "Epoch 87/100\n",
      "95/95 [==============================] - 107s 1s/step - loss: 0.0225 - accuracy: 0.9980 - val_loss: 0.3205 - val_accuracy: 0.9457\n",
      "Epoch 88/100\n",
      "95/95 [==============================] - 108s 1s/step - loss: 0.0243 - accuracy: 0.9975 - val_loss: 0.3366 - val_accuracy: 0.9517\n",
      "Epoch 89/100\n",
      "95/95 [==============================] - 107s 1s/step - loss: 0.0359 - accuracy: 0.9960 - val_loss: 0.3279 - val_accuracy: 0.9550\n",
      "Epoch 90/100\n",
      "95/95 [==============================] - 107s 1s/step - loss: 0.0419 - accuracy: 0.9957 - val_loss: 0.3030 - val_accuracy: 0.9510\n",
      "Epoch 91/100\n",
      "95/95 [==============================] - 106s 1s/step - loss: 0.0239 - accuracy: 0.9972 - val_loss: 0.3137 - val_accuracy: 0.9543\n",
      "Epoch 92/100\n",
      "95/95 [==============================] - 106s 1s/step - loss: 0.0180 - accuracy: 0.9982 - val_loss: 0.4032 - val_accuracy: 0.9497\n",
      "Epoch 93/100\n",
      "95/95 [==============================] - 106s 1s/step - loss: 0.0241 - accuracy: 0.9967 - val_loss: 0.3518 - val_accuracy: 0.9471\n",
      "Epoch 94/100\n",
      "95/95 [==============================] - 106s 1s/step - loss: 0.0376 - accuracy: 0.9947 - val_loss: 0.3181 - val_accuracy: 0.9497\n",
      "Epoch 95/100\n",
      "95/95 [==============================] - 106s 1s/step - loss: 0.0213 - accuracy: 0.9987 - val_loss: 0.3498 - val_accuracy: 0.9497\n",
      "Epoch 96/100\n",
      "95/95 [==============================] - 107s 1s/step - loss: 0.0227 - accuracy: 0.9967 - val_loss: 0.3232 - val_accuracy: 0.9510\n",
      "Epoch 97/100\n",
      "95/95 [==============================] - 107s 1s/step - loss: 0.0236 - accuracy: 0.9960 - val_loss: 0.3326 - val_accuracy: 0.9490\n",
      "Epoch 98/100\n",
      "95/95 [==============================] - 107s 1s/step - loss: 0.0220 - accuracy: 0.9977 - val_loss: 0.3432 - val_accuracy: 0.9523\n",
      "Epoch 99/100\n",
      "95/95 [==============================] - 106s 1s/step - loss: 0.0234 - accuracy: 0.9972 - val_loss: 0.3339 - val_accuracy: 0.9517\n",
      "Epoch 100/100\n",
      "95/95 [==============================] - 106s 1s/step - loss: 0.0235 - accuracy: 0.9967 - val_loss: 0.3321 - val_accuracy: 0.9523\n"
     ]
    },
    {
     "data": {
      "text/plain": [
       "<tensorflow.python.keras.callbacks.History at 0x25192eaad08>"
      ]
     },
     "execution_count": 7,
     "metadata": {},
     "output_type": "execute_result"
    }
   ],
   "source": [
    "\n",
    "model.fit(trDat,                    # Training data\n",
    "          trLbl,                            # Training label\n",
    "          validation_data=(tsDat, tsLbl),   # Validation data and label\n",
    "          epochs=100,                       # The amount of epochs to be trained\n",
    "          batch_size=64,                   \n",
    "          shuffle=True,                     # To shuffle the training data\n",
    "          callbacks=callbacks_list)         # Callbacks to execute the checkpoints"
   ]
  },
  {
   "cell_type": "markdown",
   "metadata": {},
   "source": [
    "## **8. Validate the deep learning model**\n",
    "---\n",
    "* Step 1: Load the trained weights and compile the model\n",
    "* Step 2: Make prediction\n"
   ]
  },
  {
   "cell_type": "code",
   "execution_count": 8,
   "metadata": {},
   "outputs": [
    {
     "name": "stdout",
     "output_type": "stream",
     "text": [
      "Prediction completes.\n"
     ]
    }
   ],
   "source": [
    "# Step 1\n",
    "modelGo.load_weights(filepath)\n",
    "modelGo.compile(loss='categorical_crossentropy', \n",
    "                optimizer=optmz, \n",
    "                metrics=['accuracy'])\n",
    "\n",
    "# Step 2\n",
    "predicts    = modelGo.predict(tsDat)\n",
    "print(\"Prediction completes.\")"
   ]
  },
  {
   "cell_type": "markdown",
   "metadata": {},
   "source": [
    "## **9. Report classification metrics**\n",
    "---\n",
    "* Step 1: Setup the label\n",
    "* Step 2: Convert label from one-hot to integer\n",
    "* Step 3: Calculate the accuracy score\n",
    "* Step 4: Generate classification report"
   ]
  },
  {
   "cell_type": "code",
   "execution_count": 9,
   "metadata": {},
   "outputs": [
    {
     "name": "stdout",
     "output_type": "stream",
     "text": [
      "Best accuracy (on testing dataset): 96.03%\n",
      "              precision    recall  f1-score   support\n",
      "\n",
      "   with_mask     0.9647    0.9544    0.9595       745\n",
      "without_mask     0.9561    0.9661    0.9610       766\n",
      "\n",
      "    accuracy                         0.9603      1511\n",
      "   macro avg     0.9604    0.9602    0.9603      1511\n",
      "weighted avg     0.9603    0.9603    0.9603      1511\n",
      "\n"
     ]
    }
   ],
   "source": [
    "# Step 1\n",
    "labelname   = ['with_mask',          # The label for reporting metrics\n",
    "               'without_mask']\n",
    "# Step 2\n",
    "predout     = np.argmax(predicts,axis=1)\n",
    "testout     = np.argmax(tsLbl,axis=1)\n",
    "\n",
    "# Step 3\n",
    "testScores  = metrics.accuracy_score(testout,predout)\n",
    "\n",
    "# Step 4\n",
    "print(\"Best accuracy (on testing dataset): %.2f%%\" % (testScores*100))\n",
    "print(metrics.classification_report(testout,\n",
    "                                    predout,\n",
    "                                    target_names=labelname,\n",
    "                                    digits=4))"
   ]
  },
  {
   "cell_type": "markdown",
   "metadata": {},
   "source": [
    "## **10. Print confusion matrix**\n",
    "---"
   ]
  },
  {
   "cell_type": "code",
   "execution_count": 10,
   "metadata": {},
   "outputs": [
    {
     "name": "stdout",
     "output_type": "stream",
     "text": [
      "[[711  34]\n",
      " [ 26 740]]\n"
     ]
    }
   ],
   "source": [
    "confusion   = metrics.confusion_matrix(testout,predout)\n",
    "print(confusion)"
   ]
  },
  {
   "cell_type": "markdown",
   "metadata": {},
   "source": [
    "## **11. Plot curves on validation loss and accuracy**\n",
    "---"
   ]
  },
  {
   "cell_type": "code",
   "execution_count": 11,
   "metadata": {},
   "outputs": [
    {
     "data": {
      "image/png": "[encoded data removed]",
      "text/plain": [
       "<Figure size 504x504 with 2 Axes>"
      ]
     },
     "metadata": {},
     "output_type": "display_data"
    }
   ],
   "source": [
    "records     = pd.read_csv(folderpath+modelname +'.csv')\n",
    "plt.figure()\n",
    "plt.subplot(211)\n",
    "plt.plot(records['val_loss'], label=\"validation\")\n",
    "plt.plot(records['loss'],label=\"training\")\n",
    "plt.yticks([0.00,0.50,1.00,1.50])\n",
    "plt.title('Loss value',fontsize=12)\n",
    "\n",
    "ax          = plt.gca()\n",
    "ax.set_xticklabels([])\n",
    "\n",
    "plt.subplot(212)\n",
    "plt.plot(records['val_accuracy'],label=\"validation\")\n",
    "plt.plot(records['accuracy'],label=\"training\")\n",
    "plt.yticks([0.5,0.6,0.7,0.8])\n",
    "plt.title('Accuracy',fontsize=12)\n",
    "ax.legend()\n",
    "plt.show()"
   ]
  },
  {
   "cell_type": "code",
   "execution_count": 12,
   "metadata": {},
   "outputs": [
    {
     "data": {
      "image/png": "[encoded data removed]",
      "text/plain": [
       "<IPython.core.display.Image object>"
      ]
     },
     "execution_count": 12,
     "metadata": {},
     "output_type": "execute_result"
    }
   ],
   "source": [
    "plotpath  = folderpath+modelname+'_plot.png'\n",
    "plot_model(model, \n",
    "           to_file=plotpath, \n",
    "           show_shapes=True, \n",
    "           show_layer_names=False,\n",
    "           rankdir='TB')\n"
   ]
  },
  {
   "cell_type": "code",
   "execution_count": 1,
   "metadata": {},
   "outputs": [
    {
     "name": "stdout",
     "output_type": "stream",
     "text": [
      "['/device:CPU:0', '/device:GPU:0']\n"
     ]
    }
   ],
   "source": [
    "from tensorflow.python.client import device_lib\n",
    "def get_available_devices():\n",
    "    local_device_protos = device_lib.list_local_devices()\n",
    "    return [x.name for x in local_device_protos]\n",
    "print(get_available_devices()) "
   ]
  },
  {
   "cell_type": "code",
   "execution_count": null,
   "metadata": {},
   "outputs": [],
   "source": []
  }
 ],
 "metadata": {
  "kernelspec": {
   "display_name": "Python 3 (ipykernel)",
   "language": "python",
   "name": "python3"
  },
  "language_info": {
   "codemirror_mode": {
    "name": "ipython",
    "version": 3
   },
   "file_extension": ".py",
   "mimetype": "text/x-python",
   "name": "python",
   "nbconvert_exporter": "python",
   "pygments_lexer": "ipython3",
   "version": "3.7.11"
  }
 },
 "nbformat": 4,
 "nbformat_minor": 4
}
