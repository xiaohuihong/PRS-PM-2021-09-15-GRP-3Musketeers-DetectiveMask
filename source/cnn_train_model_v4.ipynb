{
 "cells": [
  {
   "cell_type": "markdown",
   "metadata": {},
   "source": [
    "## **1. Import the necessary libraries** ---"
   ]
  },
  {
   "cell_type": "code",
   "execution_count": 1,
   "metadata": {},
   "outputs": [
    {
     "name": "stdout",
     "output_type": "stream",
     "text": [
      "Versions of key libraries\n",
      "---\n",
      "tensorflow:  2.3.0\n",
      "numpy:       1.18.5\n",
      "matplotlib:  3.4.2\n",
      "sklearn:     0.24.2\n"
     ]
    }
   ],
   "source": [
    "import matplotlib\n",
    "import sklearn\n",
    "import numpy as np\n",
    "import pandas as pd\n",
    "import sklearn.metrics as metrics\n",
    "import matplotlib.pyplot as plt\n",
    "import tensorflow as tf\n",
    "\n",
    "\n",
    "from tensorflow.keras.callbacks import ModelCheckpoint,CSVLogger\n",
    "from tensorflow.keras.models import Model\n",
    "from tensorflow.keras.layers import Input\n",
    "from tensorflow.keras.layers import Dense\n",
    "from tensorflow.keras.layers import Dropout\n",
    "from tensorflow.keras.layers import Flatten\n",
    "from tensorflow.keras.layers import Conv2D\n",
    "from tensorflow.keras.layers import MaxPooling2D\n",
    "from tensorflow.keras.layers import BatchNormalization\n",
    "from tensorflow.keras.layers import Activation\n",
    "from tensorflow.keras.utils import to_categorical\n",
    "from tensorflow.keras.utils import plot_model\n",
    "from tensorflow.keras.datasets import cifar10\n",
    "from tensorflow.keras import optimizers\n",
    "from tensorflow.keras import regularizers\n",
    "\n",
    "print(\"Versions of key libraries\")\n",
    "print(\"---\")\n",
    "print(\"tensorflow: \", tf.__version__)\n",
    "print(\"numpy:      \", np.__version__)\n",
    "print(\"matplotlib: \", matplotlib.__version__)\n",
    "print(\"sklearn:    \", sklearn.__version__)"
   ]
  },
  {
   "cell_type": "markdown",
   "metadata": {},
   "source": [
    "## **2.Create a function to plot image without axis** ---"
   ]
  },
  {
   "cell_type": "code",
   "execution_count": 2,
   "metadata": {},
   "outputs": [
    {
     "name": "stdout",
     "output_type": "stream",
     "text": [
      "<function implt at 0x000001B4B0E48AF8>\n"
     ]
    }
   ],
   "source": [
    "def implt(img):\n",
    "    plt.figure()\n",
    "    plt.imshow(img)\n",
    "    plt.axis('off')\n",
    "\n",
    "print(implt)"
   ]
  },
  {
   "cell_type": "markdown",
   "metadata": {},
   "source": [
    "## **3. Set matplotlib to have seaborn plot style**"
   ]
  },
  {
   "cell_type": "code",
   "execution_count": 3,
   "metadata": {},
   "outputs": [
    {
     "name": "stdout",
     "output_type": "stream",
     "text": [
      "Matplotlib setup completes.\n"
     ]
    }
   ],
   "source": [
    "plt.style.use('seaborn')                   # if want to use the default style, set 'classic'\n",
    "plt.rcParams['ytick.right']     = True\n",
    "plt.rcParams['ytick.labelright']= True\n",
    "plt.rcParams['ytick.left']      = False\n",
    "plt.rcParams['ytick.labelleft'] = False\n",
    "plt.rcParams['figure.figsize']  = [7,7]   # Set the figure size to be 7 inch for (width,height)\n",
    "\n",
    "print(\"Matplotlib setup completes.\")"
   ]
  },
  {
   "cell_type": "markdown",
   "metadata": {},
   "source": [
    "## **4. Prepare data for training and testing**\n",
    "---\n",
    "* Step 1: Load the images\n",
    "* Step 2: Check the shape and type of the data\n",
    "* Step 3: Convert the data into float32 and rescale the values from the range of 0\\~255 into 0\\~1\n",
    "* Step 4: Retrieve the row size and the column size of each image\n",
    "* Step 5: Perform one-hot enconding on the labels\n",
    "* Step 6: Retrieve the number of classes in this problem"
   ]
  },
  {
   "cell_type": "code",
   "execution_count": 4,
   "metadata": {},
   "outputs": [
    {
     "name": "stderr",
     "output_type": "stream",
     "text": [
      "C:\\Users\\Sanje\\anaconda3\\envs\\detective_mask\\lib\\site-packages\\PIL\\Image.py:974: UserWarning: Palette images with Transparency expressed in bytes should be converted to RGBA images\n",
      "  \"Palette images with Transparency expressed in bytes should be \"\n"
     ]
    },
    {
     "name": "stdout",
     "output_type": "stream",
     "text": [
      "The shape of trDat is (6042, 128, 128, 3) and the type of trDat is float32\n",
      "The shape of tsDat is (1511, 128, 128, 3) and the type of tsDat is float32\n",
      "\n",
      "The shape of trLbl is (6042,) and the type of trLbl is <U12\n",
      "The shape of tsLbl is (1511,) and the type of tsLbl is <U12\n"
     ]
    }
   ],
   "source": [
    "from imutils import paths\n",
    "import os, sys\n",
    "from tensorflow.keras.preprocessing.image import load_img, img_to_array\n",
    "from sklearn.preprocessing import LabelBinarizer\n",
    "from tensorflow.keras.utils import to_categorical\n",
    "from sklearn.model_selection import train_test_split\n",
    "\n",
    "def collect_images_and_labels(path_to_images):\n",
    "    # in seguito, usare https://keras.io/api/preprocessing/image/\n",
    "    \"\"\"\n",
    "        :param path_to_images should be the root folder, in which there is a folder for each label, and the folder's name is\n",
    "        the label itself\n",
    "        :return: a list with images and a list with labels\n",
    "        \"\"\"\n",
    "    data = []\n",
    "    labels = []\n",
    "\n",
    "    for img_path in list(paths.list_images(path_to_images)):\n",
    "        # extract the class label from the filename\n",
    "        label = img_path.split(os.path.sep)[-2]\n",
    "\n",
    "        # load the input image as (128x128) and preprocess it\n",
    "        image = load_img(img_path, target_size=(128, 128))\n",
    "        image = img_to_array(image)\n",
    "        #image = preprocess_input(image)\n",
    "\n",
    "        # update the data and labels lists, respectively\n",
    "        data.append(image)\n",
    "        labels.append(label)\n",
    "\n",
    "    return data, labels\n",
    "\n",
    "def preprocess_labels(labels):\n",
    "    \"\"\"\n",
    "    :param labels: list of string\n",
    "    :return: np array of 0/1\n",
    "    \"\"\"\n",
    "    lb = LabelBinarizer()\n",
    "    labels = lb.fit_transform(labels)\n",
    "    labels = to_categorical(labels)\n",
    "    return labels\n",
    "\n",
    "def tts_split(data, labels):\n",
    "    (x_train, x_test, y_train, y_test) = train_test_split(data, labels, test_size=0.20, stratify=labels,\n",
    "                                                          random_state=42)\n",
    "    (x_train, x_test, y_train, y_test) = (np.array(x_train), np.array(x_test), np.array(y_train), np.array(y_test))\n",
    "    return x_train, x_test, y_train, y_test\n",
    "\n",
    "PATH_TO_IMAGE = \"../data\"\n",
    "MODELS_PATH = \"../models\"\n",
    "\n",
    "# Step 1\n",
    "\n",
    "data, labels = collect_images_and_labels(PATH_TO_IMAGE)\n",
    "#labels = preprocess_labels(labels)\n",
    "trDat, tsDat, trLbl, tsLbl = tts_split(data, labels)\n",
    "\n",
    "\n",
    "# Step 2\n",
    "print(\"The shape of trDat is\", trDat.shape, \"and the type of trDat is\", trDat.dtype)\n",
    "print(\"The shape of tsDat is\", tsDat.shape, \"and the type of tsDat is\", tsDat.dtype)\n",
    "print(\"\")\n",
    "print(\"The shape of trLbl is\", trLbl.shape, \"and the type of trLbl is\", trLbl.dtype)\n",
    "print(\"The shape of tsLbl is\", tsLbl.shape, \"and the type of tsLbl is\", tsLbl.dtype)\n",
    "\n",
    "\n",
    "# Step 3\n",
    "trDat           = trDat.astype('float32')/255\n",
    "tsDat           = tsDat.astype('float32')/255\n",
    "\n",
    "# Step 4\n",
    "imgrows         = trDat.shape[1]\n",
    "imgclms         = trDat.shape[2]\n",
    "channel         = trDat.shape[3]\n",
    "\n",
    "# Step 5\n",
    "trLbl           = preprocess_labels(trLbl)\n",
    "tsLbl           = preprocess_labels(tsLbl)\n",
    "\n",
    "# Step 6\n",
    "num_classes     = tsLbl.shape[1]           "
   ]
  },
  {
   "cell_type": "markdown",
   "metadata": {},
   "source": [
    "## **5. Define the CNN model (use Dropout)**\n",
    "___\n",
    "* Step 1: Setup the optimizer to be used for training\n",
    "* Step 2: Set a name for the coming model (required for saving)\n",
    "* Step 3: Define the convolutional neural network model (to be completed)\n",
    "* Step 4: Create models for training and testing\n",
    "* Step 5: Display the summary of the model of interest "
   ]
  },
  {
   "cell_type": "code",
   "execution_count": 5,
   "metadata": {},
   "outputs": [
    {
     "name": "stdout",
     "output_type": "stream",
     "text": [
      "Model: \"functional_1\"\n",
      "_________________________________________________________________\n",
      "Layer (type)                 Output Shape              Param #   \n",
      "=================================================================\n",
      "input_1 (InputLayer)         [(None, 128, 128, 3)]     0         \n",
      "_________________________________________________________________\n",
      "conv2d (Conv2D)              (None, 128, 128, 128)     3584      \n",
      "_________________________________________________________________\n",
      "activation (Activation)      (None, 128, 128, 128)     0         \n",
      "_________________________________________________________________\n",
      "max_pooling2d (MaxPooling2D) (None, 64, 64, 128)       0         \n",
      "_________________________________________________________________\n",
      "conv2d_1 (Conv2D)            (None, 64, 64, 64)        73792     \n",
      "_________________________________________________________________\n",
      "activation_1 (Activation)    (None, 64, 64, 64)        0         \n",
      "_________________________________________________________________\n",
      "max_pooling2d_1 (MaxPooling2 (None, 32, 32, 64)        0         \n",
      "_________________________________________________________________\n",
      "conv2d_2 (Conv2D)            (None, 32, 32, 32)        18464     \n",
      "_________________________________________________________________\n",
      "activation_2 (Activation)    (None, 32, 32, 32)        0         \n",
      "_________________________________________________________________\n",
      "max_pooling2d_2 (MaxPooling2 (None, 16, 16, 32)        0         \n",
      "_________________________________________________________________\n",
      "flatten (Flatten)            (None, 8192)              0         \n",
      "_________________________________________________________________\n",
      "dense (Dense)                (None, 64)                524352    \n",
      "_________________________________________________________________\n",
      "dropout (Dropout)            (None, 64)                0         \n",
      "_________________________________________________________________\n",
      "dense_1 (Dense)              (None, 32)                2080      \n",
      "_________________________________________________________________\n",
      "dropout_1 (Dropout)          (None, 32)                0         \n",
      "_________________________________________________________________\n",
      "dense_2 (Dense)              (None, 2)                 66        \n",
      "=================================================================\n",
      "Total params: 622,338\n",
      "Trainable params: 622,338\n",
      "Non-trainable params: 0\n",
      "_________________________________________________________________\n"
     ]
    }
   ],
   "source": [
    "from tensorflow.keras.initializers import he_normal\n",
    "# Step 1\n",
    "optmz       = optimizers.RMSprop(lr=0.0001)\n",
    "# Step 2\n",
    "modelname   = 'DetecitveMask'                                                           \n",
    "\n",
    "# Step 3                                                                               \n",
    "def createModel():\n",
    "    \n",
    "    ipt = Input(shape=(imgrows, imgclms, channel))\n",
    "    x = Conv2D(128,(3,3),padding='same', kernel_initializer=he_normal(33), kernel_regularizer=regularizers.l2(1e-4))(ipt)\n",
    "    x = Activation('relu')(x)\n",
    "    x = MaxPooling2D(pool_size=(2,2))(x)\n",
    "    x = Conv2D(64,(3,3),padding='same', kernel_initializer=he_normal(33), kernel_regularizer=regularizers.l2(1e-4))(x)\n",
    "    x = Activation('relu')(x)\n",
    "    x = MaxPooling2D(pool_size=(2,2))(x)\n",
    "    x = Conv2D(32,(3,3),padding='same', kernel_initializer=he_normal(33), kernel_regularizer=regularizers.l2(1e-4))(x)\n",
    "    x = Activation('relu')(x)\n",
    "    x = MaxPooling2D(pool_size=(2,2))(x)\n",
    "    x = Flatten()(x)\n",
    "    x = Dense(64, activation='relu', kernel_initializer=he_normal(33), kernel_regularizer=regularizers.l2(1e-4))(x)\n",
    "    x = Dropout(0.5)(x)\n",
    "    x = Dense(32, activation='relu', kernel_initializer=he_normal(33), kernel_regularizer=regularizers.l2(1e-4))(x)\n",
    "    x = Dropout(0.5)(x)\n",
    "    x = Dense(num_classes, activation='softmax')(x)\n",
    "    \n",
    "    model = Model(inputs=ipt, outputs=x)\n",
    "#    if (tf.test.is_built_with_cuda()):\n",
    "#        from tensorflow.python.keras.utils.multi_gpu_utils import multi_gpu_model\n",
    "#        model = multi_gpu_model(model, gpus=0)\n",
    "    model.compile(loss='categorical_crossentropy',\n",
    "                  optimizer='rmsprop',\n",
    "                  metrics=['accuracy'])\n",
    "    return model\n",
    "\n",
    "# Step 4                                                                                \n",
    "model       = createModel() # This is meant for training\n",
    "modelGo     = createModel() # This is used for final testing\n",
    "\n",
    "# Step 5\n",
    "model.summary()                                                                 "
   ]
  },
  {
   "cell_type": "markdown",
   "metadata": {},
   "source": [
    "## **6. Create the checkpoints to be applied during training**\n",
    "---\n",
    "* Step 1: Create a checkpoint to save the model from an epoch when validation accuracy is the highest\n",
    "* Step 2: Create a checkpoint to save the training loss, training accuracy, validation loss and validation accuracy of each epoch into a csv file\n",
    "* Step 3: Put the two checkpoint objects into a list"
   ]
  },
  {
   "cell_type": "code",
   "execution_count": 6,
   "metadata": {},
   "outputs": [
    {
     "name": "stdout",
     "output_type": "stream",
     "text": [
      "Callbacks created:\n",
      "<tensorflow.python.keras.callbacks.ModelCheckpoint object at 0x000001B4D710DD08>\n",
      "<tensorflow.python.keras.callbacks.CSVLogger object at 0x000001B4D710DB88>\n",
      "\n",
      "Path to model: ../models/cnn_v4/DetecitveMask.hdf5\n",
      "Path to log:   ../models/cnn_v4/DetecitveMask.csv\n"
     ]
    }
   ],
   "source": [
    "# Step 1\n",
    "folderpath      = MODELS_PATH + '/cnn_v4/'\n",
    "filepath        = folderpath + modelname + \".hdf5\"\n",
    "checkpoint      = ModelCheckpoint(filepath, \n",
    "                                  monitor='val_accuracy', \n",
    "                                  verbose=0, \n",
    "                                  save_best_only=True, \n",
    "                                  mode='max')\n",
    "\n",
    "# Step 2\n",
    "csv_logger      = CSVLogger(folderpath+modelname +'.csv')\n",
    "\n",
    "# Step 3\n",
    "callbacks_list  = [checkpoint,csv_logger]                                       \n",
    "\n",
    "print(\"Callbacks created:\")\n",
    "print(callbacks_list[0])\n",
    "print(callbacks_list[1])\n",
    "print('')\n",
    "print(\"Path to model:\", filepath)\n",
    "print(\"Path to log:  \", folderpath+modelname+'.csv')"
   ]
  },
  {
   "cell_type": "markdown",
   "metadata": {},
   "source": [
    "## **7. Train the deep learning model**"
   ]
  },
  {
   "cell_type": "code",
   "execution_count": 8,
   "metadata": {},
   "outputs": [
    {
     "name": "stdout",
     "output_type": "stream",
     "text": [
      "Epoch 1/100\n",
      "48/48 [==============================] - 88s 2s/step - loss: 0.9560 - accuracy: 0.5364 - val_loss: 1.5920 - val_accuracy: 0.5069\n",
      "Epoch 2/100\n",
      "48/48 [==============================] - 88s 2s/step - loss: 0.7140 - accuracy: 0.6597 - val_loss: 0.5962 - val_accuracy: 0.7240\n",
      "Epoch 3/100\n",
      "48/48 [==============================] - 88s 2s/step - loss: 0.5162 - accuracy: 0.7910 - val_loss: 0.6274 - val_accuracy: 0.6923\n",
      "Epoch 4/100\n",
      "48/48 [==============================] - 89s 2s/step - loss: 0.4093 - accuracy: 0.8570 - val_loss: 0.9013 - val_accuracy: 0.7406\n",
      "Epoch 5/100\n",
      "48/48 [==============================] - 88s 2s/step - loss: 0.3735 - accuracy: 0.8729 - val_loss: 0.2932 - val_accuracy: 0.9027\n",
      "Epoch 6/100\n",
      "48/48 [==============================] - 88s 2s/step - loss: 0.2927 - accuracy: 0.9020 - val_loss: 1.5154 - val_accuracy: 0.6956\n",
      "Epoch 7/100\n",
      "48/48 [==============================] - 88s 2s/step - loss: 0.3163 - accuracy: 0.8985 - val_loss: 0.2277 - val_accuracy: 0.9298\n",
      "Epoch 8/100\n",
      "48/48 [==============================] - 87s 2s/step - loss: 0.2613 - accuracy: 0.9153 - val_loss: 0.2733 - val_accuracy: 0.9318\n",
      "Epoch 9/100\n",
      "48/48 [==============================] - 87s 2s/step - loss: 0.2801 - accuracy: 0.9273 - val_loss: 0.2487 - val_accuracy: 0.9265\n",
      "Epoch 10/100\n",
      "48/48 [==============================] - 87s 2s/step - loss: 0.2351 - accuracy: 0.9318 - val_loss: 0.2435 - val_accuracy: 0.9358\n",
      "Epoch 11/100\n",
      "48/48 [==============================] - 87s 2s/step - loss: 0.2166 - accuracy: 0.9444 - val_loss: 0.2270 - val_accuracy: 0.9305\n",
      "Epoch 12/100\n",
      "48/48 [==============================] - 88s 2s/step - loss: 0.1829 - accuracy: 0.9537 - val_loss: 0.3186 - val_accuracy: 0.9021\n",
      "Epoch 13/100\n",
      "48/48 [==============================] - 88s 2s/step - loss: 0.1838 - accuracy: 0.9487 - val_loss: 0.2586 - val_accuracy: 0.9298\n",
      "Epoch 14/100\n",
      "48/48 [==============================] - 88s 2s/step - loss: 0.1617 - accuracy: 0.9593 - val_loss: 0.2183 - val_accuracy: 0.9411\n",
      "Epoch 15/100\n",
      "48/48 [==============================] - 88s 2s/step - loss: 0.1633 - accuracy: 0.9599 - val_loss: 0.2134 - val_accuracy: 0.9550\n",
      "Epoch 16/100\n",
      "48/48 [==============================] - 88s 2s/step - loss: 0.1504 - accuracy: 0.9659 - val_loss: 0.2578 - val_accuracy: 0.9490\n",
      "Epoch 17/100\n",
      "48/48 [==============================] - 88s 2s/step - loss: 0.1363 - accuracy: 0.9704 - val_loss: 0.2167 - val_accuracy: 0.9557\n",
      "Epoch 18/100\n",
      "48/48 [==============================] - 88s 2s/step - loss: 0.1347 - accuracy: 0.9702 - val_loss: 0.3146 - val_accuracy: 0.9517\n",
      "Epoch 19/100\n",
      "48/48 [==============================] - 88s 2s/step - loss: 0.1374 - accuracy: 0.9687 - val_loss: 0.2083 - val_accuracy: 0.9616\n",
      "Epoch 20/100\n",
      "48/48 [==============================] - 88s 2s/step - loss: 0.1189 - accuracy: 0.9757 - val_loss: 0.2862 - val_accuracy: 0.9517\n",
      "Epoch 21/100\n",
      "48/48 [==============================] - 88s 2s/step - loss: 0.1188 - accuracy: 0.9758 - val_loss: 0.2220 - val_accuracy: 0.9610\n",
      "Epoch 22/100\n",
      "48/48 [==============================] - 88s 2s/step - loss: 0.1057 - accuracy: 0.9810 - val_loss: 0.2529 - val_accuracy: 0.9576\n",
      "Epoch 23/100\n",
      "48/48 [==============================] - 88s 2s/step - loss: 0.1082 - accuracy: 0.9791 - val_loss: 0.3212 - val_accuracy: 0.9530\n",
      "Epoch 24/100\n",
      "48/48 [==============================] - 88s 2s/step - loss: 0.1021 - accuracy: 0.9790 - val_loss: 0.6150 - val_accuracy: 0.9093\n",
      "Epoch 25/100\n",
      "48/48 [==============================] - 92s 2s/step - loss: 0.1255 - accuracy: 0.9775 - val_loss: 0.2827 - val_accuracy: 0.9583\n",
      "Epoch 26/100\n",
      "48/48 [==============================] - 89s 2s/step - loss: 0.1136 - accuracy: 0.9801 - val_loss: 0.3067 - val_accuracy: 0.9629\n",
      "Epoch 27/100\n",
      "48/48 [==============================] - 89s 2s/step - loss: 0.1023 - accuracy: 0.9818 - val_loss: 0.3226 - val_accuracy: 0.9563\n",
      "Epoch 28/100\n",
      "48/48 [==============================] - 89s 2s/step - loss: 0.1212 - accuracy: 0.9801 - val_loss: 0.2829 - val_accuracy: 0.9590\n",
      "Epoch 29/100\n",
      "48/48 [==============================] - 87s 2s/step - loss: 0.0963 - accuracy: 0.9848 - val_loss: 0.2543 - val_accuracy: 0.9576\n",
      "Epoch 30/100\n",
      "48/48 [==============================] - 87s 2s/step - loss: 0.0980 - accuracy: 0.9818 - val_loss: 0.2679 - val_accuracy: 0.9444\n",
      "Epoch 31/100\n",
      "48/48 [==============================] - 87s 2s/step - loss: 0.0921 - accuracy: 0.9846 - val_loss: 0.3536 - val_accuracy: 0.9557\n",
      "Epoch 32/100\n",
      "48/48 [==============================] - 88s 2s/step - loss: 0.0935 - accuracy: 0.9861 - val_loss: 0.3085 - val_accuracy: 0.9623\n",
      "Epoch 33/100\n",
      "48/48 [==============================] - 87s 2s/step - loss: 0.0861 - accuracy: 0.9854 - val_loss: 0.3810 - val_accuracy: 0.9471\n",
      "Epoch 34/100\n",
      "48/48 [==============================] - 87s 2s/step - loss: 0.0983 - accuracy: 0.9828 - val_loss: 0.3106 - val_accuracy: 0.9418\n",
      "Epoch 35/100\n",
      "48/48 [==============================] - 86s 2s/step - loss: 0.0849 - accuracy: 0.9869 - val_loss: 0.3292 - val_accuracy: 0.9345\n",
      "Epoch 36/100\n",
      "48/48 [==============================] - 85s 2s/step - loss: 0.0848 - accuracy: 0.9864 - val_loss: 0.3264 - val_accuracy: 0.9590\n",
      "Epoch 37/100\n",
      "48/48 [==============================] - 85s 2s/step - loss: 0.0913 - accuracy: 0.9844 - val_loss: 0.3345 - val_accuracy: 0.9583\n",
      "Epoch 38/100\n",
      "48/48 [==============================] - 85s 2s/step - loss: 0.0797 - accuracy: 0.9892 - val_loss: 0.3585 - val_accuracy: 0.9550\n",
      "Epoch 39/100\n",
      "48/48 [==============================] - 85s 2s/step - loss: 0.0844 - accuracy: 0.9876 - val_loss: 0.3190 - val_accuracy: 0.9398\n",
      "Epoch 40/100\n",
      "48/48 [==============================] - 85s 2s/step - loss: 0.0820 - accuracy: 0.9873 - val_loss: 0.3051 - val_accuracy: 0.9490\n",
      "Epoch 41/100\n",
      "48/48 [==============================] - 85s 2s/step - loss: 0.0958 - accuracy: 0.9856 - val_loss: 0.2828 - val_accuracy: 0.9543\n",
      "Epoch 42/100\n",
      "48/48 [==============================] - 85s 2s/step - loss: 0.0771 - accuracy: 0.9904 - val_loss: 0.3619 - val_accuracy: 0.9418\n",
      "Epoch 43/100\n",
      "48/48 [==============================] - 88s 2s/step - loss: 0.0868 - accuracy: 0.9864 - val_loss: 0.3269 - val_accuracy: 0.9590\n",
      "Epoch 44/100\n",
      "48/48 [==============================] - 87s 2s/step - loss: 0.0769 - accuracy: 0.9902 - val_loss: 0.4399 - val_accuracy: 0.9550\n",
      "Epoch 45/100\n",
      "48/48 [==============================] - 87s 2s/step - loss: 0.0897 - accuracy: 0.9861 - val_loss: 0.3143 - val_accuracy: 0.9596\n",
      "Epoch 46/100\n",
      "48/48 [==============================] - 87s 2s/step - loss: 0.0808 - accuracy: 0.9889 - val_loss: 0.4119 - val_accuracy: 0.9550\n",
      "Epoch 47/100\n",
      "48/48 [==============================] - 87s 2s/step - loss: 0.0804 - accuracy: 0.9886 - val_loss: 0.3871 - val_accuracy: 0.9543\n",
      "Epoch 48/100\n",
      "48/48 [==============================] - 87s 2s/step - loss: 0.0839 - accuracy: 0.9886 - val_loss: 0.3725 - val_accuracy: 0.9603\n",
      "Epoch 49/100\n",
      "48/48 [==============================] - 88s 2s/step - loss: 0.0745 - accuracy: 0.9907 - val_loss: 0.3573 - val_accuracy: 0.9530\n",
      "Epoch 50/100\n",
      "48/48 [==============================] - 87s 2s/step - loss: 0.0729 - accuracy: 0.9924 - val_loss: 0.4649 - val_accuracy: 0.9557\n",
      "Epoch 51/100\n",
      "48/48 [==============================] - 87s 2s/step - loss: 0.0710 - accuracy: 0.9906 - val_loss: 0.4202 - val_accuracy: 0.9570\n",
      "Epoch 52/100\n",
      "48/48 [==============================] - 87s 2s/step - loss: 0.0766 - accuracy: 0.9907 - val_loss: 0.8102 - val_accuracy: 0.9404\n",
      "Epoch 53/100\n",
      "48/48 [==============================] - 85s 2s/step - loss: 0.0766 - accuracy: 0.9889 - val_loss: 0.5086 - val_accuracy: 0.9477\n",
      "Epoch 54/100\n",
      "48/48 [==============================] - 85s 2s/step - loss: 0.0762 - accuracy: 0.9894 - val_loss: 0.3869 - val_accuracy: 0.9497\n",
      "Epoch 55/100\n",
      "48/48 [==============================] - 85s 2s/step - loss: 0.0808 - accuracy: 0.9896 - val_loss: 0.4114 - val_accuracy: 0.9583\n",
      "Epoch 56/100\n",
      "48/48 [==============================] - 85s 2s/step - loss: 0.0762 - accuracy: 0.9886 - val_loss: 0.3506 - val_accuracy: 0.9484\n",
      "Epoch 57/100\n",
      "48/48 [==============================] - 86s 2s/step - loss: 0.0857 - accuracy: 0.9871 - val_loss: 0.3391 - val_accuracy: 0.9424\n",
      "Epoch 58/100\n",
      "48/48 [==============================] - 87s 2s/step - loss: 0.0727 - accuracy: 0.9899 - val_loss: 0.5596 - val_accuracy: 0.9358\n"
     ]
    },
    {
     "name": "stdout",
     "output_type": "stream",
     "text": [
      "Epoch 59/100\n",
      "48/48 [==============================] - 87s 2s/step - loss: 0.0722 - accuracy: 0.9899 - val_loss: 0.6467 - val_accuracy: 0.9285\n",
      "Epoch 60/100\n",
      "48/48 [==============================] - 87s 2s/step - loss: 0.0720 - accuracy: 0.9917 - val_loss: 0.4260 - val_accuracy: 0.9537\n",
      "Epoch 61/100\n",
      "48/48 [==============================] - 91s 2s/step - loss: 0.0809 - accuracy: 0.9881 - val_loss: 0.3476 - val_accuracy: 0.9636\n",
      "Epoch 62/100\n",
      "48/48 [==============================] - 87s 2s/step - loss: 0.0753 - accuracy: 0.9901 - val_loss: 0.4553 - val_accuracy: 0.9616\n",
      "Epoch 63/100\n",
      "48/48 [==============================] - 87s 2s/step - loss: 0.0752 - accuracy: 0.9899 - val_loss: 0.4243 - val_accuracy: 0.9537\n",
      "Epoch 64/100\n",
      "48/48 [==============================] - 94s 2s/step - loss: 0.0744 - accuracy: 0.9902 - val_loss: 0.3998 - val_accuracy: 0.9616\n",
      "Epoch 65/100\n",
      "48/48 [==============================] - 91s 2s/step - loss: 0.0695 - accuracy: 0.9917 - val_loss: 0.3722 - val_accuracy: 0.9623\n",
      "Epoch 66/100\n",
      "48/48 [==============================] - 91s 2s/step - loss: 0.0779 - accuracy: 0.9896 - val_loss: 0.5614 - val_accuracy: 0.9100\n",
      "Epoch 67/100\n",
      "48/48 [==============================] - 91s 2s/step - loss: 0.0770 - accuracy: 0.9911 - val_loss: 0.3486 - val_accuracy: 0.9523\n",
      "Epoch 68/100\n",
      "48/48 [==============================] - 88s 2s/step - loss: 0.0792 - accuracy: 0.9899 - val_loss: 0.3520 - val_accuracy: 0.9464\n",
      "Epoch 69/100\n",
      "48/48 [==============================] - 87s 2s/step - loss: 0.0716 - accuracy: 0.9906 - val_loss: 0.3279 - val_accuracy: 0.9610\n",
      "Epoch 70/100\n",
      "48/48 [==============================] - 88s 2s/step - loss: 0.0782 - accuracy: 0.9894 - val_loss: 0.3677 - val_accuracy: 0.9590\n",
      "Epoch 71/100\n",
      "48/48 [==============================] - 87s 2s/step - loss: 0.0654 - accuracy: 0.9934 - val_loss: 0.3357 - val_accuracy: 0.9510\n",
      "Epoch 72/100\n",
      "48/48 [==============================] - 87s 2s/step - loss: 0.0781 - accuracy: 0.9894 - val_loss: 0.3755 - val_accuracy: 0.9557\n",
      "Epoch 73/100\n",
      "48/48 [==============================] - 85s 2s/step - loss: 0.0707 - accuracy: 0.9932 - val_loss: 0.4383 - val_accuracy: 0.9557\n",
      "Epoch 74/100\n",
      "48/48 [==============================] - 85s 2s/step - loss: 0.0714 - accuracy: 0.9907 - val_loss: 0.3428 - val_accuracy: 0.9596\n",
      "Epoch 75/100\n",
      "48/48 [==============================] - 85s 2s/step - loss: 0.0608 - accuracy: 0.9944 - val_loss: 0.6794 - val_accuracy: 0.9451\n",
      "Epoch 76/100\n",
      "48/48 [==============================] - 85s 2s/step - loss: 0.0823 - accuracy: 0.9904 - val_loss: 0.3249 - val_accuracy: 0.9576\n",
      "Epoch 77/100\n",
      "48/48 [==============================] - 85s 2s/step - loss: 0.0713 - accuracy: 0.9921 - val_loss: 0.3452 - val_accuracy: 0.9523\n",
      "Epoch 78/100\n",
      "48/48 [==============================] - 85s 2s/step - loss: 0.0629 - accuracy: 0.9927 - val_loss: 0.4537 - val_accuracy: 0.9345\n",
      "Epoch 79/100\n",
      "48/48 [==============================] - 85s 2s/step - loss: 0.0727 - accuracy: 0.9927 - val_loss: 0.3690 - val_accuracy: 0.9530\n",
      "Epoch 80/100\n",
      "48/48 [==============================] - 85s 2s/step - loss: 0.0686 - accuracy: 0.9916 - val_loss: 0.3608 - val_accuracy: 0.9550\n",
      "Epoch 81/100\n",
      "48/48 [==============================] - 85s 2s/step - loss: 0.0751 - accuracy: 0.9924 - val_loss: 0.3848 - val_accuracy: 0.9563\n",
      "Epoch 82/100\n",
      "48/48 [==============================] - 85s 2s/step - loss: 0.0703 - accuracy: 0.9927 - val_loss: 0.4543 - val_accuracy: 0.9576\n",
      "Epoch 83/100\n",
      "48/48 [==============================] - 85s 2s/step - loss: 0.0689 - accuracy: 0.9924 - val_loss: 0.3695 - val_accuracy: 0.9610\n",
      "Epoch 84/100\n",
      "48/48 [==============================] - 85s 2s/step - loss: 0.0725 - accuracy: 0.9926 - val_loss: 0.3275 - val_accuracy: 0.9530\n",
      "Epoch 85/100\n",
      "48/48 [==============================] - 86s 2s/step - loss: 0.0700 - accuracy: 0.9940 - val_loss: 0.2991 - val_accuracy: 0.9603\n",
      "Epoch 86/100\n",
      "48/48 [==============================] - 85s 2s/step - loss: 0.0722 - accuracy: 0.9921 - val_loss: 0.4175 - val_accuracy: 0.9610\n",
      "Epoch 87/100\n",
      "48/48 [==============================] - 85s 2s/step - loss: 0.0698 - accuracy: 0.9907 - val_loss: 0.4723 - val_accuracy: 0.9550\n",
      "Epoch 88/100\n",
      "48/48 [==============================] - 85s 2s/step - loss: 0.0652 - accuracy: 0.9921 - val_loss: 0.3150 - val_accuracy: 0.9517\n",
      "Epoch 89/100\n",
      "48/48 [==============================] - 85s 2s/step - loss: 0.0821 - accuracy: 0.9894 - val_loss: 0.4142 - val_accuracy: 0.9471\n",
      "Epoch 90/100\n",
      "48/48 [==============================] - 85s 2s/step - loss: 0.0603 - accuracy: 0.9942 - val_loss: 0.4861 - val_accuracy: 0.9186\n",
      "Epoch 91/100\n",
      "48/48 [==============================] - 85s 2s/step - loss: 0.0765 - accuracy: 0.9896 - val_loss: 0.3072 - val_accuracy: 0.9550\n",
      "Epoch 92/100\n",
      "48/48 [==============================] - 85s 2s/step - loss: 0.0575 - accuracy: 0.9939 - val_loss: 0.3692 - val_accuracy: 0.9576\n",
      "Epoch 93/100\n",
      "48/48 [==============================] - 85s 2s/step - loss: 0.0679 - accuracy: 0.9917 - val_loss: 0.4328 - val_accuracy: 0.9557\n",
      "Epoch 94/100\n",
      "48/48 [==============================] - 85s 2s/step - loss: 0.0609 - accuracy: 0.9926 - val_loss: 0.5258 - val_accuracy: 0.9484\n",
      "Epoch 95/100\n",
      "48/48 [==============================] - 85s 2s/step - loss: 0.0637 - accuracy: 0.9932 - val_loss: 0.3981 - val_accuracy: 0.9610\n",
      "Epoch 96/100\n",
      "48/48 [==============================] - 85s 2s/step - loss: 0.0648 - accuracy: 0.9934 - val_loss: 0.4202 - val_accuracy: 0.9557\n",
      "Epoch 97/100\n",
      "48/48 [==============================] - 85s 2s/step - loss: 0.0795 - accuracy: 0.9901 - val_loss: 0.3864 - val_accuracy: 0.9504\n",
      "Epoch 98/100\n",
      "48/48 [==============================] - 85s 2s/step - loss: 0.0694 - accuracy: 0.9911 - val_loss: 0.3127 - val_accuracy: 0.9590\n",
      "Epoch 99/100\n",
      "48/48 [==============================] - 85s 2s/step - loss: 0.0578 - accuracy: 0.9944 - val_loss: 0.4281 - val_accuracy: 0.9543\n",
      "Epoch 100/100\n",
      "48/48 [==============================] - 85s 2s/step - loss: 0.0676 - accuracy: 0.9934 - val_loss: 0.4393 - val_accuracy: 0.9563\n"
     ]
    },
    {
     "data": {
      "text/plain": [
       "<tensorflow.python.keras.callbacks.History at 0x1b48c764788>"
      ]
     },
     "execution_count": 8,
     "metadata": {},
     "output_type": "execute_result"
    }
   ],
   "source": [
    "\n",
    "model.fit(trDat,                    # Training data\n",
    "          trLbl,                            # Training label\n",
    "          validation_data=(tsDat, tsLbl),   # Validation data and label\n",
    "          epochs=100,                       # The amount of epochs to be trained\n",
    "          batch_size=128,                   \n",
    "          shuffle=True,                     # To shuffle the training data\n",
    "          callbacks=callbacks_list)         # Callbacks to execute the checkpoints"
   ]
  },
  {
   "cell_type": "markdown",
   "metadata": {},
   "source": [
    "## **8. Validate the deep learning model**\n",
    "---\n",
    "* Step 1: Load the trained weights and compile the model\n",
    "* Step 2: Make prediction\n"
   ]
  },
  {
   "cell_type": "code",
   "execution_count": 9,
   "metadata": {},
   "outputs": [
    {
     "name": "stdout",
     "output_type": "stream",
     "text": [
      "Prediction completes.\n"
     ]
    }
   ],
   "source": [
    "# Step 1\n",
    "modelGo.load_weights(filepath)\n",
    "modelGo.compile(loss='categorical_crossentropy', \n",
    "                optimizer=optmz, \n",
    "                metrics=['accuracy'])\n",
    "\n",
    "# Step 2\n",
    "predicts    = modelGo.predict(tsDat)\n",
    "print(\"Prediction completes.\")"
   ]
  },
  {
   "cell_type": "markdown",
   "metadata": {},
   "source": [
    "## **9. Report classification metrics**\n",
    "---\n",
    "* Step 1: Setup the label\n",
    "* Step 2: Convert label from one-hot to integer\n",
    "* Step 3: Calculate the accuracy score\n",
    "* Step 4: Generate classification report"
   ]
  },
  {
   "cell_type": "code",
   "execution_count": 10,
   "metadata": {},
   "outputs": [
    {
     "name": "stdout",
     "output_type": "stream",
     "text": [
      "Best accuracy (on testing dataset): 96.36%\n",
      "              precision    recall  f1-score   support\n",
      "\n",
      "   with_mask     0.9650    0.9611    0.9630       745\n",
      "without_mask     0.9623    0.9661    0.9642       766\n",
      "\n",
      "    accuracy                         0.9636      1511\n",
      "   macro avg     0.9636    0.9636    0.9636      1511\n",
      "weighted avg     0.9636    0.9636    0.9636      1511\n",
      "\n"
     ]
    }
   ],
   "source": [
    "# Step 1\n",
    "labelname   = ['with_mask',          # The label for reporting metrics\n",
    "               'without_mask']\n",
    "# Step 2\n",
    "predout     = np.argmax(predicts,axis=1)\n",
    "testout     = np.argmax(tsLbl,axis=1)\n",
    "\n",
    "# Step 3\n",
    "testScores  = metrics.accuracy_score(testout,predout)\n",
    "\n",
    "# Step 4\n",
    "print(\"Best accuracy (on testing dataset): %.2f%%\" % (testScores*100))\n",
    "print(metrics.classification_report(testout,\n",
    "                                    predout,\n",
    "                                    target_names=labelname,\n",
    "                                    digits=4))"
   ]
  },
  {
   "cell_type": "markdown",
   "metadata": {},
   "source": [
    "## **10. Print confusion matrix**\n",
    "---"
   ]
  },
  {
   "cell_type": "code",
   "execution_count": 11,
   "metadata": {},
   "outputs": [
    {
     "name": "stdout",
     "output_type": "stream",
     "text": [
      "[[716  29]\n",
      " [ 26 740]]\n"
     ]
    }
   ],
   "source": [
    "confusion   = metrics.confusion_matrix(testout,predout)\n",
    "print(confusion)"
   ]
  },
  {
   "cell_type": "markdown",
   "metadata": {},
   "source": [
    "## **11. Plot curves on validation loss and accuracy**\n",
    "---"
   ]
  },
  {
   "cell_type": "code",
   "execution_count": 12,
   "metadata": {},
   "outputs": [
    {
     "data": {
      "image/png": "[encoded data removed]",
      "text/plain": [
       "<Figure size 504x504 with 2 Axes>"
      ]
     },
     "metadata": {},
     "output_type": "display_data"
    }
   ],
   "source": [
    "records     = pd.read_csv(folderpath+modelname +'.csv')\n",
    "plt.figure()\n",
    "plt.subplot(211)\n",
    "plt.plot(records['val_loss'], label=\"validation\")\n",
    "plt.plot(records['loss'],label=\"training\")\n",
    "plt.yticks([0.00,0.50,1.00,1.50])\n",
    "plt.title('Loss value',fontsize=12)\n",
    "\n",
    "ax          = plt.gca()\n",
    "ax.set_xticklabels([])\n",
    "\n",
    "plt.subplot(212)\n",
    "plt.plot(records['val_accuracy'],label=\"validation\")\n",
    "plt.plot(records['accuracy'],label=\"training\")\n",
    "plt.yticks([0.5,0.6,0.7,0.8])\n",
    "plt.title('Accuracy',fontsize=12)\n",
    "ax.legend()\n",
    "plt.show()"
   ]
  },
  {
   "cell_type": "code",
   "execution_count": 13,
   "metadata": {},
   "outputs": [
    {
     "data": {
      "image/png": "[encoded data removed]",
      "text/plain": [
       "<IPython.core.display.Image object>"
      ]
     },
     "execution_count": 13,
     "metadata": {},
     "output_type": "execute_result"
    }
   ],
   "source": [
    "plotpath  = folderpath+modelname+'_plot.png'\n",
    "plot_model(model, \n",
    "           to_file=plotpath, \n",
    "           show_shapes=True, \n",
    "           show_layer_names=False,\n",
    "           rankdir='TB')\n"
   ]
  },
  {
   "cell_type": "code",
   "execution_count": 14,
   "metadata": {},
   "outputs": [
    {
     "name": "stdout",
     "output_type": "stream",
     "text": [
      "['/device:CPU:0']\n"
     ]
    }
   ],
   "source": [
    "from tensorflow.python.client import device_lib\n",
    "def get_available_devices():\n",
    "    local_device_protos = device_lib.list_local_devices()\n",
    "    return [x.name for x in local_device_protos]\n",
    "print(get_available_devices()) "
   ]
  },
  {
   "cell_type": "code",
   "execution_count": 15,
   "metadata": {},
   "outputs": [
    {
     "name": "stdout",
     "output_type": "stream",
     "text": [
      "Num GPUs Available:  0\n"
     ]
    }
   ],
   "source": [
    "import tensorflow as tf\n",
    "print(\"Num GPUs Available: \", len(tf.config.list_physical_devices('GPU')))"
   ]
  },
  {
   "cell_type": "code",
   "execution_count": 16,
   "metadata": {},
   "outputs": [
    {
     "data": {
      "text/plain": [
       "False"
      ]
     },
     "execution_count": 16,
     "metadata": {},
     "output_type": "execute_result"
    }
   ],
   "source": [
    "tf.test.is_built_with_cuda()"
   ]
  },
  {
   "cell_type": "code",
   "execution_count": null,
   "metadata": {},
   "outputs": [],
   "source": []
  }
 ],
 "metadata": {
  "kernelspec": {
   "display_name": "Python 3 (ipykernel)",
   "language": "python",
   "name": "python3"
  },
  "language_info": {
   "codemirror_mode": {
    "name": "ipython",
    "version": 3
   },
   "file_extension": ".py",
   "mimetype": "text/x-python",
   "name": "python",
   "nbconvert_exporter": "python",
   "pygments_lexer": "ipython3",
   "version": "3.7.11"
  }
 },
 "nbformat": 4,
 "nbformat_minor": 4
}
